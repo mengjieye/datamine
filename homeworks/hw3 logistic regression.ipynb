{
 "cells": [
  {
   "cell_type": "markdown",
   "metadata": {},
   "source": [
    "下载数据iris_data.csv。该数据是鸢尾花的原始数据，根据花萼和花瓣的长宽预测鸢尾花的种类。\n",
    "1. 数据清洗。\n",
    "    - 异常数据处理。包括有一些数据可能记录的单位错误，把米(m)当成厘米(cm)，种类名称不统一。\n",
    "    - 缺失值处理。可以利用各种插补方法补齐，也可以直接删除缺失值的记录。\n",
    "2. 二分类。选取setosa和versicolor两类数据做分类预测。\n",
    "3. 多分类。可以自定义softmax regression，也可以直接调用sklearn库中的logistic regression。"
   ]
  }
 ],
 "metadata": {
  "kernelspec": {
   "display_name": "Python 3.9.12 ('base')",
   "language": "python",
   "name": "python3"
  },
  "language_info": {
   "name": "python",
   "version": "3.9.12"
  },
  "orig_nbformat": 4,
  "vscode": {
   "interpreter": {
    "hash": "710c489be318cc3d6f6753991c2cdb54af1717af09718c546cf27fa5c770027a"
   }
  }
 },
 "nbformat": 4,
 "nbformat_minor": 2
}
