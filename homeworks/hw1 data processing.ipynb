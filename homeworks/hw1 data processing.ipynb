{
 "cells": [
  {
   "cell_type": "markdown",
   "metadata": {},
   "source": [
    "# 作业1 数据预处理\n",
    "\n",
    "下载数据 homeworks/data/kc_house_data.csv，完成下列任务：\n",
    "\n",
    "   1. 读取数据，并显示数据信息。\n",
    "   2. 随机抽样20%数据，以学号后三位作为随机种子。\n",
    "   3. 将 'price' 数据去掉 '$'符号后转换为数值。\n",
    "   4. 从原始数据中提取 ['price','bedrooms','bathrooms','sqft_living','yr_built']五列数据构成新的数据集，并获取统计数据，以发现新数据中的异常值和潜在的非标准数据。\n",
    "   5. 在新的数据集上筛选数据，要求保留 0 < bedrooms < 33 并且 0 < bathrooms < 7的数据。\n",
    "   6. 绘制数据列'yr_built'的直方图。\n",
    "   7. 绘制 'bedrooms' 和 'price'的关系图。\n",
    "   8. 绘制 'bathrooms' 和 'price'的关系图。\n",
    "   9. 绘制 'sqft_living' 和 'price'的关系图。\n",
    "   10. 绘制数据集的散点图矩阵scatter matrix，定性判断多个变量之间是否存在线性相关。\n",
    "   11. 定量计算多个变量之间的pearson系数，并绘制heatmap。"
   ]
  }
 ],
 "metadata": {
  "kernelspec": {
   "display_name": "Python 3 (ipykernel)",
   "language": "python",
   "name": "python3"
  },
  "language_info": {
   "codemirror_mode": {
    "name": "ipython",
    "version": 3
   },
   "file_extension": ".py",
   "mimetype": "text/x-python",
   "name": "python",
   "nbconvert_exporter": "python",
   "pygments_lexer": "ipython3",
   "version": "3.9.12"
  },
  "toc": {
   "base_numbering": 1,
   "nav_menu": {},
   "number_sections": true,
   "sideBar": true,
   "skip_h1_title": false,
   "title_cell": "Table of Contents",
   "title_sidebar": "Contents",
   "toc_cell": false,
   "toc_position": {},
   "toc_section_display": true,
   "toc_window_display": false
  },
  "vscode": {
   "interpreter": {
    "hash": "249b8578a041a4fc48dae2ecb25af571936f57c72007ba9cc0c7a83abc2a1f0c"
   }
  }
 },
 "nbformat": 4,
 "nbformat_minor": 2
}
