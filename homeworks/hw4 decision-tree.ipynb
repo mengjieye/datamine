{
 "cells": [
  {
   "cell_type": "markdown",
   "metadata": {},
   "source": [
    "# 决策树"
   ]
  },
  {
   "cell_type": "markdown",
   "metadata": {},
   "source": [
    "**目标是通过分析测量获得的细胞各类特征，预测该细胞是恶性还是良性。**\n",
    "\n",
    "1. 数据集hw4-data.csv属性介绍：\n",
    "   \n",
    "   - ID 序列号\n",
    "     \n",
    "   - Diagnosis (M表示恶性, B表示良性)\n",
    "     \n",
    "   - 3~32是测量的特征，分成三类：`*_mean`，`*_se`，`*_worst`，每一类有10种特征。\n",
    "     \n",
    "   - 其余是无效特征。\n",
    "\n",
    "2. 任务：\n",
    "\n",
    "    - 找到合适的分类模型。\n",
    "   \n",
    "3. 要求：\n",
    "   \n",
    "   - 按照8:2比例分割训练集和测试级，测试集精度越高所获得的最终成绩越高。\n",
    "  \n",
    "4. 建议：\n",
    "   - 数据预处理，去除冗余无关的特征。\n",
    "\n",
    "   - 通过分析各种特征的相关性，选择合适的特征分类。可以通过决策树或随机森林模型找到最重要的特征，或者采用单变量特征选择方法。\n",
    "     \n",
    "   - 根据选择的特征，选择SVM模型分类，测试 `SVM linear` 和 `SVM rbf` 的分类精度。"
   ]
  }
 ],
 "metadata": {
  "kernelspec": {
   "display_name": "Python 3.9.12 ('base')",
   "language": "python",
   "name": "python3"
  },
  "language_info": {
   "name": "python",
   "version": "3.9.12"
  },
  "orig_nbformat": 4,
  "vscode": {
   "interpreter": {
    "hash": "710c489be318cc3d6f6753991c2cdb54af1717af09718c546cf27fa5c770027a"
   }
  }
 },
 "nbformat": 4,
 "nbformat_minor": 2
}
