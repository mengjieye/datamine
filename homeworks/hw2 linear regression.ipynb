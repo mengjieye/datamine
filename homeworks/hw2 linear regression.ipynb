{
 "cells": [
  {
   "cell_type": "markdown",
   "id": "b525e7ae",
   "metadata": {},
   "source": [
    "# 第1题"
   ]
  },
  {
   "cell_type": "markdown",
   "id": "c7dc58eb",
   "metadata": {},
   "source": [
    "下表显示了一种快餐三明治中总脂肪克数和总热量之间的关系。找出这个数据的线性回归方程。\n",
    "\n",
    "$$\n",
    "\\begin{array}{ccccccc}\n",
    "\\hline\n",
    "脂肪 (g) & 9 & 13 & 21 & 30 & 31 & 32 & 34 \\\\\n",
    "卡路里 & 260 & 320 & 420 &  530 & 560 & 580 & 590 \\\\\n",
    "\\hline\n",
    "\\end{array}\n",
    "$$"
   ]
  },
  {
   "cell_type": "markdown",
   "id": "7b5c96ba",
   "metadata": {},
   "source": [
    "# 第2题"
   ]
  },
  {
   "cell_type": "markdown",
   "id": "43afc048",
   "metadata": {},
   "source": [
    "一个节目正在开展一项“冬季大衣运动”，收集并将大衣送到当地的避难所。他们正在收集这些外套，直到达到2100件外套的目标。右边的表格显示了每天活动结束时收集的大衣数量。\n",
    "$$\n",
    "\\begin{array}{ccccccc}\n",
    "\\hline\n",
    "\\text{活动天数} & 1  & 2 & 3 & 4 & 5 & 6 \\\\\n",
    "\\text{大衣数量} & 860 & 930 & 1000 & 1150 & 1200 & 1360 \\\\\n",
    "\\hline\n",
    "\\end{array}\n",
    "$$\n",
    "\n",
    "1. 确定这个数据的线性回归方程(以天数为x轴，大衣数量为y轴)\n",
    "\n",
    "2. 利用第1问的结果，预测活动达到目标的天数。\n"
   ]
  },
  {
   "cell_type": "markdown",
   "id": "4901dce3",
   "metadata": {},
   "source": [
    "# 第3题"
   ]
  },
  {
   "cell_type": "markdown",
   "id": "808908f5",
   "metadata": {},
   "source": [
    "一杯热咖啡在冬天时温度下降的规律可以用指数回归方程$T = \\alpha e ^{\\beta t}$模拟，根据下表给出的数据，预测咖啡在6分钟后的温度。\n",
    "$$\n",
    "\\begin{array}{ccccccc}\n",
    "\\hline\n",
    "\\text{时间（分钟）} & 0 & 1  & 2 & 3 & 4 & 5 \\\\\n",
    "\\text{温度（华氏）} & 180 & 160 & 138 & 125 & 110 & 95 \\\\\n",
    "\\hline\n",
    "\\end{array}\n",
    "$$\n",
    "\n"
   ]
  },
  {
   "cell_type": "markdown",
   "id": "cb2a5462",
   "metadata": {},
   "source": [
    "# 第4题"
   ]
  },
  {
   "cell_type": "markdown",
   "id": "53c4d1ae",
   "metadata": {},
   "source": [
    "使用scikit learn 自带的波士顿房价数据集，利用线性回归模型预测房价。输出回归系数，评价模型性能。尝试改进模型，例如增加特征数量。"
   ]
  },
  {
   "cell_type": "markdown",
   "id": "6e96a8d5",
   "metadata": {},
   "source": [
    "# 第5题"
   ]
  },
  {
   "cell_type": "markdown",
   "id": "9032149b",
   "metadata": {},
   "source": [
    "下载数据Fish.csv。该数据集是鱼市销售中7种常见不同鱼类的记录。主要目的是根据鱼的身体结构的一些测量来估计鱼的重量。"
   ]
  },
  {
   "cell_type": "markdown",
   "id": "7663d29e",
   "metadata": {},
   "source": [
    "1. 导入数据，显示数据基本信息。\n",
    "2. 数据清洗\n",
    " - 统计不同种类的鱼的直方图。\n",
    " - 分析不同特征与鱼的重量的关系。\n",
    " - 分析并清理异常值。(使用箱型图方法)\n",
    " - 特征相关性分析(删除高度线性相关的特征可能可以提高预测精度）\n",
    "3. 根据上述分析，选择合适的特征，建立预测鱼体重的回归模型，并计算模型的平均平方误差MSE，平均绝对误差MAE和决定系数R^2系数。\n",
    "\n",
    "建议：使用 statsmodels 分析模型，使用 scikit-learn 库建立最终模型。"
   ]
  }
 ],
 "metadata": {
  "kernelspec": {
   "display_name": "Python 3.9.12 ('base')",
   "language": "python",
   "name": "python3"
  },
  "language_info": {
   "codemirror_mode": {
    "name": "ipython",
    "version": 3
   },
   "file_extension": ".py",
   "mimetype": "text/x-python",
   "name": "python",
   "nbconvert_exporter": "python",
   "pygments_lexer": "ipython3",
   "version": "3.9.12"
  },
  "toc": {
   "base_numbering": 1,
   "nav_menu": {},
   "number_sections": true,
   "sideBar": true,
   "skip_h1_title": false,
   "title_cell": "Table of Contents",
   "title_sidebar": "Contents",
   "toc_cell": false,
   "toc_position": {},
   "toc_section_display": true,
   "toc_window_display": false
  },
  "vscode": {
   "interpreter": {
    "hash": "710c489be318cc3d6f6753991c2cdb54af1717af09718c546cf27fa5c770027a"
   }
  }
 },
 "nbformat": 4,
 "nbformat_minor": 5
}
