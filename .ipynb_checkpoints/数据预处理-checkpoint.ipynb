{
 "cells": [
  {
   "cell_type": "markdown",
   "metadata": {},
   "source": [
    "# 数据分析"
   ]
  },
  {
   "attachments": {},
   "cell_type": "markdown",
   "metadata": {},
   "source": [
    "## 描述性统计\n",
    "\n",
    "统计特征函数用于计算数据的均值、方差、标准差、分位数、相关系数、协方差等，这些统计特征能反映出数据的整体趋势。\n",
    "\n",
    "Python中采用Pandas库非常方便完成数据的统计。"
   ]
  },
  {
   "attachments": {},
   "cell_type": "markdown",
   "metadata": {},
   "source": [
    "1. 频数统计"
   ]
  },
  {
   "cell_type": "markdown",
   "metadata": {},
   "source": [
    "```python\n",
    "pandas.DataFrame.value_counts(subset = None, normalize= False, sort= True, ascending= False)\n",
    "```"
   ]
  },
  {
   "cell_type": "code",
   "execution_count": 7,
   "metadata": {},
   "outputs": [
    {
     "name": "stdout",
     "output_type": "stream",
     "text": [
      "        legs  wings\n",
      "falcon     2      2\n",
      "dog        4      0\n",
      "cat        4      0\n",
      "ant        6      0\n",
      "bee        6      4\n"
     ]
    }
   ],
   "source": [
    "import pandas as pd\n",
    "import numpy as np\n",
    "legs = [2,4,4,6,6]\n",
    "wings = [2,0,0,0,4]\n",
    "index = [\"falcon\", \"dog\", \"cat\", \"ant\", \"bee\"]\n",
    "\n",
    "df = pd.DataFrame(list(zip(legs, wings)), columns=[\"legs\", \"wings\"], index=index)\n",
    "print(df)"
   ]
  },
  {
   "cell_type": "code",
   "execution_count": 11,
   "metadata": {},
   "outputs": [
    {
     "data": {
      "text/plain": [
       "legs  wings\n",
       "4     0        2\n",
       "2     2        1\n",
       "6     0        1\n",
       "      4        1\n",
       "dtype: int64"
      ]
     },
     "execution_count": 11,
     "metadata": {},
     "output_type": "execute_result"
    }
   ],
   "source": [
    "#统计df各系列数据取值的组合情况的频次\n",
    "df.value_counts()"
   ]
  },
  {
   "attachments": {},
   "cell_type": "markdown",
   "metadata": {},
   "source": [
    "```python\n",
    "pandas.Series.value_counts(normalize=False, sort=True, ascending=False, bins=None, dropna=True)\n",
    "```"
   ]
  },
  {
   "cell_type": "markdown",
   "metadata": {},
   "source": [
    "统计legs的取值"
   ]
  },
  {
   "cell_type": "code",
   "execution_count": 15,
   "metadata": {},
   "outputs": [
    {
     "data": {
      "text/plain": [
       "array([2, 4, 6], dtype=int64)"
      ]
     },
     "execution_count": 15,
     "metadata": {},
     "output_type": "execute_result"
    }
   ],
   "source": [
    "df['legs'].unique()"
   ]
  },
  {
   "cell_type": "markdown",
   "metadata": {},
   "source": [
    "统计取值的频次比例"
   ]
  },
  {
   "cell_type": "code",
   "execution_count": 14,
   "metadata": {},
   "outputs": [
    {
     "data": {
      "text/plain": [
       "4    0.4\n",
       "6    0.4\n",
       "2    0.2\n",
       "Name: legs, dtype: float64"
      ]
     },
     "execution_count": 14,
     "metadata": {},
     "output_type": "execute_result"
    }
   ],
   "source": [
    "df['legs'].value_counts( normalize=True)  "
   ]
  },
  {
   "cell_type": "markdown",
   "metadata": {},
   "source": [
    "2. 集中趋势统计"
   ]
  },
  {
   "cell_type": "markdown",
   "metadata": {},
   "source": [
    "|函数|说明|\n",
    "|:--|:--|\n",
    "```.mean()``` | 计算数据中各列的均值\n",
    "```.median()``` | 计算数据中各列的中位数值\n",
    "```.mode()``` | 计算数据中各列的众数值\n",
    "```.quantile()``` | 计算数据中各列的四（n）分位数值\n"
   ]
  },
  {
   "cell_type": "code",
   "execution_count": 18,
   "metadata": {},
   "outputs": [
    {
     "data": {
      "text/plain": [
       "A    41.02\n",
       "B    51.52\n",
       "C    45.52\n",
       "dtype: float64"
      ]
     },
     "execution_count": 18,
     "metadata": {},
     "output_type": "execute_result"
    }
   ],
   "source": [
    "df = pd.DataFrame(np.random.randint(1,100,(50,3)),columns=list('ABC'))\n",
    "df.mean()    #计算各数据系列的均值\n"
   ]
  },
  {
   "cell_type": "code",
   "execution_count": 20,
   "metadata": {},
   "outputs": [
    {
     "data": {
      "text/plain": [
       "A    38.5\n",
       "B    50.0\n",
       "C    41.0\n",
       "dtype: float64"
      ]
     },
     "execution_count": 20,
     "metadata": {},
     "output_type": "execute_result"
    }
   ],
   "source": [
    "df.median() #计算各数据系列的中位数值"
   ]
  },
  {
   "cell_type": "code",
   "execution_count": 22,
   "metadata": {},
   "outputs": [
    {
     "data": {
      "text/plain": [
       "41.02"
      ]
     },
     "execution_count": 22,
     "metadata": {},
     "output_type": "execute_result"
    }
   ],
   "source": [
    "df['A'].mean()    #计算pandas.Series的均值"
   ]
  },
  {
   "cell_type": "code",
   "execution_count": 23,
   "metadata": {},
   "outputs": [
    {
     "data": {
      "text/plain": [
       "0    4\n",
       "Name: A, dtype: int32"
      ]
     },
     "execution_count": 23,
     "metadata": {},
     "output_type": "execute_result"
    }
   ],
   "source": [
    "df['A'].mode()     #计算pandas.Series的众数值"
   ]
  },
  {
   "cell_type": "code",
   "execution_count": 24,
   "metadata": {},
   "outputs": [
    {
     "data": {
      "text/html": [
       "<div>\n",
       "<style scoped>\n",
       "    .dataframe tbody tr th:only-of-type {\n",
       "        vertical-align: middle;\n",
       "    }\n",
       "\n",
       "    .dataframe tbody tr th {\n",
       "        vertical-align: top;\n",
       "    }\n",
       "\n",
       "    .dataframe thead th {\n",
       "        text-align: right;\n",
       "    }\n",
       "</style>\n",
       "<table border=\"1\" class=\"dataframe\">\n",
       "  <thead>\n",
       "    <tr style=\"text-align: right;\">\n",
       "      <th></th>\n",
       "      <th>A</th>\n",
       "      <th>B</th>\n",
       "      <th>C</th>\n",
       "    </tr>\n",
       "  </thead>\n",
       "  <tbody>\n",
       "    <tr>\n",
       "      <th>0.00</th>\n",
       "      <td>1.00</td>\n",
       "      <td>1.00</td>\n",
       "      <td>4.0</td>\n",
       "    </tr>\n",
       "    <tr>\n",
       "      <th>0.25</th>\n",
       "      <td>17.75</td>\n",
       "      <td>33.00</td>\n",
       "      <td>21.5</td>\n",
       "    </tr>\n",
       "    <tr>\n",
       "      <th>0.50</th>\n",
       "      <td>38.50</td>\n",
       "      <td>50.00</td>\n",
       "      <td>41.0</td>\n",
       "    </tr>\n",
       "    <tr>\n",
       "      <th>0.75</th>\n",
       "      <td>59.50</td>\n",
       "      <td>72.25</td>\n",
       "      <td>67.0</td>\n",
       "    </tr>\n",
       "    <tr>\n",
       "      <th>1.00</th>\n",
       "      <td>97.00</td>\n",
       "      <td>96.00</td>\n",
       "      <td>97.0</td>\n",
       "    </tr>\n",
       "  </tbody>\n",
       "</table>\n",
       "</div>"
      ],
      "text/plain": [
       "          A      B     C\n",
       "0.00   1.00   1.00   4.0\n",
       "0.25  17.75  33.00  21.5\n",
       "0.50  38.50  50.00  41.0\n",
       "0.75  59.50  72.25  67.0\n",
       "1.00  97.00  96.00  97.0"
      ]
     },
     "execution_count": 24,
     "metadata": {},
     "output_type": "execute_result"
    }
   ],
   "source": [
    "df.quantile(q=[0.0,0.25,0.5,0.75,1.0]) #计算各数据系列的四分位数"
   ]
  },
  {
   "cell_type": "code",
   "execution_count": 25,
   "metadata": {},
   "outputs": [
    {
     "data": {
      "text/plain": [
       "25.0"
      ]
     },
     "execution_count": 25,
     "metadata": {},
     "output_type": "execute_result"
    }
   ],
   "source": [
    "df['A'].quantile(q=0.35)     #计算特定分位数值"
   ]
  },
  {
   "attachments": {},
   "cell_type": "markdown",
   "metadata": {},
   "source": [
    "3. 离散程度分析"
   ]
  },
  {
   "attachments": {},
   "cell_type": "markdown",
   "metadata": {},
   "source": [
    "|函数|说明|\n",
    "|:--|:--|\n",
    "```.max()/min()``` | 计算数据中各系列的最大值和最小值\n",
    "```.std()``` | 计算数据中各系列的标准差值\n",
    "```.cov()``` | 计算数据中各系列的协方差值\n",
    "```numpy.ptp()``` | 计算数据中各系列的极差值"
   ]
  },
  {
   "cell_type": "code",
   "execution_count": 27,
   "metadata": {},
   "outputs": [],
   "source": [
    "df=pd.DataFrame(np.random.randint(1,100,(50,3)),columns=list('ABC'))"
   ]
  },
  {
   "cell_type": "code",
   "execution_count": 28,
   "metadata": {},
   "outputs": [],
   "source": [
    "df=pd.DataFrame(np.random.randint(1,100,(50,3)),columns=list('ABC'))"
   ]
  },
  {
   "cell_type": "code",
   "execution_count": 30,
   "metadata": {},
   "outputs": [
    {
     "data": {
      "text/plain": [
       "A    96\n",
       "B    98\n",
       "C    93\n",
       "dtype: int32"
      ]
     },
     "execution_count": 30,
     "metadata": {},
     "output_type": "execute_result"
    }
   ],
   "source": [
    "df.max() #计算各数据系列的最大"
   ]
  },
  {
   "cell_type": "code",
   "execution_count": 32,
   "metadata": {},
   "outputs": [
    {
     "data": {
      "text/plain": [
       "A    23.1800\n",
       "B    24.6000\n",
       "C    21.9568\n",
       "dtype: float64"
      ]
     },
     "execution_count": 32,
     "metadata": {},
     "output_type": "execute_result"
    }
   ],
   "source": [
    "df.mad() #计算各数据系列的平均绝对偏差"
   ]
  },
  {
   "cell_type": "code",
   "execution_count": 33,
   "metadata": {},
   "outputs": [
    {
     "data": {
      "text/plain": [
       "A    27.063983\n",
       "B    28.140580\n",
       "C    26.249167\n",
       "dtype: float64"
      ]
     },
     "execution_count": 33,
     "metadata": {},
     "output_type": "execute_result"
    }
   ],
   "source": [
    "df.std() #计算各数据系列的标准差值"
   ]
  },
  {
   "cell_type": "code",
   "execution_count": 35,
   "metadata": {},
   "outputs": [
    {
     "data": {
      "text/html": [
       "<div>\n",
       "<style scoped>\n",
       "    .dataframe tbody tr th:only-of-type {\n",
       "        vertical-align: middle;\n",
       "    }\n",
       "\n",
       "    .dataframe tbody tr th {\n",
       "        vertical-align: top;\n",
       "    }\n",
       "\n",
       "    .dataframe thead th {\n",
       "        text-align: right;\n",
       "    }\n",
       "</style>\n",
       "<table border=\"1\" class=\"dataframe\">\n",
       "  <thead>\n",
       "    <tr style=\"text-align: right;\">\n",
       "      <th></th>\n",
       "      <th>A</th>\n",
       "      <th>B</th>\n",
       "      <th>C</th>\n",
       "    </tr>\n",
       "  </thead>\n",
       "  <tbody>\n",
       "    <tr>\n",
       "      <th>A</th>\n",
       "      <td>732.459184</td>\n",
       "      <td>-27.102041</td>\n",
       "      <td>-67.000000</td>\n",
       "    </tr>\n",
       "    <tr>\n",
       "      <th>B</th>\n",
       "      <td>-27.102041</td>\n",
       "      <td>791.892245</td>\n",
       "      <td>22.177143</td>\n",
       "    </tr>\n",
       "    <tr>\n",
       "      <th>C</th>\n",
       "      <td>-67.000000</td>\n",
       "      <td>22.177143</td>\n",
       "      <td>689.018776</td>\n",
       "    </tr>\n",
       "  </tbody>\n",
       "</table>\n",
       "</div>"
      ],
      "text/plain": [
       "            A           B           C\n",
       "A  732.459184  -27.102041  -67.000000\n",
       "B  -27.102041  791.892245   22.177143\n",
       "C  -67.000000   22.177143  689.018776"
      ]
     },
     "execution_count": 35,
     "metadata": {},
     "output_type": "execute_result"
    }
   ],
   "source": [
    "df.cov()"
   ]
  },
  {
   "cell_type": "code",
   "execution_count": 36,
   "metadata": {},
   "outputs": [
    {
     "data": {
      "text/html": [
       "<div>\n",
       "<style scoped>\n",
       "    .dataframe tbody tr th:only-of-type {\n",
       "        vertical-align: middle;\n",
       "    }\n",
       "\n",
       "    .dataframe tbody tr th {\n",
       "        vertical-align: top;\n",
       "    }\n",
       "\n",
       "    .dataframe thead th {\n",
       "        text-align: right;\n",
       "    }\n",
       "</style>\n",
       "<table border=\"1\" class=\"dataframe\">\n",
       "  <thead>\n",
       "    <tr style=\"text-align: right;\">\n",
       "      <th></th>\n",
       "      <th>A</th>\n",
       "      <th>B</th>\n",
       "      <th>C</th>\n",
       "    </tr>\n",
       "  </thead>\n",
       "  <tbody>\n",
       "    <tr>\n",
       "      <th>count</th>\n",
       "      <td>50.000000</td>\n",
       "      <td>50.00000</td>\n",
       "      <td>50.000000</td>\n",
       "    </tr>\n",
       "    <tr>\n",
       "      <th>mean</th>\n",
       "      <td>44.500000</td>\n",
       "      <td>43.16000</td>\n",
       "      <td>46.040000</td>\n",
       "    </tr>\n",
       "    <tr>\n",
       "      <th>std</th>\n",
       "      <td>27.063983</td>\n",
       "      <td>28.14058</td>\n",
       "      <td>26.249167</td>\n",
       "    </tr>\n",
       "    <tr>\n",
       "      <th>min</th>\n",
       "      <td>1.000000</td>\n",
       "      <td>1.00000</td>\n",
       "      <td>1.000000</td>\n",
       "    </tr>\n",
       "    <tr>\n",
       "      <th>25%</th>\n",
       "      <td>23.500000</td>\n",
       "      <td>16.25000</td>\n",
       "      <td>25.000000</td>\n",
       "    </tr>\n",
       "    <tr>\n",
       "      <th>50%</th>\n",
       "      <td>39.500000</td>\n",
       "      <td>44.50000</td>\n",
       "      <td>48.500000</td>\n",
       "    </tr>\n",
       "    <tr>\n",
       "      <th>75%</th>\n",
       "      <td>66.000000</td>\n",
       "      <td>65.50000</td>\n",
       "      <td>67.000000</td>\n",
       "    </tr>\n",
       "    <tr>\n",
       "      <th>max</th>\n",
       "      <td>96.000000</td>\n",
       "      <td>98.00000</td>\n",
       "      <td>93.000000</td>\n",
       "    </tr>\n",
       "  </tbody>\n",
       "</table>\n",
       "</div>"
      ],
      "text/plain": [
       "               A         B          C\n",
       "count  50.000000  50.00000  50.000000\n",
       "mean   44.500000  43.16000  46.040000\n",
       "std    27.063983  28.14058  26.249167\n",
       "min     1.000000   1.00000   1.000000\n",
       "25%    23.500000  16.25000  25.000000\n",
       "50%    39.500000  44.50000  48.500000\n",
       "75%    66.000000  65.50000  67.000000\n",
       "max    96.000000  98.00000  93.000000"
      ]
     },
     "execution_count": 36,
     "metadata": {},
     "output_type": "execute_result"
    }
   ],
   "source": [
    "df.describe()"
   ]
  },
  {
   "cell_type": "markdown",
   "metadata": {},
   "source": [
    "## 相关性分析"
   ]
  },
  {
   "attachments": {},
   "cell_type": "markdown",
   "metadata": {},
   "source": [
    "```df.corr(method='pearson')```\n",
    "\n",
    "```s1.corr(s2, method='pearson')```\n",
    "\n",
    "1. 计算数据样本的Spearman（Pearson）相关系数矩阵,method参数为计算方法，支持pearson（皮尔森相关系数，默认选项）、kendall（肯德尔系数）、spearman（斯皮尔曼系数）\n",
    "\n",
    "2. s1、s2均为Series，这种格式指定计算两个Series之间的相关系数。\n"
   ]
  },
  {
   "cell_type": "code",
   "execution_count": 44,
   "metadata": {},
   "outputs": [
    {
     "name": "stdout",
     "output_type": "stream",
     "text": [
      "        国内生产  居民消费水平   固定资产投资  职工平均工资   货物周转量  居民消费价格指数  商品零售价格指数    工业总产值\n",
      "省份                                                                        \n",
      "北京   1394.89    2505   519.01    8144   373.9     117.3     112.6   843.43\n",
      "天津    920.11    2720   345.46    6501   342.8     115.2     110.6   582.51\n",
      "河北   2849.52    1258   704.87    4839  2033.3     115.2     115.8  1234.85\n",
      "山西   1092.48    1250   290.90    4721   717.3     116.9     115.6   697.25\n",
      "内蒙    832.88    1387   250.23    4134   781.7     117.5     116.8   419.39\n",
      "辽宁   2793.37    2397   387.99    4911  1371.1     116.1     114.0  1840.55\n",
      "吉林   1129.20    1872   320.45    4430   497.4     115.2     114.2   762.47\n",
      "黑龙江  2014.53    2334   435.73    4145   824.8     116.1     114.3  1240.37\n",
      "上海   2462.57    5343   996.48    9279   207.4     118.7     113.0  1642.95\n",
      "江苏   5155.25    1926  1434.95    5943  1025.5     115.8     114.3  2026.64\n",
      "浙江   3524.79    2249  1006.39    6619   754.4     116.6     113.5   916.59\n",
      "安徽   2003.58    1254   474.00    4609   908.3     114.8     112.7   824.14\n",
      "福建   2160.52    2320   553.97    5857   609.3     115.2     114.4   433.67\n",
      "江西   1205.11    1182   282.84    4211   411.7     116.9     115.9   571.84\n",
      "山东   5002.34    1527  1229.55    5145  1196.6     117.6     114.2  2207.69\n",
      "河南   3002.74    1034   670.35    4344  1574.4     116.5     114.9  1367.92\n",
      "湖北   2391.42    1527   571.68    4685   849.0     120.0     116.6  1220.72\n",
      "湖南   2195.70    1408   422.61    4797  1011.8     119.0     115.5   843.83\n",
      "广东   5381.72    2699  1639.83    8250   656.5     114.0     111.6  1396.35\n",
      "广西   1606.15    1314   382.59    5150   556.0     118.4     116.4   554.97\n",
      "海南    364.17    1814   198.35    5340   232.1     113.5     111.3    64.33\n",
      "四川   3534.00    1261   822.54    4645   902.3     118.5     117.0  1431.81\n",
      "贵州    630.07     942   150.84    4475   301.1     121.4     117.2   324.72\n",
      "云南   1206.68    1261   334.00    5149   310.4     121.3     118.1   716.65\n",
      "西藏     55.98    1110    17.87    7382     4.2     117.3     114.9     5.57\n",
      "陕西   1000.03    1208   300.27    4396   500.9     119.0     117.0   600.98\n",
      "甘肃    553.35    1007   114.81    5493   507.0     119.8     116.5   468.79\n",
      "青海    165.31    1445    47.76    5753    61.6     118.0     116.3   105.80\n",
      "宁夏    169.75    1355    61.98    5079   121.8     117.1     115.3   114.40\n",
      "新疆    834.57    1469   376.96    5348   339.0     119.7     116.7   428.76\n"
     ]
    }
   ],
   "source": [
    "data = pd.read_csv('./datas/地区经济发展竞争力评价.csv',index_col=0, engine='python', encoding='gb2312')\n",
    "print(data)"
   ]
  },
  {
   "cell_type": "code",
   "execution_count": 46,
   "metadata": {},
   "outputs": [
    {
     "name": "stdout",
     "output_type": "stream",
     "text": [
      "              国内生产    居民消费水平    固定资产投资    职工平均工资     货物周转量  居民消费价格指数  \\\n",
      "国内生产      1.000000  0.266765  0.950584  0.190384  0.617238 -0.272560   \n",
      "居民消费水平    0.266765  1.000000  0.426137  0.717755 -0.151012 -0.235139   \n",
      "固定资产投资    0.950584  0.426137  1.000000  0.399368  0.430623 -0.280486   \n",
      "职工平均工资    0.190384  0.717755  0.399368  1.000000 -0.355975 -0.134348   \n",
      "货物周转量     0.617238 -0.151012  0.430623 -0.355975  1.000000 -0.253175   \n",
      "居民消费价格指数 -0.272560 -0.235139 -0.280486 -0.134348 -0.253175  1.000000   \n",
      "商品零售价格指数 -0.263631 -0.592727 -0.359052 -0.538389  0.021722  0.762838   \n",
      "工业总产值     0.873744  0.363099  0.791861  0.103789  0.658577 -0.125217   \n",
      "\n",
      "          商品零售价格指数     工业总产值  \n",
      "国内生产     -0.263631  0.873744  \n",
      "居民消费水平   -0.592727  0.363099  \n",
      "固定资产投资   -0.359052  0.791861  \n",
      "职工平均工资   -0.538389  0.103789  \n",
      "货物周转量     0.021722  0.658577  \n",
      "居民消费价格指数  0.762838 -0.125217  \n",
      "商品零售价格指数  1.000000 -0.192074  \n",
      "工业总产值    -0.192074  1.000000  \n"
     ]
    }
   ],
   "source": [
    "corr = data.corr()  #计算产生相关系数矩阵\n",
    "print(corr)"
   ]
  },
  {
   "cell_type": "code",
   "execution_count": 55,
   "metadata": {
    "scrolled": true
   },
   "outputs": [
    {
     "data": {
      "text/plain": [
       "array([[ 1.        ,  0.26676487,  0.95058419,  0.19038412,  0.61723824,\n",
       "        -0.2725597 , -0.26363059,  0.87374374],\n",
       "       [ 0.26676487,  1.        ,  0.42613673,  0.71775496, -0.15101233,\n",
       "        -0.23513868, -0.59272738,  0.36309899],\n",
       "       [ 0.95058419,  0.42613673,  1.        ,  0.39936796,  0.43062284,\n",
       "        -0.28048581, -0.3590517 ,  0.79186051],\n",
       "       [ 0.19038412,  0.71775496,  0.39936796,  1.        , -0.35597525,\n",
       "        -0.13434765, -0.53838854,  0.10378907],\n",
       "       [ 0.61723824, -0.15101233,  0.43062284, -0.35597525,  1.        ,\n",
       "        -0.25317541,  0.02172214,  0.65857654],\n",
       "       [-0.2725597 , -0.23513868, -0.28048581, -0.13434765, -0.25317541,\n",
       "         1.        ,  0.762838  , -0.1252172 ],\n",
       "       [-0.26363059, -0.59272738, -0.3590517 , -0.53838854,  0.02172214,\n",
       "         0.762838  ,  1.        , -0.19207416],\n",
       "       [ 0.87374374,  0.36309899,  0.79186051,  0.10378907,  0.65857654,\n",
       "        -0.1252172 , -0.19207416,  1.        ]])"
      ]
     },
     "execution_count": 55,
     "metadata": {},
     "output_type": "execute_result"
    }
   ],
   "source": [
    "#采用numpy也可以计算相关系数\n",
    "corrcoef = np.corrcoef(data, rowvar=False)\n",
    "corrcoef"
   ]
  },
  {
   "cell_type": "code",
   "execution_count": 57,
   "metadata": {},
   "outputs": [
    {
     "data": {
      "text/plain": [
       "<AxesSubplot:>"
      ]
     },
     "execution_count": 57,
     "metadata": {},
     "output_type": "execute_result"
    },
    {
     "data": {
      "image/png": "[encoded data removed]",
      "text/plain": [
       "<Figure size 432x288 with 2 Axes>"
      ]
     },
     "metadata": {},
     "output_type": "display_data"
    }
   ],
   "source": [
    "#绘制相关系数矩阵热力图\n",
    "import seaborn as sns\n",
    "sns.set(font=\"simhei\")\n",
    "sns.heatmap(corr,  annot=True)"
   ]
  },
  {
   "cell_type": "markdown",
   "metadata": {},
   "source": [
    "# 数据预处理"
   ]
  },
  {
   "cell_type": "markdown",
   "metadata": {},
   "source": [
    "## 数据类型及精度转换\n",
    "### 类型转换"
   ]
  },
  {
   "cell_type": "markdown",
   "metadata": {},
   "source": [
    "使用多种数据类型或数据结构所具有的`.astype()`函数，可对数据类型和精度进行转换。例如可以将浮点数转换为字符串类型，将整数转换为浮点数，将浮点数转换为整数，将其他数据类型转换为日期时间类型等。\n"
   ]
  },
  {
   "cell_type": "markdown",
   "metadata": {},
   "source": [
    "```.astype()```"
   ]
  },
  {
   "cell_type": "code",
   "execution_count": 9,
   "metadata": {},
   "outputs": [
    {
     "name": "stdout",
     "output_type": "stream",
     "text": [
      "[[0.41766134 0.31883649]\n",
      " [0.0143561  0.59175304]\n",
      " [0.82353064 0.52332223]]\n"
     ]
    },
    {
     "data": {
      "text/plain": [
       "dtype('float64')"
      ]
     },
     "execution_count": 9,
     "metadata": {},
     "output_type": "execute_result"
    }
   ],
   "source": [
    "import numpy as np\n",
    "\n",
    "dat = np.array([[0.41766134, 0.31883649],\n",
    "       [0.0143561 , 0.59175304],\n",
    "       [0.82353064, 0.52332223]])\n",
    "print(dat)\n",
    "dat.dtype\n"
   ]
  },
  {
   "cell_type": "markdown",
   "metadata": {},
   "source": [
    "将数据转换为str类型"
   ]
  },
  {
   "cell_type": "code",
   "execution_count": 4,
   "metadata": {},
   "outputs": [
    {
     "data": {
      "text/plain": [
       "array([['0.41766134', '0.31883649'],\n",
       "       ['0.0143561', '0.59175304'],\n",
       "       ['0.82353064', '0.52332223']], dtype='<U32')"
      ]
     },
     "execution_count": 4,
     "metadata": {},
     "output_type": "execute_result"
    }
   ],
   "source": [
    "dat.astype('str')"
   ]
  },
  {
   "cell_type": "code",
   "execution_count": 11,
   "metadata": {},
   "outputs": [
    {
     "name": "stdout",
     "output_type": "stream",
     "text": [
      "[[9 8 3]\n",
      " [9 6 8]]\n"
     ]
    },
    {
     "data": {
      "text/plain": [
       "dtype('int32')"
      ]
     },
     "execution_count": 11,
     "metadata": {},
     "output_type": "execute_result"
    }
   ],
   "source": [
    "dat =  np.array([[9, 8, 3],\n",
    "       [9, 6, 8]])\n",
    "print(dat)\n",
    "dat.dtype"
   ]
  },
  {
   "cell_type": "code",
   "execution_count": 17,
   "metadata": {},
   "outputs": [
    {
     "name": "stdout",
     "output_type": "stream",
     "text": [
      "[[9. 8. 3.]\n",
      " [9. 6. 8.]]\n"
     ]
    }
   ],
   "source": [
    "print(dat.astype('float64'))"
   ]
  },
  {
   "cell_type": "markdown",
   "metadata": {},
   "source": [
    "### 时间转换"
   ]
  },
  {
   "cell_type": "markdown",
   "metadata": {},
   "source": [
    "利用pandas可以比较方面处理时间类型数据，比如`pandas.to_datetime()`。\n"
   ]
  },
  {
   "cell_type": "code",
   "execution_count": 19,
   "metadata": {},
   "outputs": [],
   "source": [
    "import pandas as pd"
   ]
  },
  {
   "cell_type": "code",
   "execution_count": 20,
   "metadata": {},
   "outputs": [
    {
     "data": {
      "text/plain": [
       "Timestamp('2020-07-28 00:00:00')"
      ]
     },
     "execution_count": 20,
     "metadata": {},
     "output_type": "execute_result"
    }
   ],
   "source": [
    "pd.to_datetime('2020/07/28') #将字符串转换为日期时间"
   ]
  },
  {
   "cell_type": "code",
   "execution_count": 21,
   "metadata": {},
   "outputs": [
    {
     "data": {
      "text/plain": [
       "Timestamp('2020-07-28 13:24:35')"
      ]
     },
     "execution_count": 21,
     "metadata": {},
     "output_type": "execute_result"
    }
   ],
   "source": [
    "pd.to_datetime('20200728132435', format='%Y%m%d%H%M%S')"
   ]
  },
  {
   "cell_type": "code",
   "execution_count": 22,
   "metadata": {},
   "outputs": [
    {
     "data": {
      "text/plain": [
       "Timestamp('1970-01-01 04:08:21.933502912')"
      ]
     },
     "execution_count": 22,
     "metadata": {},
     "output_type": "execute_result"
    }
   ],
   "source": [
    "pd.to_datetime(14901933502912, unit='ns') #将时间值转换为日期时间\n"
   ]
  },
  {
   "cell_type": "markdown",
   "metadata": {},
   "source": [
    "将股票数据中的时间转换为datetime类型"
   ]
  },
  {
   "cell_type": "code",
   "execution_count": 59,
   "metadata": {},
   "outputs": [
    {
     "data": {
      "text/html": [
       "<div>\n",
       "<style scoped>\n",
       "    .dataframe tbody tr th:only-of-type {\n",
       "        vertical-align: middle;\n",
       "    }\n",
       "\n",
       "    .dataframe tbody tr th {\n",
       "        vertical-align: top;\n",
       "    }\n",
       "\n",
       "    .dataframe thead th {\n",
       "        text-align: right;\n",
       "    }\n",
       "</style>\n",
       "<table border=\"1\" class=\"dataframe\">\n",
       "  <thead>\n",
       "    <tr style=\"text-align: right;\">\n",
       "      <th></th>\n",
       "      <th>Date</th>\n",
       "      <th>Close</th>\n",
       "      <th>High</th>\n",
       "      <th>Low</th>\n",
       "      <th>Open</th>\n",
       "      <th>Volume</th>\n",
       "    </tr>\n",
       "  </thead>\n",
       "  <tbody>\n",
       "    <tr>\n",
       "      <th>0</th>\n",
       "      <td>1991/1/2</td>\n",
       "      <td>128.84</td>\n",
       "      <td>128.84</td>\n",
       "      <td>127.61</td>\n",
       "      <td>127.61</td>\n",
       "      <td>91</td>\n",
       "    </tr>\n",
       "    <tr>\n",
       "      <th>1</th>\n",
       "      <td>1991/1/3</td>\n",
       "      <td>130.14</td>\n",
       "      <td>130.14</td>\n",
       "      <td>128.84</td>\n",
       "      <td>128.84</td>\n",
       "      <td>141</td>\n",
       "    </tr>\n",
       "    <tr>\n",
       "      <th>2</th>\n",
       "      <td>1991/1/4</td>\n",
       "      <td>131.44</td>\n",
       "      <td>131.44</td>\n",
       "      <td>130.14</td>\n",
       "      <td>131.27</td>\n",
       "      <td>420</td>\n",
       "    </tr>\n",
       "    <tr>\n",
       "      <th>3</th>\n",
       "      <td>1991/1/7</td>\n",
       "      <td>132.06</td>\n",
       "      <td>132.06</td>\n",
       "      <td>131.45</td>\n",
       "      <td>131.99</td>\n",
       "      <td>217</td>\n",
       "    </tr>\n",
       "    <tr>\n",
       "      <th>4</th>\n",
       "      <td>1991/1/8</td>\n",
       "      <td>132.68</td>\n",
       "      <td>132.68</td>\n",
       "      <td>132.06</td>\n",
       "      <td>132.62</td>\n",
       "      <td>2926</td>\n",
       "    </tr>\n",
       "  </tbody>\n",
       "</table>\n",
       "</div>"
      ],
      "text/plain": [
       "       Date   Close    High     Low    Open  Volume\n",
       "0  1991/1/2  128.84  128.84  127.61  127.61      91\n",
       "1  1991/1/3  130.14  130.14  128.84  128.84     141\n",
       "2  1991/1/4  131.44  131.44  130.14  131.27     420\n",
       "3  1991/1/7  132.06  132.06  131.45  131.99     217\n",
       "4  1991/1/8  132.68  132.68  132.06  132.62    2926"
      ]
     },
     "execution_count": 59,
     "metadata": {},
     "output_type": "execute_result"
    }
   ],
   "source": [
    "df = pd.read_csv(r'./datas/上证指数.csv')\n",
    "df.head()\n"
   ]
  },
  {
   "cell_type": "code",
   "execution_count": 60,
   "metadata": {},
   "outputs": [
    {
     "name": "stdout",
     "output_type": "stream",
     "text": [
      "                Close       High        Low       Open     Volume\n",
      "Date                                                             \n",
      "2020-01-02  3085.1976  3098.1001  3066.3357  3066.3357  292470208\n",
      "2020-01-03  3083.7858  3093.8192  3074.5178  3089.0220  261496667\n",
      "2020-01-06  3083.4083  3107.2032  3065.3088  3070.9088  312575842\n",
      "2020-01-07  3104.8015  3105.4507  3084.3290  3085.4882  276583111\n",
      "2020-01-08  3066.8925  3094.2389  3059.1313  3094.2389  297872553\n",
      "                Close       High        Low       Open     Volume\n",
      "Date                                                             \n",
      "2020-03-25  2781.5913  2788.6354  2757.8016  2775.3032  273144466\n",
      "2020-03-26  2764.9109  2788.5038  2753.4282  2761.8961  234084022\n",
      "2020-03-27  2772.2033  2805.5479  2771.7563  2792.9843  240764066\n",
      "2020-03-30  2747.2138  2759.0989  2723.0543  2739.7191  239706604\n",
      "2020-03-31  2750.2962  2771.1683  2743.1154  2767.3072  218598674\n"
     ]
    }
   ],
   "source": [
    "df.set_index(['Date'], inplace=True)  \t#使用'日期'属性作为df的index\n",
    "df.index = pd.to_datetime(df.index)   \t#将index设为datetime类型\n",
    "df = df['2020-01':'2020-03']     \t\t#选取2020年1月份至3月份的数据\n",
    "print(df.head(5))\n",
    "print(df.tail(5))\n"
   ]
  },
  {
   "cell_type": "markdown",
   "metadata": {},
   "source": [
    "## 数据抽样\n",
    "\n",
    "通常，原始数据的体量非常庞大，在进行数据处理时，为了满足处理过程的及时性和可操作性的要求，仅需抽取其中有代表性的、能说明问题的数据进行计算处理。常用的抽样方法有简单随机抽样、系统抽样、分层抽样、整群抽样等。\n",
    "\n"
   ]
  },
  {
   "cell_type": "markdown",
   "metadata": {},
   "source": [
    "1. \n",
    "```python\n",
    "pandas.DataFrame.sample(n=None, frac=None, replace=False, weights=None, random_state=None, axis=None)\n",
    "```\n",
    "\n",
    "输入参数说明：\n",
    "\n",
    "- n 抽样个数\n",
    "- frac 抽样比例（注意，参数n和frac不能同时使用）\n",
    "- replace 设置是否返回抽样（如果frac对于1，则应设置为True）\n",
    "- weights 为抽样权重，可以是一组对Series或DataFrame的index进行加权的序列，也可以将DataFrame中某数据系列指定为（经归一化处理的）加权序列，默认值None表示等概率权重。\n",
    "- axis 指定按行抽样（0或者'index')还是按列（1或'columns'）抽样\n",
    "\n",
    "输出：\n",
    "- 返回抽样结果\n"
   ]
  },
  {
   "cell_type": "code",
   "execution_count": 61,
   "metadata": {},
   "outputs": [
    {
     "data": {
      "text/html": [
       "<div>\n",
       "<style scoped>\n",
       "    .dataframe tbody tr th:only-of-type {\n",
       "        vertical-align: middle;\n",
       "    }\n",
       "\n",
       "    .dataframe tbody tr th {\n",
       "        vertical-align: top;\n",
       "    }\n",
       "\n",
       "    .dataframe thead th {\n",
       "        text-align: right;\n",
       "    }\n",
       "</style>\n",
       "<table border=\"1\" class=\"dataframe\">\n",
       "  <thead>\n",
       "    <tr style=\"text-align: right;\">\n",
       "      <th></th>\n",
       "      <th>code</th>\n",
       "      <th>number</th>\n",
       "      <th>value</th>\n",
       "      <th>level</th>\n",
       "      <th>score</th>\n",
       "    </tr>\n",
       "  </thead>\n",
       "  <tbody>\n",
       "    <tr>\n",
       "      <th>KEVIN</th>\n",
       "      <td>5</td>\n",
       "      <td>0</td>\n",
       "      <td>3</td>\n",
       "      <td>3</td>\n",
       "      <td>7</td>\n",
       "    </tr>\n",
       "    <tr>\n",
       "      <th>SAM</th>\n",
       "      <td>9</td>\n",
       "      <td>3</td>\n",
       "      <td>5</td>\n",
       "      <td>2</td>\n",
       "      <td>4</td>\n",
       "    </tr>\n",
       "    <tr>\n",
       "      <th>PETER</th>\n",
       "      <td>7</td>\n",
       "      <td>6</td>\n",
       "      <td>8</td>\n",
       "      <td>8</td>\n",
       "      <td>1</td>\n",
       "    </tr>\n",
       "    <tr>\n",
       "      <th>HELEN</th>\n",
       "      <td>6</td>\n",
       "      <td>7</td>\n",
       "      <td>7</td>\n",
       "      <td>8</td>\n",
       "      <td>1</td>\n",
       "    </tr>\n",
       "    <tr>\n",
       "      <th>SMITH</th>\n",
       "      <td>5</td>\n",
       "      <td>9</td>\n",
       "      <td>8</td>\n",
       "      <td>9</td>\n",
       "      <td>4</td>\n",
       "    </tr>\n",
       "  </tbody>\n",
       "</table>\n",
       "</div>"
      ],
      "text/plain": [
       "       code  number  value  level  score\n",
       "KEVIN     5       0      3      3      7\n",
       "SAM       9       3      5      2      4\n",
       "PETER     7       6      8      8      1\n",
       "HELEN     6       7      7      8      1\n",
       "SMITH     5       9      8      9      4"
      ]
     },
     "execution_count": 61,
     "metadata": {},
     "output_type": "execute_result"
    }
   ],
   "source": [
    "data = {\n",
    "    'code':{'KEVIN':5, 'SAM':9, 'PETER':7, 'HELEN':6, 'SMITH':5},\n",
    "    'number':{'KEVIN':0, 'SAM':3, 'PETER':6, 'HELEN':7, 'SMITH':9},\n",
    "    'value':{'KEVIN':3, 'SAM':5, 'PETER':8, 'HELEN':7, 'SMITH':8},\n",
    "    'level':{'KEVIN':3, 'SAM':2, 'PETER':8, 'HELEN':8, 'SMITH':9},\n",
    "    'score':{'KEVIN':7, 'SAM':4, 'PETER':1, 'HELEN':1, 'SMITH':4}\n",
    "}\n",
    "\n",
    "df = pd.DataFrame(data)\n",
    "\n",
    "df"
   ]
  },
  {
   "cell_type": "code",
   "execution_count": 38,
   "metadata": {},
   "outputs": [
    {
     "data": {
      "text/html": [
       "<div>\n",
       "<style scoped>\n",
       "    .dataframe tbody tr th:only-of-type {\n",
       "        vertical-align: middle;\n",
       "    }\n",
       "\n",
       "    .dataframe tbody tr th {\n",
       "        vertical-align: top;\n",
       "    }\n",
       "\n",
       "    .dataframe thead th {\n",
       "        text-align: right;\n",
       "    }\n",
       "</style>\n",
       "<table border=\"1\" class=\"dataframe\">\n",
       "  <thead>\n",
       "    <tr style=\"text-align: right;\">\n",
       "      <th></th>\n",
       "      <th>code</th>\n",
       "      <th>number</th>\n",
       "      <th>value</th>\n",
       "      <th>level</th>\n",
       "      <th>score</th>\n",
       "    </tr>\n",
       "  </thead>\n",
       "  <tbody>\n",
       "    <tr>\n",
       "      <th>KEVIN</th>\n",
       "      <td>5</td>\n",
       "      <td>0</td>\n",
       "      <td>3</td>\n",
       "      <td>3</td>\n",
       "      <td>7</td>\n",
       "    </tr>\n",
       "    <tr>\n",
       "      <th>PETER</th>\n",
       "      <td>7</td>\n",
       "      <td>6</td>\n",
       "      <td>8</td>\n",
       "      <td>8</td>\n",
       "      <td>1</td>\n",
       "    </tr>\n",
       "  </tbody>\n",
       "</table>\n",
       "</div>"
      ],
      "text/plain": [
       "       code  number  value  level  score\n",
       "KEVIN     5       0      3      3      7\n",
       "PETER     7       6      8      8      1"
      ]
     },
     "execution_count": 38,
     "metadata": {},
     "output_type": "execute_result"
    }
   ],
   "source": [
    "df.sample(n=2,weights=(0.9,0.05,0.05,0,0)) "
   ]
  },
  {
   "cell_type": "code",
   "execution_count": 39,
   "metadata": {},
   "outputs": [
    {
     "data": {
      "text/html": [
       "<div>\n",
       "<style scoped>\n",
       "    .dataframe tbody tr th:only-of-type {\n",
       "        vertical-align: middle;\n",
       "    }\n",
       "\n",
       "    .dataframe tbody tr th {\n",
       "        vertical-align: top;\n",
       "    }\n",
       "\n",
       "    .dataframe thead th {\n",
       "        text-align: right;\n",
       "    }\n",
       "</style>\n",
       "<table border=\"1\" class=\"dataframe\">\n",
       "  <thead>\n",
       "    <tr style=\"text-align: right;\">\n",
       "      <th></th>\n",
       "      <th>code</th>\n",
       "      <th>number</th>\n",
       "      <th>value</th>\n",
       "      <th>level</th>\n",
       "      <th>score</th>\n",
       "    </tr>\n",
       "  </thead>\n",
       "  <tbody>\n",
       "    <tr>\n",
       "      <th>SMITH</th>\n",
       "      <td>5</td>\n",
       "      <td>9</td>\n",
       "      <td>8</td>\n",
       "      <td>9</td>\n",
       "      <td>4</td>\n",
       "    </tr>\n",
       "    <tr>\n",
       "      <th>PETER</th>\n",
       "      <td>7</td>\n",
       "      <td>6</td>\n",
       "      <td>8</td>\n",
       "      <td>8</td>\n",
       "      <td>1</td>\n",
       "    </tr>\n",
       "  </tbody>\n",
       "</table>\n",
       "</div>"
      ],
      "text/plain": [
       "       code  number  value  level  score\n",
       "SMITH     5       9      8      9      4\n",
       "PETER     7       6      8      8      1"
      ]
     },
     "execution_count": 39,
     "metadata": {},
     "output_type": "execute_result"
    }
   ],
   "source": [
    "df.sample(n=2, weights='number')    #按df['number']的值进行加权\n"
   ]
  },
  {
   "cell_type": "markdown",
   "metadata": {},
   "source": [
    "2. \n",
    "\n",
    "```numpy.random.sample()```\n"
   ]
  },
  {
   "cell_type": "code",
   "execution_count": 44,
   "metadata": {},
   "outputs": [
    {
     "data": {
      "text/plain": [
       "200"
      ]
     },
     "execution_count": 44,
     "metadata": {},
     "output_type": "execute_result"
    }
   ],
   "source": [
    "import random\n",
    "data = np.random.randint(1, 10, size=(1000, 5)) #产生1000个数据样本\n",
    "sample = random.sample(data.tolist(), 200)  #随机抽取200个\n",
    "len(sample)\n",
    "\n"
   ]
  },
  {
   "cell_type": "markdown",
   "metadata": {},
   "source": [
    "3. \n",
    "```sklearn.model_selection.train_test_split(arrays, * options)```\n",
    "\n",
    "- 参数：\n",
    "    - x 数据集的特征值\n",
    "    - y 数据集的标签值\n",
    "    - test_size 测试集的大小，一般为float\n",
    "    - random_state 随机数种子，不同的种子会造成不同的随机采样结果。相同的种子采样结果相同。\n",
    "\n",
    "- 返回值\n",
    "    - x_train, x_test, y_train, y_test\n"
   ]
  },
  {
   "cell_type": "code",
   "execution_count": 65,
   "metadata": {
    "scrolled": true
   },
   "outputs": [
    {
     "name": "stdout",
     "output_type": "stream",
     "text": [
      "Int64Index([43, 62,  3, 71, 45, 48,  6, 99, 82, 76, 60, 80, 90, 68, 51, 27, 18,\n",
      "            56, 63, 74,  1, 61, 42, 41,  4, 15, 17, 40, 38,  5, 91, 59,  0, 34,\n",
      "            28, 50, 11, 35, 23, 52, 10, 31, 66, 57, 79, 85, 32, 84, 14, 89, 19,\n",
      "            29, 49, 97, 98, 69, 20, 94, 72, 77, 25, 37, 81, 46, 39, 65, 58, 12,\n",
      "            88, 70, 87, 36, 21, 83,  9, 96, 67, 64, 47, 44],\n",
      "           dtype='int64') \n",
      "\n",
      " Int64Index([26, 86, 2, 55, 75, 93, 16, 73, 54, 95, 53, 92, 78, 13, 7, 30, 22,\n",
      "            24, 33, 8],\n",
      "           dtype='int64')\n"
     ]
    }
   ],
   "source": [
    "from sklearn import model_selection\n",
    "X = pd.DataFrame(np.random.rand(100,4)) #pandas.DataFrame数据\n",
    "y = np.random.rand(100,2)\n",
    "X_train, X_test, y_train, y_test = model_selection.train_test_split(X, y, test_size = 0.2, random_state = 0)\n",
    "print(X_train.index, '\\n\\n', X_test.index)\n"
   ]
  },
  {
   "attachments": {},
   "cell_type": "markdown",
   "metadata": {},
   "source": [
    "## 数据清洗\n",
    "\n",
    "数据清洗主要是删除原始数据集中的无关数据、重复数据，平滑噪声数据，处理缺失值、异常值等。"
   ]
  },
  {
   "attachments": {},
   "cell_type": "markdown",
   "metadata": {},
   "source": [
    "### 缺失值处理\n",
    "\n",
    "处理缺失值的方法可分为三类：删除记录、数据插补和不处理。\n",
    "\n",
    "数据中的缺失值，可以通过由本数据系列进行估算，或者从其它相关的数据系列推导出一个估算值，来进行填补。实际应用中，可根据数据的不同特性和要求，选择适当的估值推算方法。\n",
    "\n"
   ]
  },
  {
   "cell_type": "markdown",
   "metadata": {},
   "source": [
    "- 中值、均值或众数插补\n",
    "\n",
    "- 使用固定值\n",
    "\n",
    "- 最近邻插补\n",
    "\n",
    "- 拟合方法\n",
    "\n",
    "- 插值方法"
   ]
  },
  {
   "cell_type": "markdown",
   "metadata": {},
   "source": [
    "1. 查找缺失值"
   ]
  },
  {
   "cell_type": "markdown",
   "metadata": {},
   "source": [
    "```DataFraem.isnull()```\n",
    "\n",
    "```DataFraem.isna()```\n",
    "\n",
    "- NumPy 查找NaN值用np.isnan()。\n",
    "- Pandas查找NaN值要么.isna()，要么.isnull(),两者是一样的，NaN源于 Pandas 构建在 NumPy 之上，而这两个函数的名称源自R的DataFrame，Pandas就是试图模仿它的结构和功能。"
   ]
  },
  {
   "cell_type": "code",
   "execution_count": 73,
   "metadata": {},
   "outputs": [
    {
     "data": {
      "text/html": [
       "<div>\n",
       "<style scoped>\n",
       "    .dataframe tbody tr th:only-of-type {\n",
       "        vertical-align: middle;\n",
       "    }\n",
       "\n",
       "    .dataframe tbody tr th {\n",
       "        vertical-align: top;\n",
       "    }\n",
       "\n",
       "    .dataframe thead th {\n",
       "        text-align: right;\n",
       "    }\n",
       "</style>\n",
       "<table border=\"1\" class=\"dataframe\">\n",
       "  <thead>\n",
       "    <tr style=\"text-align: right;\">\n",
       "      <th></th>\n",
       "      <th>code</th>\n",
       "      <th>number</th>\n",
       "      <th>value</th>\n",
       "      <th>level</th>\n",
       "      <th>score</th>\n",
       "    </tr>\n",
       "  </thead>\n",
       "  <tbody>\n",
       "    <tr>\n",
       "      <th>KEVIN</th>\n",
       "      <td>5</td>\n",
       "      <td>0</td>\n",
       "      <td>3.0</td>\n",
       "      <td>3</td>\n",
       "      <td>7</td>\n",
       "    </tr>\n",
       "    <tr>\n",
       "      <th>SAM</th>\n",
       "      <td>9</td>\n",
       "      <td>3</td>\n",
       "      <td>5.0</td>\n",
       "      <td>2</td>\n",
       "      <td>4</td>\n",
       "    </tr>\n",
       "    <tr>\n",
       "      <th>PETER</th>\n",
       "      <td>7</td>\n",
       "      <td>6</td>\n",
       "      <td>NaN</td>\n",
       "      <td>8</td>\n",
       "      <td>1</td>\n",
       "    </tr>\n",
       "    <tr>\n",
       "      <th>HELEN</th>\n",
       "      <td>6</td>\n",
       "      <td>7</td>\n",
       "      <td>7.0</td>\n",
       "      <td>8</td>\n",
       "      <td>1</td>\n",
       "    </tr>\n",
       "    <tr>\n",
       "      <th>SMITH</th>\n",
       "      <td>5</td>\n",
       "      <td>9</td>\n",
       "      <td>8.0</td>\n",
       "      <td>9</td>\n",
       "      <td>4</td>\n",
       "    </tr>\n",
       "  </tbody>\n",
       "</table>\n",
       "</div>"
      ],
      "text/plain": [
       "       code  number  value  level  score\n",
       "KEVIN     5       0    3.0      3      7\n",
       "SAM       9       3    5.0      2      4\n",
       "PETER     7       6    NaN      8      1\n",
       "HELEN     6       7    7.0      8      1\n",
       "SMITH     5       9    8.0      9      4"
      ]
     },
     "execution_count": 73,
     "metadata": {},
     "output_type": "execute_result"
    }
   ],
   "source": [
    "df =pd.DataFrame({\n",
    "    'code':{'KEVIN':5, 'SAM':9, 'PETER':7, 'HELEN':6, 'SMITH':5},\n",
    "    'number':{'KEVIN':0, 'SAM':3, 'PETER':6, 'HELEN':7, 'SMITH':9},\n",
    "    'value':{'KEVIN':3, 'SAM':5, 'PETER':np.nan, 'HELEN':7, 'SMITH':8},\n",
    "    'level':{'KEVIN':3, 'SAM':2, 'PETER':8, 'HELEN':8, 'SMITH':9},\n",
    "    'score':{'KEVIN':7, 'SAM':4, 'PETER':1, 'HELEN':1, 'SMITH':4}\n",
    "})\n",
    "df"
   ]
  },
  {
   "cell_type": "code",
   "execution_count": 72,
   "metadata": {},
   "outputs": [
    {
     "data": {
      "text/plain": [
       "KEVIN    False\n",
       "SAM      False\n",
       "PETER     True\n",
       "HELEN    False\n",
       "SMITH    False\n",
       "Name: value, dtype: bool"
      ]
     },
     "execution_count": 72,
     "metadata": {},
     "output_type": "execute_result"
    }
   ],
   "source": [
    "df['value'].isnull()  #判断数据系列中是否有NaN值"
   ]
  },
  {
   "cell_type": "code",
   "execution_count": 75,
   "metadata": {},
   "outputs": [
    {
     "data": {
      "text/plain": [
       "KEVIN    False\n",
       "SAM      False\n",
       "PETER     True\n",
       "HELEN    False\n",
       "SMITH    False\n",
       "Name: value, dtype: bool"
      ]
     },
     "execution_count": 75,
     "metadata": {},
     "output_type": "execute_result"
    }
   ],
   "source": [
    "df['value'].isna() "
   ]
  },
  {
   "cell_type": "code",
   "execution_count": 77,
   "metadata": {},
   "outputs": [
    {
     "data": {
      "text/plain": [
       "code      False\n",
       "number    False\n",
       "value      True\n",
       "level     False\n",
       "score     False\n",
       "Name: PETER, dtype: bool"
      ]
     },
     "execution_count": 77,
     "metadata": {},
     "output_type": "execute_result"
    }
   ],
   "source": [
    "df.loc['PETER'].isna()    #判断特定数据样本中是否有为NaN的属性值"
   ]
  },
  {
   "cell_type": "markdown",
   "metadata": {},
   "source": [
    "2. 删除缺失值"
   ]
  },
  {
   "cell_type": "markdown",
   "metadata": {},
   "source": [
    "```python\n",
    "pandas.DataFrame.dropna(axis=0, how='any', thresh=None, subset=None, inplace=False)\n",
    "\n",
    "```"
   ]
  },
  {
   "cell_type": "code",
   "execution_count": 78,
   "metadata": {},
   "outputs": [
    {
     "data": {
      "text/html": [
       "<div>\n",
       "<style scoped>\n",
       "    .dataframe tbody tr th:only-of-type {\n",
       "        vertical-align: middle;\n",
       "    }\n",
       "\n",
       "    .dataframe tbody tr th {\n",
       "        vertical-align: top;\n",
       "    }\n",
       "\n",
       "    .dataframe thead th {\n",
       "        text-align: right;\n",
       "    }\n",
       "</style>\n",
       "<table border=\"1\" class=\"dataframe\">\n",
       "  <thead>\n",
       "    <tr style=\"text-align: right;\">\n",
       "      <th></th>\n",
       "      <th>code</th>\n",
       "      <th>number</th>\n",
       "      <th>level</th>\n",
       "      <th>score</th>\n",
       "    </tr>\n",
       "  </thead>\n",
       "  <tbody>\n",
       "    <tr>\n",
       "      <th>KEVIN</th>\n",
       "      <td>5</td>\n",
       "      <td>0</td>\n",
       "      <td>3</td>\n",
       "      <td>7</td>\n",
       "    </tr>\n",
       "    <tr>\n",
       "      <th>SAM</th>\n",
       "      <td>9</td>\n",
       "      <td>3</td>\n",
       "      <td>2</td>\n",
       "      <td>4</td>\n",
       "    </tr>\n",
       "    <tr>\n",
       "      <th>PETER</th>\n",
       "      <td>7</td>\n",
       "      <td>6</td>\n",
       "      <td>8</td>\n",
       "      <td>1</td>\n",
       "    </tr>\n",
       "    <tr>\n",
       "      <th>HELEN</th>\n",
       "      <td>6</td>\n",
       "      <td>7</td>\n",
       "      <td>8</td>\n",
       "      <td>1</td>\n",
       "    </tr>\n",
       "    <tr>\n",
       "      <th>SMITH</th>\n",
       "      <td>5</td>\n",
       "      <td>9</td>\n",
       "      <td>9</td>\n",
       "      <td>4</td>\n",
       "    </tr>\n",
       "  </tbody>\n",
       "</table>\n",
       "</div>"
      ],
      "text/plain": [
       "       code  number  level  score\n",
       "KEVIN     5       0      3      7\n",
       "SAM       9       3      2      4\n",
       "PETER     7       6      8      1\n",
       "HELEN     6       7      8      1\n",
       "SMITH     5       9      9      4"
      ]
     },
     "execution_count": 78,
     "metadata": {},
     "output_type": "execute_result"
    }
   ],
   "source": [
    "df.dropna(axis=1)"
   ]
  },
  {
   "cell_type": "code",
   "execution_count": 79,
   "metadata": {},
   "outputs": [
    {
     "data": {
      "text/html": [
       "<div>\n",
       "<style scoped>\n",
       "    .dataframe tbody tr th:only-of-type {\n",
       "        vertical-align: middle;\n",
       "    }\n",
       "\n",
       "    .dataframe tbody tr th {\n",
       "        vertical-align: top;\n",
       "    }\n",
       "\n",
       "    .dataframe thead th {\n",
       "        text-align: right;\n",
       "    }\n",
       "</style>\n",
       "<table border=\"1\" class=\"dataframe\">\n",
       "  <thead>\n",
       "    <tr style=\"text-align: right;\">\n",
       "      <th></th>\n",
       "      <th>code</th>\n",
       "      <th>number</th>\n",
       "      <th>value</th>\n",
       "      <th>level</th>\n",
       "      <th>score</th>\n",
       "    </tr>\n",
       "  </thead>\n",
       "  <tbody>\n",
       "    <tr>\n",
       "      <th>KEVIN</th>\n",
       "      <td>5</td>\n",
       "      <td>0</td>\n",
       "      <td>3.0</td>\n",
       "      <td>3</td>\n",
       "      <td>7</td>\n",
       "    </tr>\n",
       "    <tr>\n",
       "      <th>SAM</th>\n",
       "      <td>9</td>\n",
       "      <td>3</td>\n",
       "      <td>5.0</td>\n",
       "      <td>2</td>\n",
       "      <td>4</td>\n",
       "    </tr>\n",
       "    <tr>\n",
       "      <th>HELEN</th>\n",
       "      <td>6</td>\n",
       "      <td>7</td>\n",
       "      <td>7.0</td>\n",
       "      <td>8</td>\n",
       "      <td>1</td>\n",
       "    </tr>\n",
       "    <tr>\n",
       "      <th>SMITH</th>\n",
       "      <td>5</td>\n",
       "      <td>9</td>\n",
       "      <td>8.0</td>\n",
       "      <td>9</td>\n",
       "      <td>4</td>\n",
       "    </tr>\n",
       "  </tbody>\n",
       "</table>\n",
       "</div>"
      ],
      "text/plain": [
       "       code  number  value  level  score\n",
       "KEVIN     5       0    3.0      3      7\n",
       "SAM       9       3    5.0      2      4\n",
       "HELEN     6       7    7.0      8      1\n",
       "SMITH     5       9    8.0      9      4"
      ]
     },
     "execution_count": 79,
     "metadata": {},
     "output_type": "execute_result"
    }
   ],
   "source": [
    "df.dropna(axis=0)"
   ]
  },
  {
   "cell_type": "markdown",
   "metadata": {},
   "source": [
    "3. 填补缺失值"
   ]
  },
  {
   "cell_type": "markdown",
   "metadata": {},
   "source": [
    "1) 单变量方法"
   ]
  },
  {
   "attachments": {},
   "cell_type": "markdown",
   "metadata": {},
   "source": [
    "```python\n",
    "sklearn.impute.SimpleImputer(*, missing_values=nan, strategy='mean', fill_value=None, verbose=0, copy=True, add_indicator=False)\n",
    "```\n",
    "\n",
    "参数含义\n",
    "\n",
    "- missing_values：`int`, `float`, `str`, (默认)`np.nan`或是`None`, 即缺失值是什么。\n",
    "\n",
    "- strategy：空值填充的策略，共四种选择（默认）`mean`、`median`、`most_frequent`、`constant`。`mean`表示该列的缺失值由该列的均值填充。`median`为中位数， `most_frequent`为众数。`constant`表示将空值填充为自定义的值，但这个自定义的值要通过`fill_value`来定义。\n",
    "\n",
    "- fill_value：str或数值，默认为`Zone`。当`strategy == \"constant\"`时，`fill_value`被用来替换所有出现的缺失值（missing_values）。`fill_value`为`Zone`，当处理的是数值数据时，缺失值（missing_values）会替换为`0`，对于字符串或对象数据类型则替换为\"missing_value\" 这一字符串。\n",
    "\n",
    "- verbose：int，（默认）`0`，控制imputer的冗长。\n",
    "\n",
    "- copy：`boolean`，（默认）`True`，表示对数据的副本进行处理，False对数据原地修改。\n",
    "\n",
    "- add_indicator：`boolean`，（默认）`False`，`True`则会在数据后面加入n列由0和1构成的同样大小的数据，0表示所在位置非缺失值，1表示所在位置为缺失值。\n",
    "\n"
   ]
  },
  {
   "cell_type": "markdown",
   "metadata": {},
   "source": [
    "方法 \n",
    "\n",
    "- fit(X)\n",
    "\n",
    "返回值为SimpleImputer()类，通过fit(X)方法可以计算X矩阵的相关值的大小，以便填充其他缺失数据矩阵时进行使用。\n",
    "\n",
    "\n",
    "- transform(X)\n",
    "\n",
    "填补缺失值，一般使用该方法前要先用fit()方法对矩阵进行处理。\n",
    "\n",
    "- fit_transform(X)\n",
    "\n",
    "等价于fit+transform"
   ]
  },
  {
   "cell_type": "code",
   "execution_count": 80,
   "metadata": {},
   "outputs": [
    {
     "data": {
      "text/html": [
       "<div>\n",
       "<style scoped>\n",
       "    .dataframe tbody tr th:only-of-type {\n",
       "        vertical-align: middle;\n",
       "    }\n",
       "\n",
       "    .dataframe tbody tr th {\n",
       "        vertical-align: top;\n",
       "    }\n",
       "\n",
       "    .dataframe thead th {\n",
       "        text-align: right;\n",
       "    }\n",
       "</style>\n",
       "<table border=\"1\" class=\"dataframe\">\n",
       "  <thead>\n",
       "    <tr style=\"text-align: right;\">\n",
       "      <th></th>\n",
       "      <th>code</th>\n",
       "      <th>number</th>\n",
       "      <th>value</th>\n",
       "      <th>level</th>\n",
       "      <th>score</th>\n",
       "    </tr>\n",
       "  </thead>\n",
       "  <tbody>\n",
       "    <tr>\n",
       "      <th>KEVIN</th>\n",
       "      <td>5</td>\n",
       "      <td>0</td>\n",
       "      <td>3.0</td>\n",
       "      <td>3</td>\n",
       "      <td>7</td>\n",
       "    </tr>\n",
       "    <tr>\n",
       "      <th>SAM</th>\n",
       "      <td>9</td>\n",
       "      <td>3</td>\n",
       "      <td>5.0</td>\n",
       "      <td>2</td>\n",
       "      <td>4</td>\n",
       "    </tr>\n",
       "    <tr>\n",
       "      <th>PETER</th>\n",
       "      <td>7</td>\n",
       "      <td>6</td>\n",
       "      <td>NaN</td>\n",
       "      <td>8</td>\n",
       "      <td>1</td>\n",
       "    </tr>\n",
       "    <tr>\n",
       "      <th>HELEN</th>\n",
       "      <td>6</td>\n",
       "      <td>7</td>\n",
       "      <td>7.0</td>\n",
       "      <td>8</td>\n",
       "      <td>1</td>\n",
       "    </tr>\n",
       "    <tr>\n",
       "      <th>SMITH</th>\n",
       "      <td>5</td>\n",
       "      <td>9</td>\n",
       "      <td>8.0</td>\n",
       "      <td>9</td>\n",
       "      <td>4</td>\n",
       "    </tr>\n",
       "  </tbody>\n",
       "</table>\n",
       "</div>"
      ],
      "text/plain": [
       "       code  number  value  level  score\n",
       "KEVIN     5       0    3.0      3      7\n",
       "SAM       9       3    5.0      2      4\n",
       "PETER     7       6    NaN      8      1\n",
       "HELEN     6       7    7.0      8      1\n",
       "SMITH     5       9    8.0      9      4"
      ]
     },
     "execution_count": 80,
     "metadata": {},
     "output_type": "execute_result"
    }
   ],
   "source": [
    "df"
   ]
  },
  {
   "cell_type": "code",
   "execution_count": 88,
   "metadata": {
    "scrolled": true
   },
   "outputs": [
    {
     "data": {
      "text/plain": [
       "array([[7. ],\n",
       "       [6. ],\n",
       "       [5.5],\n",
       "       [8. ],\n",
       "       [1. ]])"
      ]
     },
     "execution_count": 88,
     "metadata": {},
     "output_type": "execute_result"
    }
   ],
   "source": [
    "from sklearn.impute import SimpleImputer    #载入SimpleImputer类\n",
    "imp = SimpleImputer(strategy='mean')\n",
    "imp.fit(df.loc['PETER'].values.reshape(-1,1))\n",
    "imp.transform(df.loc['PETER'].values.reshape(-1,1))#进行填补"
   ]
  },
  {
   "cell_type": "markdown",
   "metadata": {},
   "source": [
    "2. 最近邻方法\n",
    "\n",
    "用于缺失值插补的单变量方法是估计值的简单方法，可能无法始终提供准确的信息。在某些信息缺失的情况下，像k-最近邻（kNN）这样的算法可以帮助对缺失数据的值进行插补。它通过距离测量来识别相邻点，并且可以使用相邻观测值的完整值来估计缺失值。\n",
    "\n",
    "kNN方法的思想是在数据集中识别空间相似或相近的k个样本。然后我们使用这些“k”个样本来估计缺失数据点的值。每个样本的缺失值使用数据集中找到的“k”邻域的平均值进行插补。"
   ]
  },
  {
   "attachments": {
    "image.png": {
     "image/png": "[encoded data removed]"
    }
   },
   "cell_type": "markdown",
   "metadata": {},
   "source": [
    "![image.png](attachment:image.png)"
   ]
  },
  {
   "cell_type": "markdown",
   "metadata": {},
   "source": [
    "```python\n",
    "sklearn.impute.KNNImputer(*, missing_values=nan, n_neighbors=5, weights='uniform', metric='nan_euclidean', copy=True, add_indicator=False)\n",
    "```\n",
    "\n",
    "参数\t说明\n",
    "- missing_values：`int`, `float`, `str`, (默认)`np.nan`或是`None`, 即缺失值是什么。\n",
    "- n_neighbors：`int`, default=5，用于插补的相邻样本数。\n",
    "- weights\t{‘uniform’, ‘distance’}， default=’uniform’，预测中使用的权重函数。可能的值：\n",
    "\n",
    "    - 'uniform'：统一的权重。每个邻域内的所有点的权重是相等的。\n",
    "    - 'distance'：权重按点的距离的倒数表示。在这种情况下，查询点较近的邻居将比较远的邻居具有更大的影响。\n",
    "    - callable：用户定义的函数，该函数接受距离数组，并返回包含权重的相同形状的数组。\n",
    "- metric\t{‘nan_euclidean’} or callable, default=’nan_euclidean’用于搜索邻居的距离度量。可能的值：\n",
    "\n",
    "    - 'nan_euclidean'\n",
    "    - callable：符合`_pairwise_callable(X, Y, metric, **kwds)`定义的用户定义函数。该函数接受两个数组X和Y，以及kwds中的一个missing_values关键字， 并返回标量距离值。\n",
    "\n",
    "- copy：`boolean`，（默认）`True`，表示对数据的副本进行处理，False对数据原地修改。\n",
    "\n",
    "- add_indicator：`boolean`，（默认）`False`，`True`则会在数据后面加入n列由0和1构成的同样大小的数据，0表示所在位置非缺失值，1表示所在位置为缺失值。\n"
   ]
  },
  {
   "cell_type": "code",
   "execution_count": 98,
   "metadata": {},
   "outputs": [
    {
     "data": {
      "text/plain": [
       "array([[7. ],\n",
       "       [6. ],\n",
       "       [5.5],\n",
       "       [8. ],\n",
       "       [1. ]])"
      ]
     },
     "execution_count": 98,
     "metadata": {},
     "output_type": "execute_result"
    }
   ],
   "source": [
    "from sklearn.impute import KNNImputer   \n",
    "imp = KNNImputer(n_neighbors=2)\n",
    "imp.fit(df.loc['PETER'].values.reshape(-1,1))\n",
    "imp.transform(df.loc['PETER'].values.reshape(-1,1))#进行填补"
   ]
  },
  {
   "cell_type": "code",
   "execution_count": 97,
   "metadata": {},
   "outputs": [
    {
     "name": "stdout",
     "output_type": "stream",
     "text": [
      "     0  1    2\n",
      "0  1.0  2  NaN\n",
      "1  3.0  4  3.0\n",
      "2  NaN  6  5.0\n",
      "3  8.0  8  7.0\n"
     ]
    },
    {
     "data": {
      "text/plain": [
       "array([[1. , 2. , 4. ],\n",
       "       [3. , 4. , 3. ],\n",
       "       [5.5, 6. , 5. ],\n",
       "       [8. , 8. , 7. ]])"
      ]
     },
     "execution_count": 97,
     "metadata": {},
     "output_type": "execute_result"
    }
   ],
   "source": [
    "nan = np.nan\n",
    "X = [[1, 2, nan], [3, 4, 3], [nan, 6, 5], [8, 8, 7]]\n",
    "X = pd.DataFrame(X)\n",
    "print(X)\n",
    "imputer = KNNImputer(n_neighbors=2, weights=\"uniform\")\n",
    "imputer.fit_transform(X)"
   ]
  },
  {
   "cell_type": "markdown",
   "metadata": {},
   "source": [
    "3. 多项式拟合\n",
    "\n",
    "多项式定义为：\n",
    "$$\n",
    "y(x, W)=w_0+w_1 x+w_2 x^2+\\ldots+w_M x^M=\\sum_{j=0}^M w_j x^j\n",
    "$$\n",
    "\n",
    "其中$M$是多项式的阶数，$w_0, \\cdots, w_M$是多项式的系数，记做$W$，可以看到虽然多项式函数$y(x,W)$是关于$x$非线性函数，但是却是关于多项式系数$W$的线性函数。有了多项式以后我们还需要一个误差函数来对我们拟合出的多项式进行评估，这里我们使用均方误差，公式如下：\n",
    "$$\n",
    "E(W)=\\frac{1}{2} \\sum_{i=1}^N\\left(y\\left(x_i, W\\right)-t_i\\right)^2\n",
    "$$\n",
    "\n",
    "拟合数据的目的是最小化误差函数，因为误差函数是多项式系数的二次函数，因此它关于系数$W$的导数是线性函数，所以误差函数的最小值有一个唯一解$W^*$。"
   ]
  },
  {
   "cell_type": "code",
   "execution_count": 111,
   "metadata": {},
   "outputs": [
    {
     "data": {
      "text/plain": [
       "<matplotlib.legend.Legend at 0x228832f75b0>"
      ]
     },
     "execution_count": 111,
     "metadata": {},
     "output_type": "execute_result"
    },
    {
     "data": {
      "image/png": "[encoded data removed]",
      "text/plain": [
       "<Figure size 432x288 with 1 Axes>"
      ]
     },
     "metadata": {},
     "output_type": "display_data"
    }
   ],
   "source": [
    "def uniform(size):\n",
    "    x = np.linspace(0,1,size)\n",
    "    return x.reshape(size,1)\n",
    "\n",
    "def create_data(size):\n",
    "    x = uniform(size)\n",
    "    np.random.seed(42)\n",
    "    y = sin_fun(x)+np.random.normal(scale=0.15, size=x.shape)\n",
    "    return x,y\n",
    "\n",
    "def sin_fun(x):\n",
    "    return np.sin(2*np.pi*x)\n",
    "\n",
    "X_train,y_train = create_data(10)\n",
    "X_test = uniform(100)\n",
    "y_test = sin_fun(X_test)\n",
    "plt.rc('axes', unicode_minus=False) \n",
    "plt.scatter(X_train,y_train,facecolor=\"none\", edgecolor=\"b\", s=50, label=\"training data\")\n",
    "plt.plot(X_test,y_test,c=\"g\",label=\"$\\sin(2\\pi x)$\")\n",
    "plt.ylabel(\"y\",size=20)\n",
    "plt.xlabel(\"x\",size=20)\n",
    "plt.legend()"
   ]
  },
  {
   "cell_type": "code",
   "execution_count": 113,
   "metadata": {},
   "outputs": [
    {
     "data": {
      "image/png": "[encoded data removed]",
      "text/plain": [
       "<Figure size 864x576 with 4 Axes>"
      ]
     },
     "metadata": {},
     "output_type": "display_data"
    }
   ],
   "source": [
    "from sklearn.preprocessing import PolynomialFeatures\n",
    "from sklearn.linear_model import LinearRegression\n",
    "fig = plt.figure(figsize=(12,8))\n",
    "for i,order in enumerate([0,1,3,9]):  \n",
    "    plt.subplot(2,2,i+1)\n",
    "\n",
    "    poly = PolynomialFeatures(order)\n",
    "    X_train_ploy = poly.fit_transform(X_train)\n",
    "    X_test_ploy = poly.fit_transform(X_test)\n",
    "    \n",
    "    lr = LinearRegression()\n",
    "    lr.fit(X_train_ploy,y_train)\n",
    "    y_pred = lr.predict(X_test_ploy)\n",
    "\n",
    "    plt.scatter(X_train,y_train,facecolor=\"none\", edgecolor=\"b\", s=50, label=\"training data\")\n",
    "    plt.plot(X_test,y_pred,c=\"r\",label=\"fitting\")\n",
    "    plt.plot(X_test,y_test,c=\"g\",label=\"$\\sin(2\\pi x)$\")\n",
    "    plt.title(\"M={}\".format(order))\n",
    "    plt.legend()\n",
    "plt.show()"
   ]
  },
  {
   "cell_type": "code",
   "execution_count": null,
   "metadata": {},
   "outputs": [],
   "source": []
  }
 ],
 "metadata": {
  "kernelspec": {
   "display_name": "Python 3 (ipykernel)",
   "language": "python",
   "name": "python3"
  },
  "language_info": {
   "codemirror_mode": {
    "name": "ipython",
    "version": 3
   },
   "file_extension": ".py",
   "mimetype": "text/x-python",
   "name": "python",
   "nbconvert_exporter": "python",
   "pygments_lexer": "ipython3",
   "version": "3.9.12"
  },
  "toc": {
   "base_numbering": 1,
   "nav_menu": {},
   "number_sections": true,
   "sideBar": true,
   "skip_h1_title": false,
   "title_cell": "Table of Contents",
   "title_sidebar": "Contents",
   "toc_cell": false,
   "toc_position": {},
   "toc_section_display": true,
   "toc_window_display": false
  },
  "vscode": {
   "interpreter": {
    "hash": "249b8578a041a4fc48dae2ecb25af571936f57c72007ba9cc0c7a83abc2a1f0c"
   }
  }
 },
 "nbformat": 4,
 "nbformat_minor": 2
}
