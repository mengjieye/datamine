{
 "cells": [
  {
   "cell_type": "markdown",
   "metadata": {},
   "source": [
    "# 支持向量机"
   ]
  },
  {
   "cell_type": "code",
   "execution_count": 1,
   "metadata": {},
   "outputs": [],
   "source": [
    "import numpy as np\n",
    "import matplotlib.pyplot as plt\n",
    "import seaborn as sns\n",
    "import random\n",
    "import time\n",
    "import math"
   ]
  },
  {
   "cell_type": "markdown",
   "metadata": {},
   "source": [
    "支持向量机(Support Vector Mechine, SVM)是在分类与回归分析中分析数据的监督式学习模型与相关的学习算法。给定一组训练实例，每个训练实例被标记为属于两个类别中的一个或另一个，SVM训练算法创建一个将新的实例分配给两个类别之一的模型，使其成为非概率二元线性分类器。SVM模型是将实例表示为空间中的点，这样映射就使得单独类别的实例被尽可能宽的明显的间隔分开。然后，将新的实例映射到同一空间，并基于它们落在间隔的哪一侧来预测所属类别。\n",
    "在机器学习中，支持向量机(Support Vector Mechine, SVM)是在分类与回归分析中的有监督学习模型。给定一组训练样本，每个样本都被标记为属于两个类别中的一个，支持向量机训练算法会建立一个模型，将新样本分配到其中一个类别，使其成为一个非概率的二元线性分类器。支持向量机将训练样本映射到空间中的点，从而使两类之间的差距最大化。然后，新的样本被映射到相同的空间中，并根据它们所处的位置来预测属于哪一个类别。"
   ]
  },
  {
   "cell_type": "markdown",
   "metadata": {},
   "source": [
    "给定样本$\\{(\\mathrm{x}^{(1)}, y^{(1)}), (\\mathrm{x}^{(2)}, y^{(2)}),\\cdots, (\\mathrm{x}^{(m)}, y^{(m)})\\},\\quad y^{(i)} \\in \\{ -1, 1 \\}$，分类其实就是想要找到一个划分超平面，将不同类别的样本分开。"
   ]
  },
  {
   "cell_type": "markdown",
   "metadata": {},
   "source": [
    "<img src=img/separating_hyperplanes.png height=\"500\">"
   ]
  },
  {
   "cell_type": "markdown",
   "metadata": {},
   "source": [
    "在给定的样本空间，超平面可以表示为\n",
    "$$\n",
    "\\mathrm{w}^{\\mathsf{T}} \\mathrm{x} + b = 0\n",
    "$$\n",
    "如果划分超平面能正确分类，那么，对 $y^{(i)} = +1$，有 $\\mathrm{w}^{\\mathsf{T}} \\mathrm{x} + b > 0 $，对$y^{(i)} = -1$，有 $\\mathrm{w}^{\\mathsf{T}} \\mathrm{x} + b < 0 $。事实上，对任意样本都可以表示成为 $y^{(i)}(\\mathrm{w}^{\\mathsf{T}} \\mathrm{x} + b) > 0$。\n"
   ]
  },
  {
   "cell_type": "markdown",
   "metadata": {},
   "source": [
    "<img src=img/SVM-Intuitive.jpg height=\"500\">"
   ]
  },
  {
   "cell_type": "markdown",
   "metadata": {},
   "source": [
    "容易知道，样本点 $\\mathrm{x}^{(i)}$ 到超平面的距离可以写成，\n",
    "$$\n",
    "\\gamma^{(i)} = \\frac{|\\mathrm{w}^{\\mathsf{T}} \\mathrm{x}^{(i)} + b|}{||\\mathrm{w}||} = \\frac{y^{(i)}(\\mathrm{w}^{\\mathsf{T}} \\mathrm{x}^{(i)} + b)}{||\\mathrm{w}||}\n",
    "$$\n",
    "定义间隔（Margin）$\\gamma$ 为整个样本数据集中所有样本到划分超平面的最短距离：\n",
    "$$\n",
    "\\gamma = \\min_{i} \\gamma^{(i)}\n",
    "$$\n",
    "\n",
    "如果间隔$\\gamma$ 越大，其分割超平面对两个数据集的划分越稳定，不容易受噪声等因素影响。支持向量机的目标是寻找一个超平面使得 $\\gamma$ 最大，即\n",
    "$$\n",
    "\\begin{aligned}\n",
    "& \\max_{\\mathrm{w}, b} \\quad \\gamma \\\\\n",
    "& s.t. \\quad \\frac{y^{(i)}(\\mathrm{w}^{\\mathsf{T}} \\mathrm{x}^{(i)} + b)}{||\\mathrm{w}||} \\ge \\gamma, \\quad \\forall i = 1,2, \\cdots, m\n",
    "\\end{aligned}\n",
    "$$"
   ]
  },
  {
   "cell_type": "markdown",
   "metadata": {},
   "source": [
    "令 $||\\mathrm{w}|| \\cdot \\gamma = 1$，则上式等价于\n",
    "$$\n",
    "\\begin{aligned}\n",
    "& \\max_{\\mathrm{w}, b} \\quad \\frac{1}{||\\mathrm{w}||} \\\\\n",
    "& s.t. \\quad y^{(i)}(\\mathrm{w}^{\\mathsf{T}} \\mathrm{x}^{(i)} + b) \\ge 1, \\quad \\forall i \\in \\{ 1,2, \\cdots, m \\}\n",
    "\\end{aligned}\n",
    "$$"
   ]
  },
  {
   "cell_type": "markdown",
   "metadata": {},
   "source": [
    "最大化 $\\frac{1}{||\\mathrm{w}||^2}$，等价于最小化 $||\\mathrm{w}||$，所以可以写成\n",
    "$$\n",
    "\\begin{aligned}\n",
    "& \\min_{\\mathrm{w}, b} \\quad \\frac{1}{2}||\\mathrm{w}||^2 \\\\\n",
    "& s.t. \\quad y^{(i)}(\\mathrm{w}^{\\mathsf{T}} \\mathrm{x}^{(i)} + b) \\ge 1, \\quad \\forall i \\in \\{ 1,2, \\cdots, m \\}\n",
    "\\end{aligned}\n",
    "$$\n",
    "\n",
    "这是SVM的基本模型。这个模型可以通过凸二次规划的方法解决。但是有更有效的算法。"
   ]
  },
  {
   "cell_type": "markdown",
   "metadata": {},
   "source": [
    "对这个模型的约束条件加上拉格朗日乘子 $\\alpha_i \\ge 0$，则得到拉格朗日函数：\n",
    "$$\n",
    "L(\\mathrm{w}, b, \\mathrm{\\alpha}) = \\frac{1}{2}||\\mathrm{w}||^2  + \\sum_{i=1}^{m} \\alpha_i(1 - y^{(i)}(\\mathrm{w}^{\\mathsf{T}} \\mathrm{x}^{(i)} + b))\n",
    "$$\n",
    "\n",
    "令 $L(\\mathrm{w}, b, \\mathrm{\\alpha})$对 $\\mathrm{w}, b$的偏导数为零，可以得到\n",
    "\n",
    "$$\n",
    "\\begin{aligned}\n",
    "& \\mathrm{w} = \\sum_{i=1}^{m} \\alpha_i y^{(i)} \\mathrm{x}^{(i)} \\\\\n",
    "& 0 = \\sum_{i=1}^{m} \\alpha_i y^{(i)}\n",
    "\\end{aligned}\n",
    "$$\n"
   ]
  },
  {
   "cell_type": "markdown",
   "metadata": {},
   "source": [
    "带入$L(\\mathrm{w}, b, \\mathrm{\\alpha})$中，可以得到模型的对偶问题\n",
    "$$\n",
    "\\begin{aligned}\n",
    "&\\max_\\alpha \\sum_{i=1}^n \\alpha_i-\\frac{1}{2} \\sum_{i=1}^n \\sum_{j=1}^n y^{(i)} y^{(j)} \\langle \\mathrm{x}^{(i)}, \\mathrm{x}^{(j)}\\rangle \\alpha_i \\alpha_j \\\\\n",
    "&\\text { s.t. } \\\\\n",
    "&\\alpha_i \\ge 0, \\quad \\forall i \\in {1,2, \\ldots, m} \\\\\n",
    "&\\sum_{i=1}^n y^{(i)} \\alpha_i=0\n",
    "\\end{aligned}\n",
    "$$"
   ]
  },
  {
   "cell_type": "markdown",
   "metadata": {},
   "source": [
    "解出 $\\alpha$之后，可以得到模型\n",
    "$$\n",
    "f(\\mathrm{x}) = \\mathrm{w}^{\\mathsf{T}} \\mathrm{x} + b = \\sum_{i=1}^{m} \\alpha_i y^{(i)} \\langle \\mathrm{x}^{(i)}, \\mathrm{x} \\rangle + b\n",
    "$$"
   ]
  },
  {
   "cell_type": "markdown",
   "metadata": {},
   "source": [
    "注意到上述模型需要满足KKT(Karush-Kuhn-Tucker)条件\n",
    "$$\n",
    "\\begin{aligned}\n",
    "&\\alpha_i \\ge 0\\\\\n",
    "&y ^{(i)}f(\\mathrm{x}^{(i)}) - 1 \\ge 0 \\\\\n",
    "&\\alpha_i(y ^{(i)}f(\\mathrm{x}^{(i)}) - 1) = 0\n",
    "\\end{aligned}\n",
    "$$"
   ]
  },
  {
   "cell_type": "markdown",
   "metadata": {},
   "source": [
    "对于任意样本 $(\\mathrm{x}^{(i)}, y^{(i)}$，如果 $\\alpha_i = 0$，则该样本不会出现在 $f(\\mathrm{x})$ 中；如果 $\\alpha_i > 0$，则 $y ^{(i)}f(\\mathrm{x}^{(i)}) = 1$，说明该样本在最大间隔上。这样的样本称为支持向量。"
   ]
  },
  {
   "cell_type": "markdown",
   "metadata": {},
   "source": [
    "## SMO(Sequential Minimal Optimization)算法"
   ]
  },
  {
   "cell_type": "markdown",
   "metadata": {},
   "source": [
    "具体来说，希望解决\n",
    "$$\n",
    "\\begin{aligned}\n",
    "&\\max_\\alpha \\sum_{i=1}^n \\alpha_i-\\frac{1}{2} \\sum_{i=1}^n \\sum_{j=1}^n y^{(i)} y^{(j)} \\langle \\mathrm{x}^{(i)}, \\mathrm{x}^{(j)}\\rangle \\alpha_i \\alpha_j \\\\\n",
    "&\\text { s.t. } \\\\\n",
    "&0 \\le \\alpha_i \\le C, \\quad \\forall i \\in {1,2, \\ldots, m} \\\\\n",
    "&\\sum_{i=1}^n y^{(i)} \\alpha_i=0\n",
    "\\end{aligned}\n",
    "$$"
   ]
  },
  {
   "cell_type": "markdown",
   "metadata": {},
   "source": [
    "从上面推导可知，如果求解出了 $\\alpha$，那么\n",
    "$$\n",
    "f(\\mathrm{x}) =\\sum_{i=1}^{m} \\alpha_i y^{(i)} \\langle \\mathrm{x}^{(i)}, \\mathrm{x} \\rangle + b\n",
    "$$"
   ]
  },
  {
   "cell_type": "markdown",
   "metadata": {},
   "source": [
    "那么预测值为\n",
    "$$\n",
    "\\hat{y}^{(i)} = \\operatorname{sign}(f(\\mathrm{x}) )\n",
    "$$\n",
    "其中 $\\operatorname{sign}(x \\ge 0) = 1$， $\\operatorname{sign}(x < 0) = -1$ 。"
   ]
  },
  {
   "cell_type": "code",
   "execution_count": 2,
   "metadata": {},
   "outputs": [],
   "source": [
    "def f(alphas, b, X, y, x):\n",
    "    return x @ np.dot(X.T, np.multiply(alphas, y)) + b"
   ]
  },
  {
   "cell_type": "code",
   "execution_count": 3,
   "metadata": {},
   "outputs": [],
   "source": [
    "def predict(w, b, X):\n",
    "    return np.sign(X@w + b)"
   ]
  },
  {
   "cell_type": "markdown",
   "metadata": {},
   "source": [
    "#### 第一步 选择一个合适的 $\\alpha$\n",
    "\n",
    "整个SMO算法的大部分都致力于启发式地选择 $\\alpha_i$ 和 $\\alpha_j$ 进行优化，以便尽可能地使目标函数最大化。对于大型数据集，这对算法的速度至关重要，因为 $\\alpha_i$ 和 $\\alpha_j$ 有 $m(m−1)$ 种可能的选择，其中一些的改进效果会比其他的差得多。为了简化算法，可以采用了一种更简单的启发式方法。只需遍历所有 $\\alpha_i$。如果 $\\alpha_i$ 不能满足KKT条件到一定的数值容忍范围内，我们从剩余的$m−1$个 $\\alpha$ 中随机选择 $\\alpha_j$，并尝试联合优化 $\\alpha_i$ 和 $\\alpha_j$ 。如果在对所有的 $\\alpha_i$ 进行几次迭代后，没有一个改变，那么算法就终止了。当然，通过采用这种简化，算法不再保证收敛到全局最优(因为没有尝试所有可能的  $(\\alpha_i, \\alpha_j)$ 对)。"
   ]
  },
  {
   "cell_type": "code",
   "execution_count": 4,
   "metadata": {},
   "outputs": [],
   "source": [
    "def select_j(m, i):\n",
    "    np.random.seed(int(time.time()))\n",
    "    return np.random.choice(np.append(np.arange(i), np.arange(i+1, m)))"
   ]
  },
  {
   "cell_type": "markdown",
   "metadata": {},
   "source": [
    "### 第二步 优化 $\\alpha_i$，$\\alpha_j$"
   ]
  },
  {
   "cell_type": "markdown",
   "metadata": {},
   "source": [
    "根据约束条件 $\\sum_{i=1}^n y^{(i)} \\alpha_i=0$，固定除 $\\alpha_i, \\alpha_j$ 之外的 $\\alpha$，可以得到\n",
    "$$\n",
    "y^{(i)} \\alpha_i + y^{(j)} \\alpha_j = k\n",
    "$$\n",
    "其中 $k = -\\sum_{s\\ne i, j}^n y^{(s)} \\alpha_s$。所以，如果选定了 $\\alpha_i$，根据上式可以计算 $\\alpha_j$的值，但事实上，要满足约束条件 $0 \\le \\alpha_j \\le C$。所以需要计算$\\alpha_j$的上下界。"
   ]
  },
  {
   "cell_type": "markdown",
   "metadata": {},
   "source": [
    "<img src=img/alpha_ij.png height=\"500\">"
   ]
  },
  {
   "cell_type": "markdown",
   "metadata": {},
   "source": [
    "如图所示，综合两种情况，可以计算上下界。\n",
    "\n",
    "$$\n",
    "\\begin{aligned}\n",
    "\\text{if} \\quad y^{(i)} \\ne y^{(j)}， L = \\max(0, \\alpha_i - \\alpha_j), \\quad H = \\min(C, C+\\alpha_i - \\alpha_j)\\\\\n",
    "\\text{if} \\quad y^{(i)} = y^{(j)}， L = \\max(0, \\alpha_i + \\alpha_j - C), \\quad H = \\min(C, \\alpha_i + \\alpha_j)\n",
    "\\end{aligned}\n",
    "$$"
   ]
  },
  {
   "cell_type": "code",
   "execution_count": 5,
   "metadata": {},
   "outputs": [],
   "source": [
    "def bound(alpha_i, alpha_j, y_i, y_j, C):\n",
    "    if y_i != y_j:\n",
    "        return max(0, alpha_j - alpha_i), min(C, C + alpha_j - alpha_i)\n",
    "    else:\n",
    "        return max(0, alpha_i + alpha_j - C), min(C, alpha_i + alpha_j)"
   ]
  },
  {
   "cell_type": "markdown",
   "metadata": {},
   "source": [
    "现在我们要求 $\\alpha_j$ 使目标函数最大化。如果这个值超出了 $L$ 和 $H$ 的范围，只需将 $\\alpha_j$ 的值限定到这个范围内。"
   ]
  },
  {
   "cell_type": "markdown",
   "metadata": {},
   "source": [
    "根据 $y^{(i)} \\alpha_i + y^{(j)} \\alpha_j = k$，计算出 $\\alpha_i = y^{(i)}k - y^{(i)}y^{(j)}\\alpha_j$，带入\n",
    "$$\n",
    "\\sum_{i=1}^n \\alpha_i-\\frac{1}{2} \\sum_{i=1}^n \\sum_{j=1}^n y^{(i)} y^{(j)} \\langle \\mathrm{x}^{(i)}, \\mathrm{x}^{(j)}\\rangle \\alpha_i \\alpha_j\n",
    "$$\n",
    "\n",
    "可以得到关于 $\\alpha_j$的一元二次方程。再经过冗长的初等计算，可以得到： \n",
    "\n"
   ]
  },
  {
   "cell_type": "markdown",
   "metadata": {},
   "source": [
    "$$\n",
    "\\alpha_j = \\alpha_j^{(old)} - \\frac{y^{(j)}(E_i - E_j)}{\\eta}\n",
    "$$\n",
    "\n",
    "$$\n",
    "\\alpha_j = \n",
    "\\begin{split}\n",
    "H, & \\quad \\alpha_i > H \\\\\n",
    "\\alpha_i,& \\quad L \\le \\alpha_i \\le H \\\\\n",
    "L, &\\quad \\alpha_i < L\n",
    "\\end{split}\n",
    "$$"
   ]
  },
  {
   "cell_type": "markdown",
   "metadata": {},
   "source": [
    "其中：\n",
    "$$\n",
    "E_k = f(y^{(k)}) - y^{(k)}\n",
    "$$\n",
    "\n",
    "$$\n",
    "\\eta = 2 K_{ij} - K_{ii} - K_{jj}\n",
    "$$"
   ]
  },
  {
   "cell_type": "markdown",
   "metadata": {},
   "source": [
    "并且\n",
    "$$\n",
    "\\mathrm{K} = \\mathrm{X}^\\mathsf{T} \\mathrm{X} = \n",
    "\\begin{bmatrix}\n",
    "\\langle \\mathrm{x}^{(1)}, \\mathrm{x}^{(1)} \\rangle & \\langle \\mathrm{x}^{(1)}, \\mathrm{x}^{(2)} \\rangle & \\cdots & \\langle \\mathrm{x}^{(1)}, \\mathrm{x}^{(m)} \\rangle \\\\\n",
    "\\langle \\mathrm{x}^{(2)}, \\mathrm{x}^{(1)} \\rangle & \\langle \\mathrm{x}^{(2)}, \\mathrm{x}^{(2)} \\rangle & \\cdots & \\langle \\mathrm{x}^{(2)}, \\mathrm{x}^{(m)} \\rangle \\\\\n",
    "\\vdots & \\vdots & \\ddots & \\vdots \\\\\n",
    "\\langle \\mathrm{x}^{(m)}, \\mathrm{x}^{(1)} \\rangle & \\langle \\mathrm{x}^{(m)}, \\mathrm{x}^{(2)} \\rangle & \\cdots & \\langle \\mathrm{x}^{(m)}, \\mathrm{x}^{(m)} \\rangle \\\\\n",
    "\\end{bmatrix}\n",
    "$$"
   ]
  },
  {
   "cell_type": "markdown",
   "metadata": {},
   "source": [
    "求出 $\\alpha_j$ 之后，可以求出 $\\alpha_i$ 的值。\n",
    "$$\n",
    "\\alpha_i = \\alpha_i^{(old)} + y^{(i)}y^{(j)}(\\alpha_j^{(old)} - \\alpha_j)\n",
    "$$"
   ]
  },
  {
   "cell_type": "code",
   "execution_count": 6,
   "metadata": {},
   "outputs": [],
   "source": [
    "def calculate_alpha_j(y_i, y_j, alpha_i, alpha_j, E_i, E_j, eta, L, H):\n",
    "    return np.clip(alpha_j - y_j * (E_i - E_j) / eta, L, H)\n",
    "\n",
    "def calculate_alpha_i(y_i, y_j, alpha_i, alpha_j, alpha_j_old):\n",
    "    return alpha_i + y_i * y_j * (alpha_j_old - alpha_j)\n",
    "\n"
   ]
  },
  {
   "cell_type": "markdown",
   "metadata": {},
   "source": [
    "### 第三步 计算 $\\mathrm{w}, b$"
   ]
  },
  {
   "cell_type": "markdown",
   "metadata": {},
   "source": [
    "更新 $\\alpha_i, \\alpha_j$之后，可以更新 $w, b$。\n",
    "\n",
    "根据KKT条件\n",
    "\n",
    "$$\n",
    "\\begin{aligned}\n",
    "\\alpha_i=0 & \\Rightarrow y^{(i)}\\left(w^T \\mathrm{x}^{(i)}+b\\right) \\geq 1 \\\\\n",
    "\\alpha_i=C & \\Rightarrow y^{(i)}\\left(w^T \\mathrm{x}^{(i)}+b\\right) \\leq 1 \\\\\n",
    "0<\\alpha_i<C & \\Rightarrow y^{(i)}\\left(w^T \\mathrm{x}^{(i)}+b\\right)=1 .\n",
    "\\end{aligned}\n",
    "$$"
   ]
  },
  {
   "cell_type": "markdown",
   "metadata": {},
   "source": [
    "如果 $0 < \\alpha_i < C$，则"
   ]
  },
  {
   "cell_type": "markdown",
   "metadata": {},
   "source": [
    "$$\n",
    "b = b_1 = b - E_i - y^{(i)}(\\alpha_i - \\alpha_i^{(old)}) \\langle \\mathrm{x}^{(i)}, \\mathrm{x}^{(i)} \\rangle - y^{(j)}(\\alpha_j - \\alpha_j^{(old)}) \\langle \\mathrm{x}^{(i)}, \\mathrm{x}^{(j)} \\rangle\n",
    "$$\n"
   ]
  },
  {
   "cell_type": "markdown",
   "metadata": {},
   "source": [
    "如果 $0 < \\alpha_j < C$，则"
   ]
  },
  {
   "cell_type": "markdown",
   "metadata": {},
   "source": [
    "$$\n",
    "b = b_2 = b - E_j - y^{(i)}(\\alpha_i - \\alpha_i^{(old)}) \\langle \\mathrm{x}^{(i)}, \\mathrm{x}^{(i)} \\rangle - y^{(j)}(\\alpha_j - \\alpha_j^{(old)}) \\langle \\mathrm{x}^{(i)}, \\mathrm{x}^{(j)} \\rangle\n",
    "$$\n"
   ]
  },
  {
   "cell_type": "markdown",
   "metadata": {},
   "source": [
    "如果 $\\alpha_i, \\alpha_j$都不在区间$(0, C)$，则计算用 $b_1$， $b_2$ 的中点。"
   ]
  },
  {
   "cell_type": "markdown",
   "metadata": {},
   "source": [
    "$$\n",
    "b = \\frac{b_1 + b_2} {2}\n",
    "$$"
   ]
  },
  {
   "cell_type": "code",
   "execution_count": 7,
   "metadata": {},
   "outputs": [],
   "source": [
    "def calculate_b(b, y_i, y_j, alpha_i, alpha_j, alpha_i_old, alpha_j_old, E_i, E_j, K_ij, K_ii, C):\n",
    "\n",
    "    b_one = b - E_i - y_i * (alpha_i - alpha_i_old) * K_ii - y_j * (alpha_j - alpha_j_old) * K_ij \n",
    "    b_two = b - E_j - y_i * (alpha_i - alpha_i_old) * K_ii - y_j * (alpha_j - alpha_j_old) * K_ij \n",
    "\n",
    "    if alpha_i > 0 and alpha_i < C:\n",
    "        return b_one\n",
    "    elif alpha_j > 0 and alpha_j < C:\n",
    "        return b_two\n",
    "    else:\n",
    "        return (b_one + b_two) / 2"
   ]
  },
  {
   "cell_type": "markdown",
   "metadata": {},
   "source": [
    "$\\mathrm{w}$的值可以根据下式计算\n",
    "$$\n",
    "\\mathrm{w} = \\sum_{i=1}^{m} \\alpha_i y^{(i)} \\mathrm{x}^{(i)}\n",
    "$$"
   ]
  },
  {
   "cell_type": "code",
   "execution_count": 8,
   "metadata": {},
   "outputs": [],
   "source": [
    "def calculate_w(alpha, X, y):\n",
    "        return np.dot(X.T, np.multiply(alpha, y))\n",
    "        #return np.dot((np.tile(y.reshape(1, -1).T, (1, 2)) * X).T, alpha)"
   ]
  },
  {
   "cell_type": "markdown",
   "metadata": {},
   "source": [
    "重复前面三步，就可以实现简易版的SMO算法。"
   ]
  },
  {
   "cell_type": "code",
   "execution_count": 9,
   "metadata": {},
   "outputs": [],
   "source": [
    "def simplified_smo(X, y, C=2, tol=1e-5, epoches=100):\n",
    "    m, n = X.shape    \n",
    "    b = 0\n",
    "    alphas = np.zeros((m, 1))\n",
    "    b = 0.0\n",
    "    epoch = 0\n",
    "    K = X @ X.T\n",
    "    while epoch < epoches:\n",
    "        num_changed_alphas = 0\n",
    "        \n",
    "        for i in range(m):\n",
    "            E_i = f(alphas, b, X, y, X[i,:]) - y[i]\n",
    "            y_i_E_i = float(y[i]) * E_i\n",
    "\n",
    "            if (y_i_E_i < (-1 * tol) and alphas[i] < C) or (y_i_E_i > tol and alphas[i] > 0):\n",
    "                \n",
    "                j = select_j(m, i)\n",
    "\n",
    "                alpha_i_old = alphas[i].copy()\n",
    "                alpha_j_old = alphas[j].copy()\n",
    "\n",
    "                L, H = bound(alphas[i], alphas[j], y[i], y[j], C)\n",
    "\n",
    "                if L == H:\n",
    "                    continue\n",
    "\n",
    "                eta = 2 * K[i, j] - K[i, i] - K[j, j]\n",
    "\n",
    "                if eta >= 0:\n",
    "                    continue\n",
    "                \n",
    "                E_j = f(alphas, b, X, y, X[j,:]) - y[j]\n",
    "\n",
    "                alphas[j] = calculate_alpha_j(y[i], y[j], alphas[i], alphas[j], E_i, E_j, eta, L, H)\n",
    "                \n",
    "                if np.abs(alphas[j] - alpha_j_old) < 0.000005:\n",
    "                    continue\n",
    "                \n",
    "                #alphas[i] += y[i]*y[j]*(alpha_j_old - alphas[j])\n",
    "                alphas[i] = calculate_alpha_i(y[i], y[j], alphas[i], alphas[j], alpha_j_old)\n",
    "\n",
    "                b = calculate_b(b, y[i], y[j], alphas[i], alphas[j], alpha_i_old, alpha_j_old, E_i, E_j, K[i, j], K[i, i], C)\n",
    "                #w = calculate_w(alphas, X, y)\n",
    "                num_changed_alphas += 1\n",
    "        \n",
    "        if num_changed_alphas == 0:\n",
    "            epoch += 1\n",
    "        else:\n",
    "            epoch = 0\n",
    "\n",
    "        w = calculate_w(alphas, X, y)\n",
    "\n",
    "        return alphas, w, b\n"
   ]
  },
  {
   "cell_type": "code",
   "execution_count": 10,
   "metadata": {},
   "outputs": [],
   "source": [
    "def plot(X, y, w, b):\n",
    "\n",
    "    class1 = X[np.tile(y > 0, X.shape[1])].reshape(-1, X.shape[1])\n",
    "    class2 = X[np.tile(y < 0, X.shape[1])].reshape(-1, X.shape[1])\n",
    "\n",
    "    plt.scatter(class1[:, 0], class1[:, 1], s=30, alpha=0.7)\n",
    "    plt.scatter(class2[:, 0], class2[:, 1], s=30, alpha=0.7)\n",
    "\n",
    "    x1, x2 = X[:, 0].max(), X[:, 0].min()\n",
    "    y1, y2 = (-b - w[0]*x1)/w[1], (-b - w[0]*x2)/w[1]\n",
    "\n",
    "    plt.plot([x1, x2], [y1, y2])\n"
   ]
  },
  {
   "cell_type": "code",
   "execution_count": 15,
   "metadata": {},
   "outputs": [
    {
     "name": "stdout",
     "output_type": "stream",
     "text": [
      "[[ 0.96638214]\n",
      " [-0.09663821]] [-0.51680893]\n",
      "0.9333333333333333\n"
     ]
    },
    {
     "data": {
      "image/png": "[encoded data removed]",
      "text/plain": [
       "<Figure size 432x288 with 1 Axes>"
      ]
     },
     "metadata": {},
     "output_type": "display_data"
    }
   ],
   "source": [
    "X = [[1, 8], [3, 20], [1, 15], [3, 35], [5, 35], [4, 40], [7, 80], [6, 49], [\n",
    "    1.5, 25], [3.5, 45], [4.5, 50], [6.5, 15], [5.5, 20], [5.8, 74], [2.5, 5]]\n",
    "y = [1, 1, -1, -1, 1, -1, -1, 1, -1, -1, -1, 1, 1, -1, 1]\n",
    "\n",
    "X = np.array(X).reshape(-1, 2)\n",
    "y = np.array(y).reshape(-1, 1)\n",
    "\n",
    "alphas, w, b = simplified_smo(X, y)\n",
    "print(w, b)\n",
    "y_hat = predict(w, b, X)\n",
    "print(np.mean(y_hat == y))\n",
    "\n",
    "plot(X, y, w, b)\n"
   ]
  },
  {
   "cell_type": "markdown",
   "metadata": {},
   "source": [
    "### 核函数"
   ]
  },
  {
   "cell_type": "markdown",
   "metadata": {},
   "source": [
    "上面求解的支持向量机都是建立在线性可分的假设下，而如果是非线性情况下，可以将样本从原始空间映射到一个更高为的特征空间，使得样本在这个特征空间内线性可分。\n",
    "\n",
    "令 $\\mathrm{\\phi}(\\mathrm{x}$ 表示 $\\mathrm{x}$ 映射后的向量。于是：\n",
    "$$\n",
    "f(\\mathrm{x}) =\\sum_{i=1}^{m} \\alpha_i y^{(i)} \\langle \\mathrm{\\phi}(\\mathrm{x}^{(i)}), \\mathrm{\\phi}(\\mathrm{x}) \\rangle + b\n",
    "$$"
   ]
  },
  {
   "cell_type": "markdown",
   "metadata": {},
   "source": [
    "但是，映射后的向量可能是无穷维空间，计算$\\langle \\mathrm{\\phi}(\\mathrm{x}^{(i)}), \\mathrm{\\phi}(\\mathrm{x}) \\rangle$ 是比较困难的。所以为了简化计算，可以找到某种核函数逼近这个值。\n",
    "$$\n",
    "\\kappa(\\mathrm{x}^{(i)}, \\mathrm{x}^{(j)})   = \\langle \\mathrm{\\phi}(\\mathrm{x}^{(i)}), \\mathrm{\\phi}(\\mathrm{x}^{(j)}) \\rangle\n",
    "$$"
   ]
  },
  {
   "cell_type": "markdown",
   "metadata": {},
   "source": [
    "常见的核函数有\n",
    "$$\n",
    "\\begin{aligned}\n",
    "\\text{线性核}  & \\qquad \\mathrm{x}_i^T \\mathrm{x}_j \\\\\n",
    "\\text{多项式核}&  \\qquad(\\mathrm{x}_i^T \\mathrm{x}_j)^d \\\\\n",
    "\\text{高斯核} &\\qquad\\exp (-\\frac{|\\mathrm{x}_i-\\mathrm{x}_j|^2}{2 \\sigma^2}) \\\\\n",
    "\\text{拉普拉斯核}& \\qquad\\exp (-\\frac{|\\mathrm{x}_i-\\mathrm{x}_j|}{\\sigma}) \\\\\n",
    "\\text{sigmoid核}& \\qquad\\tanh (\\beta \\mathrm{x}_i^T \\mathrm{x}_j+\\theta)\n",
    "\\end{aligned}\n",
    "$$"
   ]
  },
  {
   "cell_type": "markdown",
   "metadata": {},
   "source": [
    "## sklearn SVM"
   ]
  },
  {
   "cell_type": "markdown",
   "metadata": {},
   "source": [
    "```python\n",
    "sklearn.svm.SVC(C=1.0, kernel='rbf', degree=3, gamma='auto', coef0=0.0, shrinking=True, \n",
    "                probability=False, tol=0.001, cache_size=200, class_weight=None, \n",
    "                verbose=False, max_iter=-1, decision_function_shape='ovr', \n",
    "                random_state=None)\n",
    "```"
   ]
  },
  {
   "cell_type": "markdown",
   "metadata": {},
   "source": [
    "### 参数"
   ]
  },
  {
   "cell_type": "markdown",
   "metadata": {},
   "source": [
    "- `C` （float参数 默认值为1.0）\n",
    "  \n",
    "    表示错误项的惩罚系数`C`越大，即对分错样本的惩罚程度越大，因此在训练样本中准确率越高，但是泛化能力降低；相反，减小`C`的话，容许训练样本中有一些误分类错误样本，泛化能力强。对于训练样本带有噪声的情况，一般采用后者，把训练样本集中错误分类的样本作为噪声。\n",
    "- `kernel` （str参数 默认为`‘rbf’`）\n",
    "  \n",
    "    该参数用于选择模型所使用的核函数，算法中常用的核函数有：\n",
    "    \n",
    "    - `linear`：线性核函数\n",
    "    - `poly`：多项式核函数\n",
    "    - `rbf`：径像核函数/高斯核\n",
    "    - `sigmod`：`sigmod`核函数\n",
    "    - `precomputed`：核矩阵，该矩阵表示自己事先计算好的，输入后算法内部将使用你提供的矩阵进行计算\n",
    "- `degree` （int型参数 默认为3）\n",
    "  \n",
    "    该参数只对`'kernel=poly'`(多项式核函数)有用，是指多项式核函数的阶数n，如果给的核函数参数是其他核函数，则会自动忽略该参数。\n",
    "- `gamma` （float参数 默认为auto）\n",
    "  \n",
    "    该参数为核函数系数，只对`‘rbf’`,`‘poly’`,`‘sigmod’`有效。如果`gamma`设置为`auto`，代表其值为样本特征数的倒数，即`1/n_features`，也有其他值可设定。\n",
    "- `coef0`:（float参数 默认为0.0）\n",
    "\n",
    "    该参数表示核函数中的独立项，只有对`‘poly’`和`‘sigmod’`核函数有用，是指其中的参数c。\n",
    "- `probability` （bool参数 默认为`False`）\n",
    "  \n",
    "    该参数表示是否启用概率估计。 这必须在调用`fit()`之前启用，并且会使`fit()`方法速度变慢。\n",
    "- `shrinking`（bool参数 默认为True）\n",
    "  \n",
    "    该参数表示是否选用启发式收缩方式。\n",
    "- `tol`（ float参数 默认为1e^-3）\n",
    "  \n",
    "    svm停止训练的误差精度，也即阈值。\n",
    "- `cache_size`（float参数 默认为200）\n",
    "  \n",
    "    该参数表示指定训练所需要的内存，以MB为单位，默认为200MB。\n",
    "- `class_weight`（字典类型或者`‘balance’`字符串。默认为None）\n",
    "  \n",
    "    该参数表示给每个类别分别设置不同的惩罚参数C，如果没有给，则会给所有类别都给C=1，即前面参数指出的参数C。如果给定参数‘balance’，则使用y的值自动调整与输入数据中的类频率成反比的权重。\n",
    "- `verbose` （ bool参数 默认为`False`）\n",
    "  \n",
    "    该参数表示是否启用详细输出。此设置利用libsvm中的每个进程运行时设置，如果启用，可能无法在多线程上下文中正常工作。一般情况都设为False，不用管它。\n",
    "- `max_iter` （int参数 默认为-1）\n",
    "  \n",
    "    该参数表示最大迭代次数，如果设置为-1则表示不受限制。\n",
    "- `random_state`（int参数 默认为`None`）\n",
    "  \n",
    "    该参数表示在混洗数据时所使用的伪随机数发生器的种子，如果选int，则为随机数生成器种子；如果选RandomState instance，则为随机数生成器；如果选None,则随机数生成器使用的是np.random。"
   ]
  },
  {
   "cell_type": "markdown",
   "metadata": {},
   "source": [
    "### 方法"
   ]
  },
  {
   "cell_type": "markdown",
   "metadata": {},
   "source": [
    "- `svc.decision_function(X)`\n",
    "  \n",
    "    样本X到分离超平面的距离\n",
    "- `svc.fit(X, y[, sample_weight])`\n",
    "  \n",
    "    根据给定的训练数据拟合SVM模型。\n",
    "- `svc.get_params([deep])`\n",
    "  \n",
    "    获取此估算器的参数并以字典行书储存,默认deep=True。\n",
    "- `svc.predict(X)`\n",
    "  \n",
    "    根据测试数据集进行预测\n",
    "- `svc.score(X, y[, sample_weight])`\n",
    "    \n",
    "    返回给定测试数据和标签的平均精确度\n",
    "- `svc.predict_log_proba(X_test)`，`svc.predict_proba(X_test)`\n",
    "  \n",
    "    当`sklearn.svm.SVC(probability=True)`时，才会有这两个值，分别得到样本的对数概率以及普通概率。\n"
   ]
  },
  {
   "cell_type": "code",
   "execution_count": 12,
   "metadata": {},
   "outputs": [
    {
     "name": "stdout",
     "output_type": "stream",
     "text": [
      "The score of rbf is : 1.000000\n",
      "The score of linear is : 1.000000\n",
      "The score of poly is : 0.966667\n"
     ]
    }
   ],
   "source": [
    "from sklearn import svm\n",
    "from sklearn import datasets\n",
    "from sklearn.model_selection import train_test_split\n",
    "\n",
    "# import data\n",
    "iris = datasets.load_iris()\n",
    "X = iris.data\n",
    "y = iris.target\n",
    "\n",
    "# split the data to  8:2\n",
    "X_train, X_test, y_train, y_test = train_test_split(X, y, test_size=0.2)\n",
    "\n",
    "# select different type of kernel function and compare the score\n",
    "\n",
    "# kernel = 'rbf'\n",
    "clf_rbf = svm.SVC(kernel='rbf')\n",
    "clf_rbf.fit(X_train, y_train)\n",
    "score_rbf = clf_rbf.score(X_test, y_test)\n",
    "print(\"The score of rbf is : %f\" % score_rbf)\n",
    "\n",
    "# kernel = 'linear'\n",
    "clf_linear = svm.SVC(kernel='linear')\n",
    "clf_linear.fit(X_train, y_train)\n",
    "score_linear = clf_linear.score(X_test, y_test)\n",
    "print(\"The score of linear is : %f\" % score_linear)\n",
    "\n",
    "# kernel = 'poly'\n",
    "clf_poly = svm.SVC(kernel='poly')\n",
    "clf_poly.fit(X_train, y_train)\n",
    "score_poly = clf_poly.score(X_test, y_test)\n",
    "print(\"The score of poly is : %f\" % score_poly)\n"
   ]
  },
  {
   "cell_type": "markdown",
   "metadata": {},
   "source": [
    "### SVM 可视化"
   ]
  },
  {
   "cell_type": "code",
   "execution_count": 20,
   "metadata": {},
   "outputs": [],
   "source": [
    "from matplotlib.colors import ListedColormap\n",
    "sns.set()\n",
    "def test_plot (X, y, model):\n",
    "    xlim = [np.min(X[:, 0]), np.max(X[:, 0])]\n",
    "    ylim = [np.min(X[:, 1]), np.max(X[:, 1])]\n",
    "    xx, yy = np.meshgrid(np.linspace(*xlim, num=700), np.linspace(*ylim, num=700))\n",
    "    rgb = np.array([[210, 0, 0] , [0, 0, 150]]) / 255.0\n",
    "\n",
    "    model.fit(X, y)\n",
    "\n",
    "    zz = model.decision_function(np.c_[xx.ravel(), yy.ravel()]).reshape(xx.shape)\n",
    "\n",
    "    plt.scatter(X[:, 0], X[:, 1], c=y , s=50 , cmap='autumn')\n",
    "    plt.contour(xx, yy, zz, colors='k', levels=[-1, 0, 1], alpha=0.5, linestyles =['--', '-', '--'])\n",
    "    plt.contourf(xx, yy, np.sign(zz.reshape(xx.shape)), alpha=0.3, levels=2, cmap=ListedColormap(rgb), zorder=1)"
   ]
  },
  {
   "cell_type": "code",
   "execution_count": 21,
   "metadata": {},
   "outputs": [
    {
     "name": "stderr",
     "output_type": "stream",
     "text": [
      "c:\\Users\\mijiy\\anaconda3\\lib\\site-packages\\sklearn\\svm\\_base.py:284: ConvergenceWarning: Solver terminated early (max_iter=100).  Consider pre-processing your data with StandardScaler or MinMaxScaler.\n",
      "  warnings.warn(\n"
     ]
    },
    {
     "data": {
      "image/png": "[encoded data removed]",
      "text/plain": [
       "<Figure size 720x432 with 1 Axes>"
      ]
     },
     "metadata": {},
     "output_type": "display_data"
    },
    {
     "data": {
      "image/png": "[encoded data removed]",
      "text/plain": [
       "<Figure size 720x432 with 1 Axes>"
      ]
     },
     "metadata": {},
     "output_type": "display_data"
    }
   ],
   "source": [
    "from sklearn.datasets import make_blobs , make_circles\n",
    "\n",
    "plt.figure(figsize=(10, 6))\n",
    "X , y = make_blobs(n_samples=50, centers=2, random_state=0, cluster_std=1.4)\n",
    "test_plot (X, y, svm.SVC(kernel='rbf', C=10, max_iter=100, degree=3, gamma=1))\n",
    "plt.figure(figsize=(10, 6))\n",
    "X , y = make_circles (100, factor=.1 , noise=.1)\n",
    "test_plot (X, y, svm.SVC(kernel='rbf', C=10, max_iter=100 , degree=3, gamma=1))"
   ]
  }
 ],
 "metadata": {
  "kernelspec": {
   "display_name": "Python 3.9.12 ('base')",
   "language": "python",
   "name": "python3"
  },
  "language_info": {
   "codemirror_mode": {
    "name": "ipython",
    "version": 3
   },
   "file_extension": ".py",
   "mimetype": "text/x-python",
   "name": "python",
   "nbconvert_exporter": "python",
   "pygments_lexer": "ipython3",
   "version": "3.9.12"
  },
  "orig_nbformat": 4,
  "vscode": {
   "interpreter": {
    "hash": "249b8578a041a4fc48dae2ecb25af571936f57c72007ba9cc0c7a83abc2a1f0c"
   }
  }
 },
 "nbformat": 4,
 "nbformat_minor": 2
}
