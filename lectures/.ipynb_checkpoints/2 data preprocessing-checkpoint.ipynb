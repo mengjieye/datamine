{
 "cells": [
  {
   "cell_type": "markdown",
   "metadata": {},
   "source": [
    "# 数据分析"
   ]
  },
  {
   "cell_type": "markdown",
   "metadata": {},
   "source": [
    "## 描述性统计\n",
    "\n",
    "统计特征函数用于计算数据的均值、方差、标准差、分位数、相关系数、协方差等，这些统计特征能反映出数据的整体趋势。\n",
    "\n",
    "Python中采用Pandas库非常方便完成数据的统计。"
   ]
  },
  {
   "cell_type": "markdown",
   "metadata": {},
   "source": [
    "1. 频数统计"
   ]
  },
  {
   "cell_type": "markdown",
   "metadata": {},
   "source": [
    "```python\n",
    "pandas.DataFrame.value_counts(subset = None, normalize= False, sort= True, ascending= False)\n",
    "```"
   ]
  },
  {
   "cell_type": "code",
   "execution_count": 1,
   "metadata": {},
   "outputs": [
    {
     "name": "stdout",
     "output_type": "stream",
     "text": [
      "        legs  wings\n",
      "falcon     2      2\n",
      "dog        4      0\n",
      "cat        4      0\n",
      "ant        6      0\n",
      "bee        6      4\n"
     ]
    }
   ],
   "source": [
    "import pandas as pd\n",
    "import numpy as np\n",
    "import matplotlib.pyplot as plt\n",
    "legs = [2,4,4,6,6]\n",
    "wings = [2,0,0,0,4]\n",
    "index = [\"falcon\", \"dog\", \"cat\", \"ant\", \"bee\"]\n",
    "\n",
    "df = pd.DataFrame(list(zip(legs, wings)), columns=[\"legs\", \"wings\"], index=index)\n",
    "print(df)"
   ]
  },
  {
   "cell_type": "code",
   "execution_count": 2,
   "metadata": {},
   "outputs": [
    {
     "data": {
      "text/plain": [
       "legs  wings\n",
       "4     0        2\n",
       "2     2        1\n",
       "6     0        1\n",
       "      4        1\n",
       "dtype: int64"
      ]
     },
     "execution_count": 2,
     "metadata": {},
     "output_type": "execute_result"
    }
   ],
   "source": [
    "#统计df各系列数据取值的组合情况的频次\n",
    "df.value_counts()"
   ]
  },
  {
   "cell_type": "markdown",
   "metadata": {},
   "source": [
    "```python\n",
    "pandas.Series.value_counts(normalize=False, sort=True, ascending=False, bins=None, dropna=True)\n",
    "```"
   ]
  },
  {
   "cell_type": "markdown",
   "metadata": {},
   "source": [
    "统计legs的取值"
   ]
  },
  {
   "cell_type": "code",
   "execution_count": 3,
   "metadata": {},
   "outputs": [
    {
     "data": {
      "text/plain": [
       "array([2, 4, 6], dtype=int64)"
      ]
     },
     "execution_count": 3,
     "metadata": {},
     "output_type": "execute_result"
    }
   ],
   "source": [
    "df['legs'].unique()"
   ]
  },
  {
   "cell_type": "markdown",
   "metadata": {},
   "source": [
    "统计取值的频次比例"
   ]
  },
  {
   "cell_type": "code",
   "execution_count": 4,
   "metadata": {},
   "outputs": [
    {
     "data": {
      "text/plain": [
       "4    0.4\n",
       "6    0.4\n",
       "2    0.2\n",
       "Name: legs, dtype: float64"
      ]
     },
     "execution_count": 4,
     "metadata": {},
     "output_type": "execute_result"
    }
   ],
   "source": [
    "df['legs'].value_counts( normalize=True)  "
   ]
  },
  {
   "cell_type": "markdown",
   "metadata": {},
   "source": [
    "2. 集中趋势统计"
   ]
  },
  {
   "cell_type": "markdown",
   "metadata": {},
   "source": [
    "|函数|说明|\n",
    "|:--|:--|\n",
    "```.mean()``` | 计算数据中各列的均值\n",
    "```.median()``` | 计算数据中各列的中位数值\n",
    "```.mode()``` | 计算数据中各列的众数值\n",
    "```.quantile()``` | 计算数据中各列的四（n）分位数值\n"
   ]
  },
  {
   "cell_type": "code",
   "execution_count": 5,
   "metadata": {},
   "outputs": [
    {
     "data": {
      "text/plain": [
       "A    43.82\n",
       "B    51.72\n",
       "C    41.94\n",
       "dtype: float64"
      ]
     },
     "execution_count": 5,
     "metadata": {},
     "output_type": "execute_result"
    }
   ],
   "source": [
    "df = pd.DataFrame(np.random.randint(1,100,(50,3)),columns=list('ABC'))\n",
    "df.mean()    #计算各数据系列的均值\n"
   ]
  },
  {
   "cell_type": "code",
   "execution_count": 6,
   "metadata": {},
   "outputs": [
    {
     "data": {
      "text/plain": [
       "A    38.5\n",
       "B    48.5\n",
       "C    38.5\n",
       "dtype: float64"
      ]
     },
     "execution_count": 6,
     "metadata": {},
     "output_type": "execute_result"
    }
   ],
   "source": [
    "df.median() #计算各数据系列的中位数值"
   ]
  },
  {
   "cell_type": "code",
   "execution_count": 7,
   "metadata": {},
   "outputs": [
    {
     "data": {
      "text/plain": [
       "43.82"
      ]
     },
     "execution_count": 7,
     "metadata": {},
     "output_type": "execute_result"
    }
   ],
   "source": [
    "df['A'].mean()    #计算pandas.Series的均值"
   ]
  },
  {
   "cell_type": "code",
   "execution_count": 8,
   "metadata": {},
   "outputs": [
    {
     "data": {
      "text/plain": [
       "0     8\n",
       "1    38\n",
       "Name: A, dtype: int32"
      ]
     },
     "execution_count": 8,
     "metadata": {},
     "output_type": "execute_result"
    }
   ],
   "source": [
    "df['A'].mode()     #计算pandas.Series的众数值"
   ]
  },
  {
   "cell_type": "code",
   "execution_count": 9,
   "metadata": {},
   "outputs": [
    {
     "data": {
      "text/html": [
       "<div>\n",
       "<style scoped>\n",
       "    .dataframe tbody tr th:only-of-type {\n",
       "        vertical-align: middle;\n",
       "    }\n",
       "\n",
       "    .dataframe tbody tr th {\n",
       "        vertical-align: top;\n",
       "    }\n",
       "\n",
       "    .dataframe thead th {\n",
       "        text-align: right;\n",
       "    }\n",
       "</style>\n",
       "<table border=\"1\" class=\"dataframe\">\n",
       "  <thead>\n",
       "    <tr style=\"text-align: right;\">\n",
       "      <th></th>\n",
       "      <th>A</th>\n",
       "      <th>B</th>\n",
       "      <th>C</th>\n",
       "    </tr>\n",
       "  </thead>\n",
       "  <tbody>\n",
       "    <tr>\n",
       "      <th>0.00</th>\n",
       "      <td>4.00</td>\n",
       "      <td>4.0</td>\n",
       "      <td>2.00</td>\n",
       "    </tr>\n",
       "    <tr>\n",
       "      <th>0.25</th>\n",
       "      <td>25.50</td>\n",
       "      <td>33.5</td>\n",
       "      <td>20.25</td>\n",
       "    </tr>\n",
       "    <tr>\n",
       "      <th>0.50</th>\n",
       "      <td>38.50</td>\n",
       "      <td>48.5</td>\n",
       "      <td>38.50</td>\n",
       "    </tr>\n",
       "    <tr>\n",
       "      <th>0.75</th>\n",
       "      <td>62.75</td>\n",
       "      <td>69.5</td>\n",
       "      <td>57.75</td>\n",
       "    </tr>\n",
       "    <tr>\n",
       "      <th>1.00</th>\n",
       "      <td>99.00</td>\n",
       "      <td>97.0</td>\n",
       "      <td>99.00</td>\n",
       "    </tr>\n",
       "  </tbody>\n",
       "</table>\n",
       "</div>"
      ],
      "text/plain": [
       "          A     B      C\n",
       "0.00   4.00   4.0   2.00\n",
       "0.25  25.50  33.5  20.25\n",
       "0.50  38.50  48.5  38.50\n",
       "0.75  62.75  69.5  57.75\n",
       "1.00  99.00  97.0  99.00"
      ]
     },
     "execution_count": 9,
     "metadata": {},
     "output_type": "execute_result"
    }
   ],
   "source": [
    "df.quantile(q=[0.0,0.25,0.5,0.75,1.0]) #计算各数据系列的四分位数"
   ]
  },
  {
   "cell_type": "code",
   "execution_count": 10,
   "metadata": {},
   "outputs": [
    {
     "data": {
      "text/plain": [
       "36.15"
      ]
     },
     "execution_count": 10,
     "metadata": {},
     "output_type": "execute_result"
    }
   ],
   "source": [
    "df['A'].quantile(q=0.35)     #计算特定分位数值"
   ]
  },
  {
   "cell_type": "markdown",
   "metadata": {},
   "source": [
    "3. 离散程度分析"
   ]
  },
  {
   "cell_type": "markdown",
   "metadata": {},
   "source": [
    "|函数|说明|\n",
    "|:--|:--|\n",
    "```.max()/min()``` | 计算数据中各系列的最大值和最小值\n",
    "```.std()``` | 计算数据中各系列的标准差值\n",
    "```.cov()``` | 计算数据中各系列的协方差值\n",
    "```numpy.ptp()``` | 计算数据中各系列的极差值"
   ]
  },
  {
   "cell_type": "code",
   "execution_count": 11,
   "metadata": {},
   "outputs": [],
   "source": [
    "df=pd.DataFrame(np.random.randint(1,100,(50,3)),columns=list('ABC'))"
   ]
  },
  {
   "cell_type": "code",
   "execution_count": 12,
   "metadata": {},
   "outputs": [],
   "source": [
    "df=pd.DataFrame(np.random.randint(1,100,(50,3)),columns=list('ABC'))"
   ]
  },
  {
   "cell_type": "code",
   "execution_count": 13,
   "metadata": {},
   "outputs": [
    {
     "data": {
      "text/plain": [
       "A    97\n",
       "B    99\n",
       "C    97\n",
       "dtype: int32"
      ]
     },
     "execution_count": 13,
     "metadata": {},
     "output_type": "execute_result"
    }
   ],
   "source": [
    "df.max() #计算各数据系列的最大"
   ]
  },
  {
   "cell_type": "code",
   "execution_count": 14,
   "metadata": {},
   "outputs": [
    {
     "data": {
      "text/plain": [
       "A    23.1264\n",
       "B    25.8336\n",
       "C    22.3456\n",
       "dtype: float64"
      ]
     },
     "execution_count": 14,
     "metadata": {},
     "output_type": "execute_result"
    }
   ],
   "source": [
    "df.mad() #计算各数据系列的平均绝对偏差"
   ]
  },
  {
   "cell_type": "code",
   "execution_count": 15,
   "metadata": {},
   "outputs": [
    {
     "data": {
      "text/plain": [
       "A    28.265223\n",
       "B    29.743831\n",
       "C    27.688419\n",
       "dtype: float64"
      ]
     },
     "execution_count": 15,
     "metadata": {},
     "output_type": "execute_result"
    }
   ],
   "source": [
    "df.std() #计算各数据系列的标准差值"
   ]
  },
  {
   "cell_type": "code",
   "execution_count": 16,
   "metadata": {},
   "outputs": [
    {
     "data": {
      "text/html": [
       "<div>\n",
       "<style scoped>\n",
       "    .dataframe tbody tr th:only-of-type {\n",
       "        vertical-align: middle;\n",
       "    }\n",
       "\n",
       "    .dataframe tbody tr th {\n",
       "        vertical-align: top;\n",
       "    }\n",
       "\n",
       "    .dataframe thead th {\n",
       "        text-align: right;\n",
       "    }\n",
       "</style>\n",
       "<table border=\"1\" class=\"dataframe\">\n",
       "  <thead>\n",
       "    <tr style=\"text-align: right;\">\n",
       "      <th></th>\n",
       "      <th>A</th>\n",
       "      <th>B</th>\n",
       "      <th>C</th>\n",
       "    </tr>\n",
       "  </thead>\n",
       "  <tbody>\n",
       "    <tr>\n",
       "      <th>A</th>\n",
       "      <td>798.922857</td>\n",
       "      <td>-79.219592</td>\n",
       "      <td>-21.092653</td>\n",
       "    </tr>\n",
       "    <tr>\n",
       "      <th>B</th>\n",
       "      <td>-79.219592</td>\n",
       "      <td>884.695510</td>\n",
       "      <td>-138.768980</td>\n",
       "    </tr>\n",
       "    <tr>\n",
       "      <th>C</th>\n",
       "      <td>-21.092653</td>\n",
       "      <td>-138.768980</td>\n",
       "      <td>766.648571</td>\n",
       "    </tr>\n",
       "  </tbody>\n",
       "</table>\n",
       "</div>"
      ],
      "text/plain": [
       "            A           B           C\n",
       "A  798.922857  -79.219592  -21.092653\n",
       "B  -79.219592  884.695510 -138.768980\n",
       "C  -21.092653 -138.768980  766.648571"
      ]
     },
     "execution_count": 16,
     "metadata": {},
     "output_type": "execute_result"
    }
   ],
   "source": [
    "df.cov()"
   ]
  },
  {
   "cell_type": "code",
   "execution_count": 17,
   "metadata": {},
   "outputs": [
    {
     "data": {
      "text/html": [
       "<div>\n",
       "<style scoped>\n",
       "    .dataframe tbody tr th:only-of-type {\n",
       "        vertical-align: middle;\n",
       "    }\n",
       "\n",
       "    .dataframe tbody tr th {\n",
       "        vertical-align: top;\n",
       "    }\n",
       "\n",
       "    .dataframe thead th {\n",
       "        text-align: right;\n",
       "    }\n",
       "</style>\n",
       "<table border=\"1\" class=\"dataframe\">\n",
       "  <thead>\n",
       "    <tr style=\"text-align: right;\">\n",
       "      <th></th>\n",
       "      <th>A</th>\n",
       "      <th>B</th>\n",
       "      <th>C</th>\n",
       "    </tr>\n",
       "  </thead>\n",
       "  <tbody>\n",
       "    <tr>\n",
       "      <th>count</th>\n",
       "      <td>50.000000</td>\n",
       "      <td>50.000000</td>\n",
       "      <td>50.000000</td>\n",
       "    </tr>\n",
       "    <tr>\n",
       "      <th>mean</th>\n",
       "      <td>54.340000</td>\n",
       "      <td>41.280000</td>\n",
       "      <td>58.620000</td>\n",
       "    </tr>\n",
       "    <tr>\n",
       "      <th>std</th>\n",
       "      <td>28.265223</td>\n",
       "      <td>29.743831</td>\n",
       "      <td>27.688419</td>\n",
       "    </tr>\n",
       "    <tr>\n",
       "      <th>min</th>\n",
       "      <td>1.000000</td>\n",
       "      <td>1.000000</td>\n",
       "      <td>1.000000</td>\n",
       "    </tr>\n",
       "    <tr>\n",
       "      <th>25%</th>\n",
       "      <td>35.000000</td>\n",
       "      <td>16.250000</td>\n",
       "      <td>38.750000</td>\n",
       "    </tr>\n",
       "    <tr>\n",
       "      <th>50%</th>\n",
       "      <td>57.000000</td>\n",
       "      <td>35.000000</td>\n",
       "      <td>61.500000</td>\n",
       "    </tr>\n",
       "    <tr>\n",
       "      <th>75%</th>\n",
       "      <td>79.000000</td>\n",
       "      <td>63.500000</td>\n",
       "      <td>81.750000</td>\n",
       "    </tr>\n",
       "    <tr>\n",
       "      <th>max</th>\n",
       "      <td>97.000000</td>\n",
       "      <td>99.000000</td>\n",
       "      <td>97.000000</td>\n",
       "    </tr>\n",
       "  </tbody>\n",
       "</table>\n",
       "</div>"
      ],
      "text/plain": [
       "               A          B          C\n",
       "count  50.000000  50.000000  50.000000\n",
       "mean   54.340000  41.280000  58.620000\n",
       "std    28.265223  29.743831  27.688419\n",
       "min     1.000000   1.000000   1.000000\n",
       "25%    35.000000  16.250000  38.750000\n",
       "50%    57.000000  35.000000  61.500000\n",
       "75%    79.000000  63.500000  81.750000\n",
       "max    97.000000  99.000000  97.000000"
      ]
     },
     "execution_count": 17,
     "metadata": {},
     "output_type": "execute_result"
    }
   ],
   "source": [
    "df.describe()"
   ]
  },
  {
   "cell_type": "markdown",
   "metadata": {},
   "source": [
    "## 相关性分析"
   ]
  },
  {
   "cell_type": "markdown",
   "metadata": {},
   "source": [
    "```df.corr(method='pearson')```\n",
    "\n",
    "```s1.corr(s2, method='pearson')```\n",
    "\n",
    "1. 计算数据样本的Spearman（Pearson）相关系数矩阵,method参数为计算方法，支持pearson（皮尔森相关系数，默认选项）、kendall（肯德尔系数）、spearman（斯皮尔曼系数）\n",
    "\n",
    "2. s1、s2均为Series，这种格式指定计算两个Series之间的相关系数。\n"
   ]
  },
  {
   "cell_type": "code",
   "execution_count": 18,
   "metadata": {},
   "outputs": [
    {
     "data": {
      "text/html": [
       "<div>\n",
       "<style scoped>\n",
       "    .dataframe tbody tr th:only-of-type {\n",
       "        vertical-align: middle;\n",
       "    }\n",
       "\n",
       "    .dataframe tbody tr th {\n",
       "        vertical-align: top;\n",
       "    }\n",
       "\n",
       "    .dataframe thead th {\n",
       "        text-align: right;\n",
       "    }\n",
       "</style>\n",
       "<table border=\"1\" class=\"dataframe\">\n",
       "  <thead>\n",
       "    <tr style=\"text-align: right;\">\n",
       "      <th></th>\n",
       "      <th>国内生产</th>\n",
       "      <th>居民消费水平</th>\n",
       "      <th>固定资产投资</th>\n",
       "      <th>职工平均工资</th>\n",
       "      <th>货物周转量</th>\n",
       "      <th>居民消费价格指数</th>\n",
       "      <th>商品零售价格指数</th>\n",
       "      <th>工业总产值</th>\n",
       "    </tr>\n",
       "    <tr>\n",
       "      <th>省份</th>\n",
       "      <th></th>\n",
       "      <th></th>\n",
       "      <th></th>\n",
       "      <th></th>\n",
       "      <th></th>\n",
       "      <th></th>\n",
       "      <th></th>\n",
       "      <th></th>\n",
       "    </tr>\n",
       "  </thead>\n",
       "  <tbody>\n",
       "    <tr>\n",
       "      <th>北京</th>\n",
       "      <td>1394.89</td>\n",
       "      <td>2505</td>\n",
       "      <td>519.01</td>\n",
       "      <td>8144</td>\n",
       "      <td>373.9</td>\n",
       "      <td>117.3</td>\n",
       "      <td>112.6</td>\n",
       "      <td>843.43</td>\n",
       "    </tr>\n",
       "    <tr>\n",
       "      <th>天津</th>\n",
       "      <td>920.11</td>\n",
       "      <td>2720</td>\n",
       "      <td>345.46</td>\n",
       "      <td>6501</td>\n",
       "      <td>342.8</td>\n",
       "      <td>115.2</td>\n",
       "      <td>110.6</td>\n",
       "      <td>582.51</td>\n",
       "    </tr>\n",
       "    <tr>\n",
       "      <th>河北</th>\n",
       "      <td>2849.52</td>\n",
       "      <td>1258</td>\n",
       "      <td>704.87</td>\n",
       "      <td>4839</td>\n",
       "      <td>2033.3</td>\n",
       "      <td>115.2</td>\n",
       "      <td>115.8</td>\n",
       "      <td>1234.85</td>\n",
       "    </tr>\n",
       "    <tr>\n",
       "      <th>山西</th>\n",
       "      <td>1092.48</td>\n",
       "      <td>1250</td>\n",
       "      <td>290.90</td>\n",
       "      <td>4721</td>\n",
       "      <td>717.3</td>\n",
       "      <td>116.9</td>\n",
       "      <td>115.6</td>\n",
       "      <td>697.25</td>\n",
       "    </tr>\n",
       "    <tr>\n",
       "      <th>内蒙</th>\n",
       "      <td>832.88</td>\n",
       "      <td>1387</td>\n",
       "      <td>250.23</td>\n",
       "      <td>4134</td>\n",
       "      <td>781.7</td>\n",
       "      <td>117.5</td>\n",
       "      <td>116.8</td>\n",
       "      <td>419.39</td>\n",
       "    </tr>\n",
       "    <tr>\n",
       "      <th>辽宁</th>\n",
       "      <td>2793.37</td>\n",
       "      <td>2397</td>\n",
       "      <td>387.99</td>\n",
       "      <td>4911</td>\n",
       "      <td>1371.1</td>\n",
       "      <td>116.1</td>\n",
       "      <td>114.0</td>\n",
       "      <td>1840.55</td>\n",
       "    </tr>\n",
       "    <tr>\n",
       "      <th>吉林</th>\n",
       "      <td>1129.20</td>\n",
       "      <td>1872</td>\n",
       "      <td>320.45</td>\n",
       "      <td>4430</td>\n",
       "      <td>497.4</td>\n",
       "      <td>115.2</td>\n",
       "      <td>114.2</td>\n",
       "      <td>762.47</td>\n",
       "    </tr>\n",
       "    <tr>\n",
       "      <th>黑龙江</th>\n",
       "      <td>2014.53</td>\n",
       "      <td>2334</td>\n",
       "      <td>435.73</td>\n",
       "      <td>4145</td>\n",
       "      <td>824.8</td>\n",
       "      <td>116.1</td>\n",
       "      <td>114.3</td>\n",
       "      <td>1240.37</td>\n",
       "    </tr>\n",
       "    <tr>\n",
       "      <th>上海</th>\n",
       "      <td>2462.57</td>\n",
       "      <td>5343</td>\n",
       "      <td>996.48</td>\n",
       "      <td>9279</td>\n",
       "      <td>207.4</td>\n",
       "      <td>118.7</td>\n",
       "      <td>113.0</td>\n",
       "      <td>1642.95</td>\n",
       "    </tr>\n",
       "    <tr>\n",
       "      <th>江苏</th>\n",
       "      <td>5155.25</td>\n",
       "      <td>1926</td>\n",
       "      <td>1434.95</td>\n",
       "      <td>5943</td>\n",
       "      <td>1025.5</td>\n",
       "      <td>115.8</td>\n",
       "      <td>114.3</td>\n",
       "      <td>2026.64</td>\n",
       "    </tr>\n",
       "    <tr>\n",
       "      <th>浙江</th>\n",
       "      <td>3524.79</td>\n",
       "      <td>2249</td>\n",
       "      <td>1006.39</td>\n",
       "      <td>6619</td>\n",
       "      <td>754.4</td>\n",
       "      <td>116.6</td>\n",
       "      <td>113.5</td>\n",
       "      <td>916.59</td>\n",
       "    </tr>\n",
       "    <tr>\n",
       "      <th>安徽</th>\n",
       "      <td>2003.58</td>\n",
       "      <td>1254</td>\n",
       "      <td>474.00</td>\n",
       "      <td>4609</td>\n",
       "      <td>908.3</td>\n",
       "      <td>114.8</td>\n",
       "      <td>112.7</td>\n",
       "      <td>824.14</td>\n",
       "    </tr>\n",
       "    <tr>\n",
       "      <th>福建</th>\n",
       "      <td>2160.52</td>\n",
       "      <td>2320</td>\n",
       "      <td>553.97</td>\n",
       "      <td>5857</td>\n",
       "      <td>609.3</td>\n",
       "      <td>115.2</td>\n",
       "      <td>114.4</td>\n",
       "      <td>433.67</td>\n",
       "    </tr>\n",
       "    <tr>\n",
       "      <th>江西</th>\n",
       "      <td>1205.11</td>\n",
       "      <td>1182</td>\n",
       "      <td>282.84</td>\n",
       "      <td>4211</td>\n",
       "      <td>411.7</td>\n",
       "      <td>116.9</td>\n",
       "      <td>115.9</td>\n",
       "      <td>571.84</td>\n",
       "    </tr>\n",
       "    <tr>\n",
       "      <th>山东</th>\n",
       "      <td>5002.34</td>\n",
       "      <td>1527</td>\n",
       "      <td>1229.55</td>\n",
       "      <td>5145</td>\n",
       "      <td>1196.6</td>\n",
       "      <td>117.6</td>\n",
       "      <td>114.2</td>\n",
       "      <td>2207.69</td>\n",
       "    </tr>\n",
       "    <tr>\n",
       "      <th>河南</th>\n",
       "      <td>3002.74</td>\n",
       "      <td>1034</td>\n",
       "      <td>670.35</td>\n",
       "      <td>4344</td>\n",
       "      <td>1574.4</td>\n",
       "      <td>116.5</td>\n",
       "      <td>114.9</td>\n",
       "      <td>1367.92</td>\n",
       "    </tr>\n",
       "    <tr>\n",
       "      <th>湖北</th>\n",
       "      <td>2391.42</td>\n",
       "      <td>1527</td>\n",
       "      <td>571.68</td>\n",
       "      <td>4685</td>\n",
       "      <td>849.0</td>\n",
       "      <td>120.0</td>\n",
       "      <td>116.6</td>\n",
       "      <td>1220.72</td>\n",
       "    </tr>\n",
       "    <tr>\n",
       "      <th>湖南</th>\n",
       "      <td>2195.70</td>\n",
       "      <td>1408</td>\n",
       "      <td>422.61</td>\n",
       "      <td>4797</td>\n",
       "      <td>1011.8</td>\n",
       "      <td>119.0</td>\n",
       "      <td>115.5</td>\n",
       "      <td>843.83</td>\n",
       "    </tr>\n",
       "    <tr>\n",
       "      <th>广东</th>\n",
       "      <td>5381.72</td>\n",
       "      <td>2699</td>\n",
       "      <td>1639.83</td>\n",
       "      <td>8250</td>\n",
       "      <td>656.5</td>\n",
       "      <td>114.0</td>\n",
       "      <td>111.6</td>\n",
       "      <td>1396.35</td>\n",
       "    </tr>\n",
       "    <tr>\n",
       "      <th>广西</th>\n",
       "      <td>1606.15</td>\n",
       "      <td>1314</td>\n",
       "      <td>382.59</td>\n",
       "      <td>5150</td>\n",
       "      <td>556.0</td>\n",
       "      <td>118.4</td>\n",
       "      <td>116.4</td>\n",
       "      <td>554.97</td>\n",
       "    </tr>\n",
       "    <tr>\n",
       "      <th>海南</th>\n",
       "      <td>364.17</td>\n",
       "      <td>1814</td>\n",
       "      <td>198.35</td>\n",
       "      <td>5340</td>\n",
       "      <td>232.1</td>\n",
       "      <td>113.5</td>\n",
       "      <td>111.3</td>\n",
       "      <td>64.33</td>\n",
       "    </tr>\n",
       "    <tr>\n",
       "      <th>四川</th>\n",
       "      <td>3534.00</td>\n",
       "      <td>1261</td>\n",
       "      <td>822.54</td>\n",
       "      <td>4645</td>\n",
       "      <td>902.3</td>\n",
       "      <td>118.5</td>\n",
       "      <td>117.0</td>\n",
       "      <td>1431.81</td>\n",
       "    </tr>\n",
       "    <tr>\n",
       "      <th>贵州</th>\n",
       "      <td>630.07</td>\n",
       "      <td>942</td>\n",
       "      <td>150.84</td>\n",
       "      <td>4475</td>\n",
       "      <td>301.1</td>\n",
       "      <td>121.4</td>\n",
       "      <td>117.2</td>\n",
       "      <td>324.72</td>\n",
       "    </tr>\n",
       "    <tr>\n",
       "      <th>云南</th>\n",
       "      <td>1206.68</td>\n",
       "      <td>1261</td>\n",
       "      <td>334.00</td>\n",
       "      <td>5149</td>\n",
       "      <td>310.4</td>\n",
       "      <td>121.3</td>\n",
       "      <td>118.1</td>\n",
       "      <td>716.65</td>\n",
       "    </tr>\n",
       "    <tr>\n",
       "      <th>西藏</th>\n",
       "      <td>55.98</td>\n",
       "      <td>1110</td>\n",
       "      <td>17.87</td>\n",
       "      <td>7382</td>\n",
       "      <td>4.2</td>\n",
       "      <td>117.3</td>\n",
       "      <td>114.9</td>\n",
       "      <td>5.57</td>\n",
       "    </tr>\n",
       "    <tr>\n",
       "      <th>陕西</th>\n",
       "      <td>1000.03</td>\n",
       "      <td>1208</td>\n",
       "      <td>300.27</td>\n",
       "      <td>4396</td>\n",
       "      <td>500.9</td>\n",
       "      <td>119.0</td>\n",
       "      <td>117.0</td>\n",
       "      <td>600.98</td>\n",
       "    </tr>\n",
       "    <tr>\n",
       "      <th>甘肃</th>\n",
       "      <td>553.35</td>\n",
       "      <td>1007</td>\n",
       "      <td>114.81</td>\n",
       "      <td>5493</td>\n",
       "      <td>507.0</td>\n",
       "      <td>119.8</td>\n",
       "      <td>116.5</td>\n",
       "      <td>468.79</td>\n",
       "    </tr>\n",
       "    <tr>\n",
       "      <th>青海</th>\n",
       "      <td>165.31</td>\n",
       "      <td>1445</td>\n",
       "      <td>47.76</td>\n",
       "      <td>5753</td>\n",
       "      <td>61.6</td>\n",
       "      <td>118.0</td>\n",
       "      <td>116.3</td>\n",
       "      <td>105.80</td>\n",
       "    </tr>\n",
       "    <tr>\n",
       "      <th>宁夏</th>\n",
       "      <td>169.75</td>\n",
       "      <td>1355</td>\n",
       "      <td>61.98</td>\n",
       "      <td>5079</td>\n",
       "      <td>121.8</td>\n",
       "      <td>117.1</td>\n",
       "      <td>115.3</td>\n",
       "      <td>114.40</td>\n",
       "    </tr>\n",
       "    <tr>\n",
       "      <th>新疆</th>\n",
       "      <td>834.57</td>\n",
       "      <td>1469</td>\n",
       "      <td>376.96</td>\n",
       "      <td>5348</td>\n",
       "      <td>339.0</td>\n",
       "      <td>119.7</td>\n",
       "      <td>116.7</td>\n",
       "      <td>428.76</td>\n",
       "    </tr>\n",
       "  </tbody>\n",
       "</table>\n",
       "</div>"
      ],
      "text/plain": [
       "        国内生产  居民消费水平   固定资产投资  职工平均工资   货物周转量  居民消费价格指数  商品零售价格指数    工业总产值\n",
       "省份                                                                        \n",
       "北京   1394.89    2505   519.01    8144   373.9     117.3     112.6   843.43\n",
       "天津    920.11    2720   345.46    6501   342.8     115.2     110.6   582.51\n",
       "河北   2849.52    1258   704.87    4839  2033.3     115.2     115.8  1234.85\n",
       "山西   1092.48    1250   290.90    4721   717.3     116.9     115.6   697.25\n",
       "内蒙    832.88    1387   250.23    4134   781.7     117.5     116.8   419.39\n",
       "辽宁   2793.37    2397   387.99    4911  1371.1     116.1     114.0  1840.55\n",
       "吉林   1129.20    1872   320.45    4430   497.4     115.2     114.2   762.47\n",
       "黑龙江  2014.53    2334   435.73    4145   824.8     116.1     114.3  1240.37\n",
       "上海   2462.57    5343   996.48    9279   207.4     118.7     113.0  1642.95\n",
       "江苏   5155.25    1926  1434.95    5943  1025.5     115.8     114.3  2026.64\n",
       "浙江   3524.79    2249  1006.39    6619   754.4     116.6     113.5   916.59\n",
       "安徽   2003.58    1254   474.00    4609   908.3     114.8     112.7   824.14\n",
       "福建   2160.52    2320   553.97    5857   609.3     115.2     114.4   433.67\n",
       "江西   1205.11    1182   282.84    4211   411.7     116.9     115.9   571.84\n",
       "山东   5002.34    1527  1229.55    5145  1196.6     117.6     114.2  2207.69\n",
       "河南   3002.74    1034   670.35    4344  1574.4     116.5     114.9  1367.92\n",
       "湖北   2391.42    1527   571.68    4685   849.0     120.0     116.6  1220.72\n",
       "湖南   2195.70    1408   422.61    4797  1011.8     119.0     115.5   843.83\n",
       "广东   5381.72    2699  1639.83    8250   656.5     114.0     111.6  1396.35\n",
       "广西   1606.15    1314   382.59    5150   556.0     118.4     116.4   554.97\n",
       "海南    364.17    1814   198.35    5340   232.1     113.5     111.3    64.33\n",
       "四川   3534.00    1261   822.54    4645   902.3     118.5     117.0  1431.81\n",
       "贵州    630.07     942   150.84    4475   301.1     121.4     117.2   324.72\n",
       "云南   1206.68    1261   334.00    5149   310.4     121.3     118.1   716.65\n",
       "西藏     55.98    1110    17.87    7382     4.2     117.3     114.9     5.57\n",
       "陕西   1000.03    1208   300.27    4396   500.9     119.0     117.0   600.98\n",
       "甘肃    553.35    1007   114.81    5493   507.0     119.8     116.5   468.79\n",
       "青海    165.31    1445    47.76    5753    61.6     118.0     116.3   105.80\n",
       "宁夏    169.75    1355    61.98    5079   121.8     117.1     115.3   114.40\n",
       "新疆    834.57    1469   376.96    5348   339.0     119.7     116.7   428.76"
      ]
     },
     "metadata": {},
     "output_type": "display_data"
    }
   ],
   "source": [
    "data = pd.read_csv('./datas/地区经济发展竞争力评价.csv',index_col=0, engine='python', encoding='gb2312')\n",
    "display(data)"
   ]
  },
  {
   "cell_type": "markdown",
   "metadata": {},
   "source": [
    "- 定性分析\n",
    "\n",
    "```python\n",
    "scatter_matrix(frame, alpha=0.5, c,figsize=None, ax=None, diagonal='hist', marker='.', density_kwds=None,hist_kwds=None, range_padding=0.05, **kwds)\n",
    "```\n",
    "    - frame：pandas dataframe对象。\n",
    "    - alpha：图像透明度，一般取(0,1]。\n",
    "    - figsize：以英寸为单位的图像大小，一般以元组 (width, height) 形式设置。\n",
    "    - ax：可选一般为none。\n",
    "    - diagonal：必须且只能在{‘hist’, ‘kde’}中选择1个，’hist’表示直方图(Histogram plot),’kde’表示核密度估计(Kernel Density Estimation)；该参数是scatter_matrix函数的关键参数。\n",
    "    - marker：Matplotlib可用的标记类型，如’.’，’,’，’o’等。\n",
    "    - density_kwds：(other plotting keyword arguments，可选)，与kde相关的字典参数。\n",
    "    - hist_kwds：与hist相关的字典参数。\n",
    "    - range_padding：(float, 可选)，图像在x轴、y轴原点附近的留白(padding)，该值越大，留白距离越大，图像远离坐标原点。\n",
    "    - kwds：与scatter_matrix函数本身相关的字典参数。\n",
    "    - c：颜色。"
   ]
  },
  {
   "cell_type": "code",
   "execution_count": 19,
   "metadata": {},
   "outputs": [
    {
     "data": {
      "image/png": "[encoded data removed]",
      "text/plain": [
       "<Figure size 1152x648 with 64 Axes>"
      ]
     },
     "metadata": {
      "needs_background": "light"
     },
     "output_type": "display_data"
    }
   ],
   "source": [
    "axes = pd.plotting.scatter_matrix(data, alpha=0.7, figsize=(16,9), diagonal='kde')\n",
    "plt.rcParams['font.sans-serif']=['SimHei'] #用来正常显示中文标签\n",
    "plt.rcParams['axes.unicode_minus'] = False #用来正常显示负号\n",
    "for ax in axes.flatten():\n",
    "    ax.xaxis.label.set_rotation(90)\n",
    "    ax.yaxis.label.set_rotation(0)\n",
    "    ax.yaxis.label.set_ha('right')\n",
    "plt.show()"
   ]
  },
  {
   "cell_type": "code",
   "execution_count": 20,
   "metadata": {},
   "outputs": [
    {
     "data": {
      "image/png": "[encoded data removed]",
      "text/plain": [
       "<Figure size 1152x648 with 64 Axes>"
      ]
     },
     "metadata": {
      "needs_background": "light"
     },
     "output_type": "display_data"
    }
   ],
   "source": [
    "new_data = data[data.居民消费水平 < 4000]\n",
    "axes = pd.plotting.scatter_matrix(new_data, alpha=0.7, figsize=(16,9), diagonal='kde')\n",
    "for ax in axes.flatten():\n",
    "    ax.xaxis.label.set_rotation(90)\n",
    "    ax.yaxis.label.set_rotation(0)\n",
    "    ax.yaxis.label.set_ha('right')\n",
    "plt.show()\n",
    "plt.show()"
   ]
  },
  {
   "cell_type": "code",
   "execution_count": 21,
   "metadata": {},
   "outputs": [
    {
     "data": {
      "text/html": [
       "<div>\n",
       "<style scoped>\n",
       "    .dataframe tbody tr th:only-of-type {\n",
       "        vertical-align: middle;\n",
       "    }\n",
       "\n",
       "    .dataframe tbody tr th {\n",
       "        vertical-align: top;\n",
       "    }\n",
       "\n",
       "    .dataframe thead th {\n",
       "        text-align: right;\n",
       "    }\n",
       "</style>\n",
       "<table border=\"1\" class=\"dataframe\">\n",
       "  <thead>\n",
       "    <tr style=\"text-align: right;\">\n",
       "      <th></th>\n",
       "      <th>国内生产</th>\n",
       "      <th>居民消费水平</th>\n",
       "      <th>固定资产投资</th>\n",
       "      <th>职工平均工资</th>\n",
       "      <th>货物周转量</th>\n",
       "      <th>居民消费价格指数</th>\n",
       "      <th>商品零售价格指数</th>\n",
       "      <th>工业总产值</th>\n",
       "    </tr>\n",
       "  </thead>\n",
       "  <tbody>\n",
       "    <tr>\n",
       "      <th>国内生产</th>\n",
       "      <td>1.000000</td>\n",
       "      <td>0.266765</td>\n",
       "      <td>0.950584</td>\n",
       "      <td>0.190384</td>\n",
       "      <td>0.617238</td>\n",
       "      <td>-0.272560</td>\n",
       "      <td>-0.263631</td>\n",
       "      <td>0.873744</td>\n",
       "    </tr>\n",
       "    <tr>\n",
       "      <th>居民消费水平</th>\n",
       "      <td>0.266765</td>\n",
       "      <td>1.000000</td>\n",
       "      <td>0.426137</td>\n",
       "      <td>0.717755</td>\n",
       "      <td>-0.151012</td>\n",
       "      <td>-0.235139</td>\n",
       "      <td>-0.592727</td>\n",
       "      <td>0.363099</td>\n",
       "    </tr>\n",
       "    <tr>\n",
       "      <th>固定资产投资</th>\n",
       "      <td>0.950584</td>\n",
       "      <td>0.426137</td>\n",
       "      <td>1.000000</td>\n",
       "      <td>0.399368</td>\n",
       "      <td>0.430623</td>\n",
       "      <td>-0.280486</td>\n",
       "      <td>-0.359052</td>\n",
       "      <td>0.791861</td>\n",
       "    </tr>\n",
       "    <tr>\n",
       "      <th>职工平均工资</th>\n",
       "      <td>0.190384</td>\n",
       "      <td>0.717755</td>\n",
       "      <td>0.399368</td>\n",
       "      <td>1.000000</td>\n",
       "      <td>-0.355975</td>\n",
       "      <td>-0.134348</td>\n",
       "      <td>-0.538389</td>\n",
       "      <td>0.103789</td>\n",
       "    </tr>\n",
       "    <tr>\n",
       "      <th>货物周转量</th>\n",
       "      <td>0.617238</td>\n",
       "      <td>-0.151012</td>\n",
       "      <td>0.430623</td>\n",
       "      <td>-0.355975</td>\n",
       "      <td>1.000000</td>\n",
       "      <td>-0.253175</td>\n",
       "      <td>0.021722</td>\n",
       "      <td>0.658577</td>\n",
       "    </tr>\n",
       "    <tr>\n",
       "      <th>居民消费价格指数</th>\n",
       "      <td>-0.272560</td>\n",
       "      <td>-0.235139</td>\n",
       "      <td>-0.280486</td>\n",
       "      <td>-0.134348</td>\n",
       "      <td>-0.253175</td>\n",
       "      <td>1.000000</td>\n",
       "      <td>0.762838</td>\n",
       "      <td>-0.125217</td>\n",
       "    </tr>\n",
       "    <tr>\n",
       "      <th>商品零售价格指数</th>\n",
       "      <td>-0.263631</td>\n",
       "      <td>-0.592727</td>\n",
       "      <td>-0.359052</td>\n",
       "      <td>-0.538389</td>\n",
       "      <td>0.021722</td>\n",
       "      <td>0.762838</td>\n",
       "      <td>1.000000</td>\n",
       "      <td>-0.192074</td>\n",
       "    </tr>\n",
       "    <tr>\n",
       "      <th>工业总产值</th>\n",
       "      <td>0.873744</td>\n",
       "      <td>0.363099</td>\n",
       "      <td>0.791861</td>\n",
       "      <td>0.103789</td>\n",
       "      <td>0.658577</td>\n",
       "      <td>-0.125217</td>\n",
       "      <td>-0.192074</td>\n",
       "      <td>1.000000</td>\n",
       "    </tr>\n",
       "  </tbody>\n",
       "</table>\n",
       "</div>"
      ],
      "text/plain": [
       "              国内生产    居民消费水平    固定资产投资    职工平均工资     货物周转量  居民消费价格指数  \\\n",
       "国内生产      1.000000  0.266765  0.950584  0.190384  0.617238 -0.272560   \n",
       "居民消费水平    0.266765  1.000000  0.426137  0.717755 -0.151012 -0.235139   \n",
       "固定资产投资    0.950584  0.426137  1.000000  0.399368  0.430623 -0.280486   \n",
       "职工平均工资    0.190384  0.717755  0.399368  1.000000 -0.355975 -0.134348   \n",
       "货物周转量     0.617238 -0.151012  0.430623 -0.355975  1.000000 -0.253175   \n",
       "居民消费价格指数 -0.272560 -0.235139 -0.280486 -0.134348 -0.253175  1.000000   \n",
       "商品零售价格指数 -0.263631 -0.592727 -0.359052 -0.538389  0.021722  0.762838   \n",
       "工业总产值     0.873744  0.363099  0.791861  0.103789  0.658577 -0.125217   \n",
       "\n",
       "          商品零售价格指数     工业总产值  \n",
       "国内生产     -0.263631  0.873744  \n",
       "居民消费水平   -0.592727  0.363099  \n",
       "固定资产投资   -0.359052  0.791861  \n",
       "职工平均工资   -0.538389  0.103789  \n",
       "货物周转量     0.021722  0.658577  \n",
       "居民消费价格指数  0.762838 -0.125217  \n",
       "商品零售价格指数  1.000000 -0.192074  \n",
       "工业总产值    -0.192074  1.000000  "
      ]
     },
     "metadata": {},
     "output_type": "display_data"
    }
   ],
   "source": [
    "corr = data.corr(method='pearson')  #计算产生相关系数矩阵\n",
    "display(corr)"
   ]
  },
  {
   "cell_type": "code",
   "execution_count": 22,
   "metadata": {
    "scrolled": true
   },
   "outputs": [
    {
     "data": {
      "text/plain": [
       "array([[ 1.        ,  0.26676487,  0.95058419,  0.19038412,  0.61723824,\n",
       "        -0.2725597 , -0.26363059,  0.87374374],\n",
       "       [ 0.26676487,  1.        ,  0.42613673,  0.71775496, -0.15101233,\n",
       "        -0.23513868, -0.59272738,  0.36309899],\n",
       "       [ 0.95058419,  0.42613673,  1.        ,  0.39936796,  0.43062284,\n",
       "        -0.28048581, -0.3590517 ,  0.79186051],\n",
       "       [ 0.19038412,  0.71775496,  0.39936796,  1.        , -0.35597525,\n",
       "        -0.13434765, -0.53838854,  0.10378907],\n",
       "       [ 0.61723824, -0.15101233,  0.43062284, -0.35597525,  1.        ,\n",
       "        -0.25317541,  0.02172214,  0.65857654],\n",
       "       [-0.2725597 , -0.23513868, -0.28048581, -0.13434765, -0.25317541,\n",
       "         1.        ,  0.762838  , -0.1252172 ],\n",
       "       [-0.26363059, -0.59272738, -0.3590517 , -0.53838854,  0.02172214,\n",
       "         0.762838  ,  1.        , -0.19207416],\n",
       "       [ 0.87374374,  0.36309899,  0.79186051,  0.10378907,  0.65857654,\n",
       "        -0.1252172 , -0.19207416,  1.        ]])"
      ]
     },
     "metadata": {},
     "output_type": "display_data"
    }
   ],
   "source": [
    "#采用numpy也可以计算相关系数\n",
    "corrcoef = np.corrcoef(data, rowvar=False)\n",
    "display(corrcoef)"
   ]
  },
  {
   "cell_type": "code",
   "execution_count": 23,
   "metadata": {
    "scrolled": true
   },
   "outputs": [
    {
     "data": {
      "image/png": "[encoded data removed]",
      "text/plain": [
       "<Figure size 432x288 with 2 Axes>"
      ]
     },
     "metadata": {},
     "output_type": "display_data"
    }
   ],
   "source": [
    "#绘制相关系数矩阵热力图\n",
    "import seaborn as sns\n",
    "sns.set(font=\"simhei\") #显示中文\n",
    "plt.rcParams['axes.unicode_minus']=False #显示负号\n",
    "sns.heatmap(corr,  annot=True)\n",
    "plt.show()"
   ]
  },
  {
   "cell_type": "markdown",
   "metadata": {},
   "source": [
    "# 数据预处理"
   ]
  },
  {
   "cell_type": "markdown",
   "metadata": {},
   "source": [
    "## 数据类型及精度转换\n",
    "### 类型转换"
   ]
  },
  {
   "cell_type": "markdown",
   "metadata": {},
   "source": [
    "使用多种数据类型或数据结构所具有的`.astype()`函数，可对数据类型和精度进行转换。例如可以将浮点数转换为字符串类型，将整数转换为浮点数，将浮点数转换为整数，将其他数据类型转换为日期时间类型等。\n"
   ]
  },
  {
   "cell_type": "markdown",
   "metadata": {},
   "source": [
    "```.astype()```"
   ]
  },
  {
   "cell_type": "code",
   "execution_count": 24,
   "metadata": {},
   "outputs": [
    {
     "name": "stdout",
     "output_type": "stream",
     "text": [
      "[[0.41766134 0.31883649]\n",
      " [0.0143561  0.59175304]\n",
      " [0.82353064 0.52332223]]\n"
     ]
    },
    {
     "data": {
      "text/plain": [
       "dtype('float64')"
      ]
     },
     "execution_count": 24,
     "metadata": {},
     "output_type": "execute_result"
    }
   ],
   "source": [
    "import numpy as np\n",
    "\n",
    "dat = np.array([[0.41766134, 0.31883649],\n",
    "       [0.0143561 , 0.59175304],\n",
    "       [0.82353064, 0.52332223]])\n",
    "print(dat)\n",
    "dat.dtype\n"
   ]
  },
  {
   "cell_type": "markdown",
   "metadata": {},
   "source": [
    "将数据转换为str类型"
   ]
  },
  {
   "cell_type": "code",
   "execution_count": 25,
   "metadata": {},
   "outputs": [
    {
     "data": {
      "text/plain": [
       "array([['0.41766134', '0.31883649'],\n",
       "       ['0.0143561', '0.59175304'],\n",
       "       ['0.82353064', '0.52332223']], dtype='<U32')"
      ]
     },
     "execution_count": 25,
     "metadata": {},
     "output_type": "execute_result"
    }
   ],
   "source": [
    "dat.astype('str')"
   ]
  },
  {
   "cell_type": "code",
   "execution_count": 26,
   "metadata": {},
   "outputs": [
    {
     "name": "stdout",
     "output_type": "stream",
     "text": [
      "[[9 8 3]\n",
      " [9 6 8]]\n"
     ]
    },
    {
     "data": {
      "text/plain": [
       "dtype('int32')"
      ]
     },
     "execution_count": 26,
     "metadata": {},
     "output_type": "execute_result"
    }
   ],
   "source": [
    "dat =  np.array([[9, 8, 3],\n",
    "       [9, 6, 8]])\n",
    "print(dat)\n",
    "dat.dtype"
   ]
  },
  {
   "cell_type": "code",
   "execution_count": 27,
   "metadata": {},
   "outputs": [
    {
     "name": "stdout",
     "output_type": "stream",
     "text": [
      "[[9. 8. 3.]\n",
      " [9. 6. 8.]]\n"
     ]
    }
   ],
   "source": [
    "print(dat.astype('float64'))"
   ]
  },
  {
   "cell_type": "markdown",
   "metadata": {},
   "source": [
    "### 时间转换"
   ]
  },
  {
   "cell_type": "markdown",
   "metadata": {},
   "source": [
    "利用pandas可以比较方面处理时间类型数据，比如`pandas.to_datetime()`。\n"
   ]
  },
  {
   "cell_type": "code",
   "execution_count": 28,
   "metadata": {},
   "outputs": [],
   "source": [
    "import pandas as pd"
   ]
  },
  {
   "cell_type": "code",
   "execution_count": 29,
   "metadata": {},
   "outputs": [
    {
     "data": {
      "text/plain": [
       "Timestamp('2020-07-28 00:00:00')"
      ]
     },
     "execution_count": 29,
     "metadata": {},
     "output_type": "execute_result"
    }
   ],
   "source": [
    "pd.to_datetime('2020/07/28') #将字符串转换为日期时间"
   ]
  },
  {
   "cell_type": "code",
   "execution_count": 30,
   "metadata": {},
   "outputs": [
    {
     "data": {
      "text/plain": [
       "Timestamp('2020-07-28 13:24:35')"
      ]
     },
     "execution_count": 30,
     "metadata": {},
     "output_type": "execute_result"
    }
   ],
   "source": [
    "pd.to_datetime('20200728132435', format='%Y%m%d%H%M%S')"
   ]
  },
  {
   "cell_type": "code",
   "execution_count": 31,
   "metadata": {},
   "outputs": [
    {
     "data": {
      "text/plain": [
       "Timestamp('1970-01-01 04:08:21.933502912')"
      ]
     },
     "execution_count": 31,
     "metadata": {},
     "output_type": "execute_result"
    }
   ],
   "source": [
    "pd.to_datetime(14901933502912, unit='ns') #将时间值转换为日期时间\n"
   ]
  },
  {
   "cell_type": "markdown",
   "metadata": {},
   "source": [
    "将股票数据中的时间转换为datetime类型"
   ]
  },
  {
   "cell_type": "code",
   "execution_count": 32,
   "metadata": {},
   "outputs": [
    {
     "data": {
      "text/html": [
       "<div>\n",
       "<style scoped>\n",
       "    .dataframe tbody tr th:only-of-type {\n",
       "        vertical-align: middle;\n",
       "    }\n",
       "\n",
       "    .dataframe tbody tr th {\n",
       "        vertical-align: top;\n",
       "    }\n",
       "\n",
       "    .dataframe thead th {\n",
       "        text-align: right;\n",
       "    }\n",
       "</style>\n",
       "<table border=\"1\" class=\"dataframe\">\n",
       "  <thead>\n",
       "    <tr style=\"text-align: right;\">\n",
       "      <th></th>\n",
       "      <th>Date</th>\n",
       "      <th>Close</th>\n",
       "      <th>High</th>\n",
       "      <th>Low</th>\n",
       "      <th>Open</th>\n",
       "      <th>Volume</th>\n",
       "    </tr>\n",
       "  </thead>\n",
       "  <tbody>\n",
       "    <tr>\n",
       "      <th>0</th>\n",
       "      <td>1991/1/2</td>\n",
       "      <td>128.84</td>\n",
       "      <td>128.84</td>\n",
       "      <td>127.61</td>\n",
       "      <td>127.61</td>\n",
       "      <td>91</td>\n",
       "    </tr>\n",
       "    <tr>\n",
       "      <th>1</th>\n",
       "      <td>1991/1/3</td>\n",
       "      <td>130.14</td>\n",
       "      <td>130.14</td>\n",
       "      <td>128.84</td>\n",
       "      <td>128.84</td>\n",
       "      <td>141</td>\n",
       "    </tr>\n",
       "    <tr>\n",
       "      <th>2</th>\n",
       "      <td>1991/1/4</td>\n",
       "      <td>131.44</td>\n",
       "      <td>131.44</td>\n",
       "      <td>130.14</td>\n",
       "      <td>131.27</td>\n",
       "      <td>420</td>\n",
       "    </tr>\n",
       "    <tr>\n",
       "      <th>3</th>\n",
       "      <td>1991/1/7</td>\n",
       "      <td>132.06</td>\n",
       "      <td>132.06</td>\n",
       "      <td>131.45</td>\n",
       "      <td>131.99</td>\n",
       "      <td>217</td>\n",
       "    </tr>\n",
       "    <tr>\n",
       "      <th>4</th>\n",
       "      <td>1991/1/8</td>\n",
       "      <td>132.68</td>\n",
       "      <td>132.68</td>\n",
       "      <td>132.06</td>\n",
       "      <td>132.62</td>\n",
       "      <td>2926</td>\n",
       "    </tr>\n",
       "  </tbody>\n",
       "</table>\n",
       "</div>"
      ],
      "text/plain": [
       "       Date   Close    High     Low    Open  Volume\n",
       "0  1991/1/2  128.84  128.84  127.61  127.61      91\n",
       "1  1991/1/3  130.14  130.14  128.84  128.84     141\n",
       "2  1991/1/4  131.44  131.44  130.14  131.27     420\n",
       "3  1991/1/7  132.06  132.06  131.45  131.99     217\n",
       "4  1991/1/8  132.68  132.68  132.06  132.62    2926"
      ]
     },
     "execution_count": 32,
     "metadata": {},
     "output_type": "execute_result"
    }
   ],
   "source": [
    "df = pd.read_csv(r'./datas/上证指数.csv')\n",
    "df.head()\n"
   ]
  },
  {
   "cell_type": "code",
   "execution_count": 33,
   "metadata": {},
   "outputs": [
    {
     "name": "stdout",
     "output_type": "stream",
     "text": [
      "                Close       High        Low       Open     Volume\n",
      "Date                                                             \n",
      "2020-01-02  3085.1976  3098.1001  3066.3357  3066.3357  292470208\n",
      "2020-01-03  3083.7858  3093.8192  3074.5178  3089.0220  261496667\n",
      "2020-01-06  3083.4083  3107.2032  3065.3088  3070.9088  312575842\n",
      "2020-01-07  3104.8015  3105.4507  3084.3290  3085.4882  276583111\n",
      "2020-01-08  3066.8925  3094.2389  3059.1313  3094.2389  297872553\n",
      "                Close       High        Low       Open     Volume\n",
      "Date                                                             \n",
      "2020-03-25  2781.5913  2788.6354  2757.8016  2775.3032  273144466\n",
      "2020-03-26  2764.9109  2788.5038  2753.4282  2761.8961  234084022\n",
      "2020-03-27  2772.2033  2805.5479  2771.7563  2792.9843  240764066\n",
      "2020-03-30  2747.2138  2759.0989  2723.0543  2739.7191  239706604\n",
      "2020-03-31  2750.2962  2771.1683  2743.1154  2767.3072  218598674\n"
     ]
    }
   ],
   "source": [
    "df.set_index(['Date'], inplace=True)  \t#使用'日期'属性作为df的index\n",
    "df.index = pd.to_datetime(df.index)   \t#将index设为datetime类型\n",
    "df = df['2020-01':'2020-03']     \t\t#选取2020年1月份至3月份的数据\n",
    "print(df.head(5))\n",
    "print(df.tail(5))\n"
   ]
  },
  {
   "cell_type": "markdown",
   "metadata": {},
   "source": [
    "## 数据抽样\n",
    "\n",
    "通常，原始数据的体量非常庞大，在进行数据处理时，为了满足处理过程的及时性和可操作性的要求，仅需抽取其中有代表性的、能说明问题的数据进行计算处理。常用的抽样方法有简单随机抽样、系统抽样、分层抽样、整群抽样等。\n",
    "\n"
   ]
  },
  {
   "cell_type": "markdown",
   "metadata": {},
   "source": [
    "1. \n",
    "```python\n",
    "pandas.DataFrame.sample(n=None, frac=None, replace=False, weights=None, random_state=None, axis=None)\n",
    "```\n",
    "\n",
    "输入参数说明：\n",
    "\n",
    "- n 抽样个数\n",
    "- frac 抽样比例（注意，参数n和frac不能同时使用）\n",
    "- replace 设置是否返回抽样（如果frac对于1，则应设置为True）\n",
    "- weights 为抽样权重，可以是一组对Series或DataFrame的index进行加权的序列，也可以将DataFrame中某数据系列指定为（经归一化处理的）加权序列，默认值None表示等概率权重。\n",
    "- axis 指定按行抽样（0或者'index')还是按列（1或'columns'）抽样\n",
    "\n",
    "输出：\n",
    "- 返回抽样结果\n"
   ]
  },
  {
   "cell_type": "code",
   "execution_count": 34,
   "metadata": {},
   "outputs": [
    {
     "data": {
      "text/html": [
       "<div>\n",
       "<style scoped>\n",
       "    .dataframe tbody tr th:only-of-type {\n",
       "        vertical-align: middle;\n",
       "    }\n",
       "\n",
       "    .dataframe tbody tr th {\n",
       "        vertical-align: top;\n",
       "    }\n",
       "\n",
       "    .dataframe thead th {\n",
       "        text-align: right;\n",
       "    }\n",
       "</style>\n",
       "<table border=\"1\" class=\"dataframe\">\n",
       "  <thead>\n",
       "    <tr style=\"text-align: right;\">\n",
       "      <th></th>\n",
       "      <th>code</th>\n",
       "      <th>number</th>\n",
       "      <th>value</th>\n",
       "      <th>level</th>\n",
       "      <th>score</th>\n",
       "    </tr>\n",
       "  </thead>\n",
       "  <tbody>\n",
       "    <tr>\n",
       "      <th>KEVIN</th>\n",
       "      <td>5</td>\n",
       "      <td>0</td>\n",
       "      <td>3</td>\n",
       "      <td>3</td>\n",
       "      <td>7</td>\n",
       "    </tr>\n",
       "    <tr>\n",
       "      <th>SAM</th>\n",
       "      <td>9</td>\n",
       "      <td>3</td>\n",
       "      <td>5</td>\n",
       "      <td>2</td>\n",
       "      <td>4</td>\n",
       "    </tr>\n",
       "    <tr>\n",
       "      <th>PETER</th>\n",
       "      <td>7</td>\n",
       "      <td>6</td>\n",
       "      <td>8</td>\n",
       "      <td>8</td>\n",
       "      <td>1</td>\n",
       "    </tr>\n",
       "    <tr>\n",
       "      <th>HELEN</th>\n",
       "      <td>6</td>\n",
       "      <td>7</td>\n",
       "      <td>7</td>\n",
       "      <td>8</td>\n",
       "      <td>1</td>\n",
       "    </tr>\n",
       "    <tr>\n",
       "      <th>SMITH</th>\n",
       "      <td>5</td>\n",
       "      <td>9</td>\n",
       "      <td>8</td>\n",
       "      <td>9</td>\n",
       "      <td>4</td>\n",
       "    </tr>\n",
       "  </tbody>\n",
       "</table>\n",
       "</div>"
      ],
      "text/plain": [
       "       code  number  value  level  score\n",
       "KEVIN     5       0      3      3      7\n",
       "SAM       9       3      5      2      4\n",
       "PETER     7       6      8      8      1\n",
       "HELEN     6       7      7      8      1\n",
       "SMITH     5       9      8      9      4"
      ]
     },
     "metadata": {},
     "output_type": "display_data"
    }
   ],
   "source": [
    "data = {\n",
    "    'code':{'KEVIN':5, 'SAM':9, 'PETER':7, 'HELEN':6, 'SMITH':5},\n",
    "    'number':{'KEVIN':0, 'SAM':3, 'PETER':6, 'HELEN':7, 'SMITH':9},\n",
    "    'value':{'KEVIN':3, 'SAM':5, 'PETER':8, 'HELEN':7, 'SMITH':8},\n",
    "    'level':{'KEVIN':3, 'SAM':2, 'PETER':8, 'HELEN':8, 'SMITH':9},\n",
    "    'score':{'KEVIN':7, 'SAM':4, 'PETER':1, 'HELEN':1, 'SMITH':4}\n",
    "}\n",
    "\n",
    "df = pd.DataFrame(data)\n",
    "\n",
    "display(df)"
   ]
  },
  {
   "cell_type": "code",
   "execution_count": 35,
   "metadata": {},
   "outputs": [
    {
     "data": {
      "text/html": [
       "<div>\n",
       "<style scoped>\n",
       "    .dataframe tbody tr th:only-of-type {\n",
       "        vertical-align: middle;\n",
       "    }\n",
       "\n",
       "    .dataframe tbody tr th {\n",
       "        vertical-align: top;\n",
       "    }\n",
       "\n",
       "    .dataframe thead th {\n",
       "        text-align: right;\n",
       "    }\n",
       "</style>\n",
       "<table border=\"1\" class=\"dataframe\">\n",
       "  <thead>\n",
       "    <tr style=\"text-align: right;\">\n",
       "      <th></th>\n",
       "      <th>code</th>\n",
       "      <th>number</th>\n",
       "      <th>value</th>\n",
       "      <th>level</th>\n",
       "      <th>score</th>\n",
       "    </tr>\n",
       "  </thead>\n",
       "  <tbody>\n",
       "    <tr>\n",
       "      <th>KEVIN</th>\n",
       "      <td>5</td>\n",
       "      <td>0</td>\n",
       "      <td>3</td>\n",
       "      <td>3</td>\n",
       "      <td>7</td>\n",
       "    </tr>\n",
       "    <tr>\n",
       "      <th>SAM</th>\n",
       "      <td>9</td>\n",
       "      <td>3</td>\n",
       "      <td>5</td>\n",
       "      <td>2</td>\n",
       "      <td>4</td>\n",
       "    </tr>\n",
       "  </tbody>\n",
       "</table>\n",
       "</div>"
      ],
      "text/plain": [
       "       code  number  value  level  score\n",
       "KEVIN     5       0      3      3      7\n",
       "SAM       9       3      5      2      4"
      ]
     },
     "execution_count": 35,
     "metadata": {},
     "output_type": "execute_result"
    }
   ],
   "source": [
    "df.sample(n=2,weights=(0.9,0.05,0.05,0,0)) "
   ]
  },
  {
   "cell_type": "code",
   "execution_count": 36,
   "metadata": {},
   "outputs": [
    {
     "data": {
      "text/html": [
       "<div>\n",
       "<style scoped>\n",
       "    .dataframe tbody tr th:only-of-type {\n",
       "        vertical-align: middle;\n",
       "    }\n",
       "\n",
       "    .dataframe tbody tr th {\n",
       "        vertical-align: top;\n",
       "    }\n",
       "\n",
       "    .dataframe thead th {\n",
       "        text-align: right;\n",
       "    }\n",
       "</style>\n",
       "<table border=\"1\" class=\"dataframe\">\n",
       "  <thead>\n",
       "    <tr style=\"text-align: right;\">\n",
       "      <th></th>\n",
       "      <th>code</th>\n",
       "      <th>number</th>\n",
       "      <th>value</th>\n",
       "      <th>level</th>\n",
       "      <th>score</th>\n",
       "    </tr>\n",
       "  </thead>\n",
       "  <tbody>\n",
       "    <tr>\n",
       "      <th>HELEN</th>\n",
       "      <td>6</td>\n",
       "      <td>7</td>\n",
       "      <td>7</td>\n",
       "      <td>8</td>\n",
       "      <td>1</td>\n",
       "    </tr>\n",
       "    <tr>\n",
       "      <th>PETER</th>\n",
       "      <td>7</td>\n",
       "      <td>6</td>\n",
       "      <td>8</td>\n",
       "      <td>8</td>\n",
       "      <td>1</td>\n",
       "    </tr>\n",
       "  </tbody>\n",
       "</table>\n",
       "</div>"
      ],
      "text/plain": [
       "       code  number  value  level  score\n",
       "HELEN     6       7      7      8      1\n",
       "PETER     7       6      8      8      1"
      ]
     },
     "execution_count": 36,
     "metadata": {},
     "output_type": "execute_result"
    }
   ],
   "source": [
    "df.sample(n=2, weights='number')    #按df['number']的值进行加权\n"
   ]
  },
  {
   "cell_type": "markdown",
   "metadata": {},
   "source": [
    "2. \n",
    "\n",
    "```numpy.random.sample()```\n"
   ]
  },
  {
   "cell_type": "code",
   "execution_count": 37,
   "metadata": {},
   "outputs": [
    {
     "data": {
      "text/plain": [
       "200"
      ]
     },
     "execution_count": 37,
     "metadata": {},
     "output_type": "execute_result"
    }
   ],
   "source": [
    "import random\n",
    "data = np.random.randint(1, 10, size=(1000, 5)) #产生1000个数据样本\n",
    "sample = random.sample(data.tolist(), 200)  #随机抽取200个\n",
    "len(sample)\n",
    "\n"
   ]
  },
  {
   "cell_type": "markdown",
   "metadata": {},
   "source": [
    "3. \n",
    "```sklearn.model_selection.train_test_split(arrays, * options)```\n",
    "\n",
    "- 参数：\n",
    "    - x 数据集的特征值\n",
    "    - y 数据集的标签值\n",
    "    - test_size 测试集的大小，一般为float\n",
    "    - random_state 随机数种子，不同的种子会造成不同的随机采样结果。相同的种子采样结果相同。\n",
    "\n",
    "- 返回值\n",
    "    - x_train, x_test, y_train, y_test\n"
   ]
  },
  {
   "cell_type": "code",
   "execution_count": 38,
   "metadata": {
    "scrolled": true
   },
   "outputs": [
    {
     "name": "stdout",
     "output_type": "stream",
     "text": [
      "Int64Index([43, 62,  3, 71, 45, 48,  6, 99, 82, 76, 60, 80, 90, 68, 51, 27, 18,\n",
      "            56, 63, 74,  1, 61, 42, 41,  4, 15, 17, 40, 38,  5, 91, 59,  0, 34,\n",
      "            28, 50, 11, 35, 23, 52, 10, 31, 66, 57, 79, 85, 32, 84, 14, 89, 19,\n",
      "            29, 49, 97, 98, 69, 20, 94, 72, 77, 25, 37, 81, 46, 39, 65, 58, 12,\n",
      "            88, 70, 87, 36, 21, 83,  9, 96, 67, 64, 47, 44],\n",
      "           dtype='int64') \n",
      "\n",
      " Int64Index([26, 86, 2, 55, 75, 93, 16, 73, 54, 95, 53, 92, 78, 13, 7, 30, 22,\n",
      "            24, 33, 8],\n",
      "           dtype='int64')\n"
     ]
    }
   ],
   "source": [
    "from sklearn import model_selection\n",
    "X = pd.DataFrame(np.random.rand(100,4)) #pandas.DataFrame数据\n",
    "y = np.random.rand(100,2)\n",
    "X_train, X_test, y_train, y_test = model_selection.train_test_split(X, y, test_size = 0.2, random_state = 0)\n",
    "print(X_train.index, '\\n\\n', X_test.index)\n"
   ]
  },
  {
   "cell_type": "markdown",
   "metadata": {},
   "source": [
    "## 数据清洗\n",
    "\n",
    "数据清洗主要是删除原始数据集中的无关数据、重复数据，平滑噪声数据，处理缺失值、异常值等。"
   ]
  },
  {
   "cell_type": "markdown",
   "metadata": {},
   "source": [
    "### 缺失值处理\n",
    "\n",
    "处理缺失值的方法可分为三类：删除记录、数据插补和不处理。\n",
    "\n",
    "数据中的缺失值，可以通过由本数据系列进行估算，或者从其它相关的数据系列推导出一个估算值，来进行填补。实际应用中，可根据数据的不同特性和要求，选择适当的估值推算方法。\n",
    "\n"
   ]
  },
  {
   "cell_type": "markdown",
   "metadata": {},
   "source": [
    "- 中值、均值或众数插补\n",
    "\n",
    "- 使用固定值\n",
    "\n",
    "- 最近邻插补\n",
    "\n",
    "- 拟合方法\n",
    "\n",
    "- 插值方法"
   ]
  },
  {
   "cell_type": "markdown",
   "metadata": {},
   "source": [
    "1. 查找缺失值"
   ]
  },
  {
   "cell_type": "markdown",
   "metadata": {},
   "source": [
    "```DataFraem.isnull()```\n",
    "\n",
    "```DataFraem.isna()```\n",
    "\n",
    "- NumPy 查找NaN值用np.isnan()。\n",
    "- Pandas查找NaN值要么.isna()，要么.isnull(),两者是一样的，NaN源于 Pandas 构建在 NumPy 之上，而这两个函数的名称源自R的DataFrame，Pandas就是试图模仿它的结构和功能。"
   ]
  },
  {
   "cell_type": "code",
   "execution_count": 39,
   "metadata": {},
   "outputs": [
    {
     "data": {
      "text/html": [
       "<div>\n",
       "<style scoped>\n",
       "    .dataframe tbody tr th:only-of-type {\n",
       "        vertical-align: middle;\n",
       "    }\n",
       "\n",
       "    .dataframe tbody tr th {\n",
       "        vertical-align: top;\n",
       "    }\n",
       "\n",
       "    .dataframe thead th {\n",
       "        text-align: right;\n",
       "    }\n",
       "</style>\n",
       "<table border=\"1\" class=\"dataframe\">\n",
       "  <thead>\n",
       "    <tr style=\"text-align: right;\">\n",
       "      <th></th>\n",
       "      <th>A</th>\n",
       "      <th>B</th>\n",
       "      <th>C</th>\n",
       "      <th>D</th>\n",
       "    </tr>\n",
       "  </thead>\n",
       "  <tbody>\n",
       "    <tr>\n",
       "      <th>0</th>\n",
       "      <td>NaN</td>\n",
       "      <td>2.0</td>\n",
       "      <td>NaN</td>\n",
       "      <td>0</td>\n",
       "    </tr>\n",
       "    <tr>\n",
       "      <th>1</th>\n",
       "      <td>3.0</td>\n",
       "      <td>4.0</td>\n",
       "      <td>NaN</td>\n",
       "      <td>1</td>\n",
       "    </tr>\n",
       "    <tr>\n",
       "      <th>2</th>\n",
       "      <td>NaN</td>\n",
       "      <td>NaN</td>\n",
       "      <td>NaN</td>\n",
       "      <td>5</td>\n",
       "    </tr>\n",
       "    <tr>\n",
       "      <th>3</th>\n",
       "      <td>NaN</td>\n",
       "      <td>3.0</td>\n",
       "      <td>NaN</td>\n",
       "      <td>4</td>\n",
       "    </tr>\n",
       "  </tbody>\n",
       "</table>\n",
       "</div>"
      ],
      "text/plain": [
       "     A    B   C  D\n",
       "0  NaN  2.0 NaN  0\n",
       "1  3.0  4.0 NaN  1\n",
       "2  NaN  NaN NaN  5\n",
       "3  NaN  3.0 NaN  4"
      ]
     },
     "execution_count": 39,
     "metadata": {},
     "output_type": "execute_result"
    }
   ],
   "source": [
    "import pandas as pd\n",
    "import numpy as np\n",
    "df = pd.DataFrame([[np.nan, 2, np.nan, 0],\n",
    "                  [3, 4, np.nan, 1],\n",
    "                 [np.nan, np.nan, np.nan, 5],\n",
    "                [np.nan, 3, np.nan, 4]],\n",
    "                 columns=list('ABCD'))\n",
    "df"
   ]
  },
  {
   "cell_type": "code",
   "execution_count": 40,
   "metadata": {},
   "outputs": [
    {
     "data": {
      "text/plain": [
       "0     True\n",
       "1    False\n",
       "2     True\n",
       "3     True\n",
       "Name: A, dtype: bool"
      ]
     },
     "execution_count": 40,
     "metadata": {},
     "output_type": "execute_result"
    }
   ],
   "source": [
    "df['A'].isnull()  #判断数据系列中是否有NaN值"
   ]
  },
  {
   "cell_type": "code",
   "execution_count": 41,
   "metadata": {},
   "outputs": [
    {
     "data": {
      "text/plain": [
       "0     True\n",
       "1    False\n",
       "2     True\n",
       "3     True\n",
       "Name: A, dtype: bool"
      ]
     },
     "execution_count": 41,
     "metadata": {},
     "output_type": "execute_result"
    }
   ],
   "source": [
    "df['A'].isna() "
   ]
  },
  {
   "cell_type": "code",
   "execution_count": 42,
   "metadata": {},
   "outputs": [
    {
     "data": {
      "text/plain": [
       "A    False\n",
       "B    False\n",
       "C     True\n",
       "D    False\n",
       "Name: 1, dtype: bool"
      ]
     },
     "execution_count": 42,
     "metadata": {},
     "output_type": "execute_result"
    }
   ],
   "source": [
    "df.loc[1].isna()    #判断特定数据样本中是否有为NaN的属性值"
   ]
  },
  {
   "cell_type": "markdown",
   "metadata": {},
   "source": [
    "2. 删除缺失值"
   ]
  },
  {
   "cell_type": "markdown",
   "metadata": {},
   "source": [
    "```python\n",
    "pandas.DataFrame.dropna(axis=0, how='any', thresh=None, subset=None, inplace=False)\n",
    "\n",
    "```"
   ]
  },
  {
   "cell_type": "code",
   "execution_count": 43,
   "metadata": {},
   "outputs": [
    {
     "data": {
      "text/html": [
       "<div>\n",
       "<style scoped>\n",
       "    .dataframe tbody tr th:only-of-type {\n",
       "        vertical-align: middle;\n",
       "    }\n",
       "\n",
       "    .dataframe tbody tr th {\n",
       "        vertical-align: top;\n",
       "    }\n",
       "\n",
       "    .dataframe thead th {\n",
       "        text-align: right;\n",
       "    }\n",
       "</style>\n",
       "<table border=\"1\" class=\"dataframe\">\n",
       "  <thead>\n",
       "    <tr style=\"text-align: right;\">\n",
       "      <th></th>\n",
       "      <th>D</th>\n",
       "    </tr>\n",
       "  </thead>\n",
       "  <tbody>\n",
       "    <tr>\n",
       "      <th>0</th>\n",
       "      <td>0</td>\n",
       "    </tr>\n",
       "    <tr>\n",
       "      <th>1</th>\n",
       "      <td>1</td>\n",
       "    </tr>\n",
       "    <tr>\n",
       "      <th>2</th>\n",
       "      <td>5</td>\n",
       "    </tr>\n",
       "    <tr>\n",
       "      <th>3</th>\n",
       "      <td>4</td>\n",
       "    </tr>\n",
       "  </tbody>\n",
       "</table>\n",
       "</div>"
      ],
      "text/plain": [
       "   D\n",
       "0  0\n",
       "1  1\n",
       "2  5\n",
       "3  4"
      ]
     },
     "execution_count": 43,
     "metadata": {},
     "output_type": "execute_result"
    }
   ],
   "source": [
    "df.dropna(axis=1)"
   ]
  },
  {
   "cell_type": "code",
   "execution_count": 44,
   "metadata": {},
   "outputs": [
    {
     "data": {
      "text/html": [
       "<div>\n",
       "<style scoped>\n",
       "    .dataframe tbody tr th:only-of-type {\n",
       "        vertical-align: middle;\n",
       "    }\n",
       "\n",
       "    .dataframe tbody tr th {\n",
       "        vertical-align: top;\n",
       "    }\n",
       "\n",
       "    .dataframe thead th {\n",
       "        text-align: right;\n",
       "    }\n",
       "</style>\n",
       "<table border=\"1\" class=\"dataframe\">\n",
       "  <thead>\n",
       "    <tr style=\"text-align: right;\">\n",
       "      <th></th>\n",
       "      <th>A</th>\n",
       "      <th>B</th>\n",
       "      <th>C</th>\n",
       "      <th>D</th>\n",
       "    </tr>\n",
       "  </thead>\n",
       "  <tbody>\n",
       "  </tbody>\n",
       "</table>\n",
       "</div>"
      ],
      "text/plain": [
       "Empty DataFrame\n",
       "Columns: [A, B, C, D]\n",
       "Index: []"
      ]
     },
     "execution_count": 44,
     "metadata": {},
     "output_type": "execute_result"
    }
   ],
   "source": [
    "df.dropna(axis=0)"
   ]
  },
  {
   "cell_type": "markdown",
   "metadata": {},
   "source": [
    "3. 填补缺失值"
   ]
  },
  {
   "cell_type": "markdown",
   "metadata": {},
   "source": [
    "1) 单变量方法"
   ]
  },
  {
   "cell_type": "markdown",
   "metadata": {},
   "source": [
    "```python\n",
    "sklearn.impute.SimpleImputer(*, missing_values=nan, strategy='mean', fill_value=None, verbose=0, copy=True, add_indicator=False)\n",
    "```\n",
    "\n",
    "参数含义\n",
    "\n",
    "- missing_values：`int`, `float`, `str`, (默认)`np.nan`或是`None`, 即缺失值是什么。\n",
    "\n",
    "- strategy：空值填充的策略，共四种选择（默认）`mean`、`median`、`most_frequent`、`constant`。`mean`表示该列的缺失值由该列的均值填充。`median`为中位数， `most_frequent`为众数。`constant`表示将空值填充为自定义的值，但这个自定义的值要通过`fill_value`来定义。\n",
    "\n",
    "- fill_value：str或数值，默认为`Zone`。当`strategy == \"constant\"`时，`fill_value`被用来替换所有出现的缺失值（missing_values）。`fill_value`为`Zone`，当处理的是数值数据时，缺失值（missing_values）会替换为`0`，对于字符串或对象数据类型则替换为\"missing_value\" 这一字符串。\n",
    "\n",
    "- verbose：int，（默认）`0`，控制imputer的冗长。\n",
    "\n",
    "- copy：`boolean`，（默认）`True`，表示对数据的副本进行处理，False对数据原地修改。\n",
    "\n",
    "- add_indicator：`boolean`，（默认）`False`，`True`则会在数据后面加入n列由0和1构成的同样大小的数据，0表示所在位置非缺失值，1表示所在位置为缺失值。\n",
    "\n"
   ]
  },
  {
   "cell_type": "markdown",
   "metadata": {},
   "source": [
    "方法 \n",
    "\n",
    "- fit(X)\n",
    "\n",
    "返回值为SimpleImputer()类，通过fit(X)方法可以计算X矩阵的相关值的大小，以便填充其他缺失数据矩阵时进行使用。\n",
    "\n",
    "\n",
    "- transform(X)\n",
    "\n",
    "填补缺失值，一般使用该方法前要先用fit()方法对矩阵进行处理。\n",
    "\n",
    "- fit_transform(X)\n",
    "\n",
    "等价于fit+transform"
   ]
  },
  {
   "cell_type": "code",
   "execution_count": 45,
   "metadata": {},
   "outputs": [
    {
     "data": {
      "text/html": [
       "<div>\n",
       "<style scoped>\n",
       "    .dataframe tbody tr th:only-of-type {\n",
       "        vertical-align: middle;\n",
       "    }\n",
       "\n",
       "    .dataframe tbody tr th {\n",
       "        vertical-align: top;\n",
       "    }\n",
       "\n",
       "    .dataframe thead th {\n",
       "        text-align: right;\n",
       "    }\n",
       "</style>\n",
       "<table border=\"1\" class=\"dataframe\">\n",
       "  <thead>\n",
       "    <tr style=\"text-align: right;\">\n",
       "      <th></th>\n",
       "      <th>A</th>\n",
       "      <th>B</th>\n",
       "      <th>C</th>\n",
       "      <th>D</th>\n",
       "    </tr>\n",
       "  </thead>\n",
       "  <tbody>\n",
       "    <tr>\n",
       "      <th>0</th>\n",
       "      <td>NaN</td>\n",
       "      <td>2.0</td>\n",
       "      <td>NaN</td>\n",
       "      <td>0</td>\n",
       "    </tr>\n",
       "    <tr>\n",
       "      <th>1</th>\n",
       "      <td>3.0</td>\n",
       "      <td>4.0</td>\n",
       "      <td>NaN</td>\n",
       "      <td>1</td>\n",
       "    </tr>\n",
       "    <tr>\n",
       "      <th>2</th>\n",
       "      <td>NaN</td>\n",
       "      <td>NaN</td>\n",
       "      <td>NaN</td>\n",
       "      <td>5</td>\n",
       "    </tr>\n",
       "    <tr>\n",
       "      <th>3</th>\n",
       "      <td>NaN</td>\n",
       "      <td>3.0</td>\n",
       "      <td>NaN</td>\n",
       "      <td>4</td>\n",
       "    </tr>\n",
       "  </tbody>\n",
       "</table>\n",
       "</div>"
      ],
      "text/plain": [
       "     A    B   C  D\n",
       "0  NaN  2.0 NaN  0\n",
       "1  3.0  4.0 NaN  1\n",
       "2  NaN  NaN NaN  5\n",
       "3  NaN  3.0 NaN  4"
      ]
     },
     "execution_count": 45,
     "metadata": {},
     "output_type": "execute_result"
    }
   ],
   "source": [
    "df"
   ]
  },
  {
   "cell_type": "markdown",
   "metadata": {},
   "source": [
    "- 平均值填补"
   ]
  },
  {
   "cell_type": "code",
   "execution_count": 46,
   "metadata": {
    "scrolled": true
   },
   "outputs": [
    {
     "data": {
      "text/html": [
       "<div>\n",
       "<style scoped>\n",
       "    .dataframe tbody tr th:only-of-type {\n",
       "        vertical-align: middle;\n",
       "    }\n",
       "\n",
       "    .dataframe tbody tr th {\n",
       "        vertical-align: top;\n",
       "    }\n",
       "\n",
       "    .dataframe thead th {\n",
       "        text-align: right;\n",
       "    }\n",
       "</style>\n",
       "<table border=\"1\" class=\"dataframe\">\n",
       "  <thead>\n",
       "    <tr style=\"text-align: right;\">\n",
       "      <th></th>\n",
       "      <th>0</th>\n",
       "      <th>1</th>\n",
       "      <th>2</th>\n",
       "    </tr>\n",
       "  </thead>\n",
       "  <tbody>\n",
       "    <tr>\n",
       "      <th>0</th>\n",
       "      <td>3.0</td>\n",
       "      <td>2.0</td>\n",
       "      <td>0.0</td>\n",
       "    </tr>\n",
       "    <tr>\n",
       "      <th>1</th>\n",
       "      <td>3.0</td>\n",
       "      <td>4.0</td>\n",
       "      <td>1.0</td>\n",
       "    </tr>\n",
       "    <tr>\n",
       "      <th>2</th>\n",
       "      <td>3.0</td>\n",
       "      <td>3.0</td>\n",
       "      <td>5.0</td>\n",
       "    </tr>\n",
       "    <tr>\n",
       "      <th>3</th>\n",
       "      <td>3.0</td>\n",
       "      <td>3.0</td>\n",
       "      <td>4.0</td>\n",
       "    </tr>\n",
       "  </tbody>\n",
       "</table>\n",
       "</div>"
      ],
      "text/plain": [
       "     0    1    2\n",
       "0  3.0  2.0  0.0\n",
       "1  3.0  4.0  1.0\n",
       "2  3.0  3.0  5.0\n",
       "3  3.0  3.0  4.0"
      ]
     },
     "metadata": {},
     "output_type": "display_data"
    }
   ],
   "source": [
    "from sklearn.impute import SimpleImputer    #载入SimpleImputer类\n",
    "imp = SimpleImputer(missing_values=np.nan, strategy='mean')\n",
    "df1 = imp.fit_transform(df)\n",
    "display(pd.DataFrame(df1))"
   ]
  },
  {
   "cell_type": "markdown",
   "metadata": {},
   "source": [
    "- 常数值填补"
   ]
  },
  {
   "cell_type": "code",
   "execution_count": 47,
   "metadata": {},
   "outputs": [
    {
     "data": {
      "text/html": [
       "<div>\n",
       "<style scoped>\n",
       "    .dataframe tbody tr th:only-of-type {\n",
       "        vertical-align: middle;\n",
       "    }\n",
       "\n",
       "    .dataframe tbody tr th {\n",
       "        vertical-align: top;\n",
       "    }\n",
       "\n",
       "    .dataframe thead th {\n",
       "        text-align: right;\n",
       "    }\n",
       "</style>\n",
       "<table border=\"1\" class=\"dataframe\">\n",
       "  <thead>\n",
       "    <tr style=\"text-align: right;\">\n",
       "      <th></th>\n",
       "      <th>0</th>\n",
       "      <th>1</th>\n",
       "      <th>2</th>\n",
       "      <th>3</th>\n",
       "    </tr>\n",
       "  </thead>\n",
       "  <tbody>\n",
       "    <tr>\n",
       "      <th>0</th>\n",
       "      <td>6.0</td>\n",
       "      <td>2.0</td>\n",
       "      <td>6.0</td>\n",
       "      <td>0.0</td>\n",
       "    </tr>\n",
       "    <tr>\n",
       "      <th>1</th>\n",
       "      <td>3.0</td>\n",
       "      <td>4.0</td>\n",
       "      <td>6.0</td>\n",
       "      <td>1.0</td>\n",
       "    </tr>\n",
       "    <tr>\n",
       "      <th>2</th>\n",
       "      <td>6.0</td>\n",
       "      <td>6.0</td>\n",
       "      <td>6.0</td>\n",
       "      <td>5.0</td>\n",
       "    </tr>\n",
       "    <tr>\n",
       "      <th>3</th>\n",
       "      <td>6.0</td>\n",
       "      <td>3.0</td>\n",
       "      <td>6.0</td>\n",
       "      <td>4.0</td>\n",
       "    </tr>\n",
       "  </tbody>\n",
       "</table>\n",
       "</div>"
      ],
      "text/plain": [
       "     0    1    2    3\n",
       "0  6.0  2.0  6.0  0.0\n",
       "1  3.0  4.0  6.0  1.0\n",
       "2  6.0  6.0  6.0  5.0\n",
       "3  6.0  3.0  6.0  4.0"
      ]
     },
     "metadata": {},
     "output_type": "display_data"
    }
   ],
   "source": [
    "from sklearn.impute import SimpleImputer    #载入SimpleImputer类\n",
    "imp = SimpleImputer(missing_values=np.nan, strategy='constant', fill_value=6)\n",
    "df1 = imp.fit_transform(df)\n",
    "display(pd.DataFrame(df1))"
   ]
  },
  {
   "cell_type": "markdown",
   "metadata": {},
   "source": [
    "- 对不同列，采用不同的方法进行缺失值填充"
   ]
  },
  {
   "cell_type": "code",
   "execution_count": 48,
   "metadata": {},
   "outputs": [
    {
     "data": {
      "text/html": [
       "<div>\n",
       "<style scoped>\n",
       "    .dataframe tbody tr th:only-of-type {\n",
       "        vertical-align: middle;\n",
       "    }\n",
       "\n",
       "    .dataframe tbody tr th {\n",
       "        vertical-align: top;\n",
       "    }\n",
       "\n",
       "    .dataframe thead th {\n",
       "        text-align: right;\n",
       "    }\n",
       "</style>\n",
       "<table border=\"1\" class=\"dataframe\">\n",
       "  <thead>\n",
       "    <tr style=\"text-align: right;\">\n",
       "      <th></th>\n",
       "      <th>A</th>\n",
       "      <th>B</th>\n",
       "      <th>C</th>\n",
       "      <th>D</th>\n",
       "    </tr>\n",
       "  </thead>\n",
       "  <tbody>\n",
       "    <tr>\n",
       "      <th>0</th>\n",
       "      <td>1.0</td>\n",
       "      <td>2.0</td>\n",
       "      <td>NaN</td>\n",
       "      <td>a</td>\n",
       "    </tr>\n",
       "    <tr>\n",
       "      <th>1</th>\n",
       "      <td>3.0</td>\n",
       "      <td>4.0</td>\n",
       "      <td>NaN</td>\n",
       "      <td>a</td>\n",
       "    </tr>\n",
       "    <tr>\n",
       "      <th>2</th>\n",
       "      <td>NaN</td>\n",
       "      <td>NaN</td>\n",
       "      <td>NaN</td>\n",
       "      <td>NaN</td>\n",
       "    </tr>\n",
       "    <tr>\n",
       "      <th>3</th>\n",
       "      <td>NaN</td>\n",
       "      <td>4.0</td>\n",
       "      <td>NaN</td>\n",
       "      <td>b</td>\n",
       "    </tr>\n",
       "  </tbody>\n",
       "</table>\n",
       "</div>"
      ],
      "text/plain": [
       "     A    B   C    D\n",
       "0  1.0  2.0 NaN    a\n",
       "1  3.0  4.0 NaN    a\n",
       "2  NaN  NaN NaN  NaN\n",
       "3  NaN  4.0 NaN    b"
      ]
     },
     "execution_count": 48,
     "metadata": {},
     "output_type": "execute_result"
    }
   ],
   "source": [
    "df = pd.DataFrame([[1, 2, np.nan, 'a'],\n",
    "                  [3, 4, np.nan, 'a'],\n",
    "                 [np.nan, np.nan, np.nan, np.nan],\n",
    "                [np.nan, 4, np.nan, 'b']],\n",
    "                 columns=list('ABCD'))\n",
    "df"
   ]
  },
  {
   "cell_type": "code",
   "execution_count": 49,
   "metadata": {},
   "outputs": [],
   "source": [
    "# 创建不同的方法\n",
    "#均值：\n",
    "imp_mean = SimpleImputer(missing_values=np.nan, strategy='mean',copy=False)\n",
    "\n",
    "#中位数：\n",
    "imp_median = SimpleImputer(missing_values=np.nan, strategy='median',copy=False)\n",
    "\n",
    "#常数0：\n",
    "imp_const = SimpleImputer(strategy=\"constant\",fill_value=0,copy=False)\n",
    "\n",
    "#众数：\n",
    "imp_most_frequent = SimpleImputer(missing_values=np.nan, strategy='most_frequent',copy=False)"
   ]
  },
  {
   "cell_type": "code",
   "execution_count": 50,
   "metadata": {},
   "outputs": [],
   "source": [
    "#A列\n",
    "df_A = df.loc[:,'A'].values.reshape(-1,1)\n",
    "df.loc[:,'A'] = imp_mean.fit_transform(df_A)\n",
    "\n",
    "#B列\n",
    "df_B = df.loc[:,'B'].values.reshape(-1,1)\n",
    "df.loc[:,'B'] = imp_median.fit_transform(df_B)\n",
    "\n",
    "#C列\n",
    "df_C = df.loc[:,'C'].values.reshape(-1,1)\n",
    "df.loc[:,'C'] = imp_const.fit_transform(df_C)\n",
    "\n",
    "#D列\n",
    "df_D = df.loc[:,'D'].values.reshape(-1,1)\n",
    "df.loc[:,'D'] = imp_most_frequent.fit_transform(df_D)"
   ]
  },
  {
   "cell_type": "code",
   "execution_count": 51,
   "metadata": {},
   "outputs": [
    {
     "data": {
      "text/html": [
       "<div>\n",
       "<style scoped>\n",
       "    .dataframe tbody tr th:only-of-type {\n",
       "        vertical-align: middle;\n",
       "    }\n",
       "\n",
       "    .dataframe tbody tr th {\n",
       "        vertical-align: top;\n",
       "    }\n",
       "\n",
       "    .dataframe thead th {\n",
       "        text-align: right;\n",
       "    }\n",
       "</style>\n",
       "<table border=\"1\" class=\"dataframe\">\n",
       "  <thead>\n",
       "    <tr style=\"text-align: right;\">\n",
       "      <th></th>\n",
       "      <th>A</th>\n",
       "      <th>B</th>\n",
       "      <th>C</th>\n",
       "      <th>D</th>\n",
       "    </tr>\n",
       "  </thead>\n",
       "  <tbody>\n",
       "    <tr>\n",
       "      <th>0</th>\n",
       "      <td>1.0</td>\n",
       "      <td>2.0</td>\n",
       "      <td>0.0</td>\n",
       "      <td>a</td>\n",
       "    </tr>\n",
       "    <tr>\n",
       "      <th>1</th>\n",
       "      <td>3.0</td>\n",
       "      <td>4.0</td>\n",
       "      <td>0.0</td>\n",
       "      <td>a</td>\n",
       "    </tr>\n",
       "    <tr>\n",
       "      <th>2</th>\n",
       "      <td>2.0</td>\n",
       "      <td>4.0</td>\n",
       "      <td>0.0</td>\n",
       "      <td>a</td>\n",
       "    </tr>\n",
       "    <tr>\n",
       "      <th>3</th>\n",
       "      <td>2.0</td>\n",
       "      <td>4.0</td>\n",
       "      <td>0.0</td>\n",
       "      <td>b</td>\n",
       "    </tr>\n",
       "  </tbody>\n",
       "</table>\n",
       "</div>"
      ],
      "text/plain": [
       "     A    B    C  D\n",
       "0  1.0  2.0  0.0  a\n",
       "1  3.0  4.0  0.0  a\n",
       "2  2.0  4.0  0.0  a\n",
       "3  2.0  4.0  0.0  b"
      ]
     },
     "metadata": {},
     "output_type": "display_data"
    }
   ],
   "source": [
    "display(df)"
   ]
  },
  {
   "cell_type": "markdown",
   "metadata": {},
   "source": [
    "2. 最近邻方法\n",
    "\n",
    "用于缺失值插补的单变量方法是估计值的简单方法，可能无法始终提供准确的信息。在某些信息缺失的情况下，像k-最近邻（kNN）这样的算法可以帮助对缺失数据的值进行插补。它通过距离测量来识别相邻点，并且可以使用相邻观测值的完整值来估计缺失值。\n",
    "\n",
    "kNN方法的思想是在数据集中识别空间相似或相近的k个样本。然后我们使用这些“k”个样本来估计缺失数据点的值。每个样本的缺失值使用数据集中找到的“k”邻域的平均值进行插补。"
   ]
  },
  {
   "attachments": {
    "image.png": {
     "image/png": "[encoded data removed]"
    }
   },
   "cell_type": "markdown",
   "metadata": {},
   "source": [
    "![image.png](attachment:image.png)"
   ]
  },
  {
   "cell_type": "markdown",
   "metadata": {},
   "source": [
    "```python\n",
    "sklearn.impute.KNNImputer(*, missing_values=nan, n_neighbors=5, weights='uniform', metric='nan_euclidean', copy=True, add_indicator=False)\n",
    "```\n",
    "\n",
    "参数\t说明\n",
    "- missing_values：`int`, `float`, `str`, (默认)`np.nan`或是`None`, 即缺失值是什么。\n",
    "- n_neighbors：`int`, default=5，用于插补的相邻样本数。\n",
    "- weights\t{‘uniform’, ‘distance’}， default=’uniform’，预测中使用的权重函数。可能的值：\n",
    "\n",
    "    - 'uniform'：统一的权重。每个邻域内的所有点的权重是相等的。\n",
    "    - 'distance'：权重按点的距离的倒数表示。在这种情况下，查询点较近的邻居将比较远的邻居具有更大的影响。\n",
    "    - callable：用户定义的函数，该函数接受距离数组，并返回包含权重的相同形状的数组。\n",
    "- metric\t{‘nan_euclidean’} or callable, default=’nan_euclidean’。用于搜索邻居的距离度量。可能的值：\n",
    "\n",
    "    - 'nan_euclidean'\n",
    "    - callable：符合`_pairwise_callable(X, Y, metric, **kwds)`定义的用户定义函数。该函数接受两个数组X和Y，以及kwds中的一个missing_values关键字， 并返回标量距离值。\n",
    "\n",
    "- copy：`boolean`，（默认）`True`，表示对数据的副本进行处理，False对数据原地修改。\n",
    "\n",
    "- add_indicator：`boolean`，（默认）`False`，`True`则会在数据后面加入n列由0和1构成的同样大小的数据，0表示所在位置非缺失值，1表示所在位置为缺失值。\n"
   ]
  },
  {
   "cell_type": "code",
   "execution_count": 52,
   "metadata": {},
   "outputs": [
    {
     "data": {
      "text/html": [
       "<div>\n",
       "<style scoped>\n",
       "    .dataframe tbody tr th:only-of-type {\n",
       "        vertical-align: middle;\n",
       "    }\n",
       "\n",
       "    .dataframe tbody tr th {\n",
       "        vertical-align: top;\n",
       "    }\n",
       "\n",
       "    .dataframe thead th {\n",
       "        text-align: right;\n",
       "    }\n",
       "</style>\n",
       "<table border=\"1\" class=\"dataframe\">\n",
       "  <thead>\n",
       "    <tr style=\"text-align: right;\">\n",
       "      <th></th>\n",
       "      <th>A</th>\n",
       "      <th>B</th>\n",
       "      <th>C</th>\n",
       "      <th>D</th>\n",
       "    </tr>\n",
       "  </thead>\n",
       "  <tbody>\n",
       "    <tr>\n",
       "      <th>0</th>\n",
       "      <td>NaN</td>\n",
       "      <td>2.0</td>\n",
       "      <td>NaN</td>\n",
       "      <td>0</td>\n",
       "    </tr>\n",
       "    <tr>\n",
       "      <th>1</th>\n",
       "      <td>3.0</td>\n",
       "      <td>4.0</td>\n",
       "      <td>NaN</td>\n",
       "      <td>1</td>\n",
       "    </tr>\n",
       "    <tr>\n",
       "      <th>2</th>\n",
       "      <td>NaN</td>\n",
       "      <td>NaN</td>\n",
       "      <td>NaN</td>\n",
       "      <td>5</td>\n",
       "    </tr>\n",
       "    <tr>\n",
       "      <th>3</th>\n",
       "      <td>NaN</td>\n",
       "      <td>3.0</td>\n",
       "      <td>NaN</td>\n",
       "      <td>4</td>\n",
       "    </tr>\n",
       "  </tbody>\n",
       "</table>\n",
       "</div>"
      ],
      "text/plain": [
       "     A    B   C  D\n",
       "0  NaN  2.0 NaN  0\n",
       "1  3.0  4.0 NaN  1\n",
       "2  NaN  NaN NaN  5\n",
       "3  NaN  3.0 NaN  4"
      ]
     },
     "execution_count": 52,
     "metadata": {},
     "output_type": "execute_result"
    }
   ],
   "source": [
    "import pandas as pd\n",
    "import numpy as np\n",
    "df = pd.DataFrame([[np.nan, 2, np.nan, 0],\n",
    "                  [3, 4, np.nan, 1],\n",
    "                 [np.nan, np.nan, np.nan, 5],\n",
    "                [np.nan, 3, np.nan, 4]],\n",
    "                 columns=list('ABCD'))\n",
    "df"
   ]
  },
  {
   "cell_type": "code",
   "execution_count": 53,
   "metadata": {},
   "outputs": [
    {
     "data": {
      "text/plain": [
       "array([[3. , 2. , 0. ],\n",
       "       [3. , 4. , 1. ],\n",
       "       [3. , 3.5, 5. ],\n",
       "       [3. , 3. , 4. ]])"
      ]
     },
     "execution_count": 53,
     "metadata": {},
     "output_type": "execute_result"
    }
   ],
   "source": [
    "from sklearn.impute import KNNImputer\n",
    "imp = KNNImputer(n_neighbors=2)\n",
    "imp.fit_transform(df)"
   ]
  },
  {
   "cell_type": "code",
   "execution_count": 54,
   "metadata": {},
   "outputs": [
    {
     "name": "stdout",
     "output_type": "stream",
     "text": [
      "     0  1    2\n",
      "0  1.0  2  NaN\n",
      "1  3.0  4  3.0\n",
      "2  NaN  6  5.0\n",
      "3  8.0  8  7.0\n"
     ]
    },
    {
     "data": {
      "text/plain": [
       "array([[1. , 2. , 4. ],\n",
       "       [3. , 4. , 3. ],\n",
       "       [5.5, 6. , 5. ],\n",
       "       [8. , 8. , 7. ]])"
      ]
     },
     "execution_count": 54,
     "metadata": {},
     "output_type": "execute_result"
    }
   ],
   "source": [
    "nan = np.nan\n",
    "X = [[1, 2, nan], [3, 4, 3], [nan, 6, 5], [8, 8, 7]]\n",
    "X = pd.DataFrame(X)\n",
    "print(X)\n",
    "imputer = KNNImputer(n_neighbors=2, weights=\"uniform\")\n",
    "imputer.fit_transform(X)"
   ]
  },
  {
   "cell_type": "markdown",
   "metadata": {},
   "source": [
    "3. 多项式拟合"
   ]
  },
  {
   "cell_type": "code",
   "execution_count": 55,
   "metadata": {},
   "outputs": [
    {
     "data": {
      "text/plain": [
       "<matplotlib.legend.Legend at 0x287b97530d0>"
      ]
     },
     "execution_count": 55,
     "metadata": {},
     "output_type": "execute_result"
    },
    {
     "data": {
      "image/png": "[encoded data removed]",
      "text/plain": [
       "<Figure size 432x288 with 1 Axes>"
      ]
     },
     "metadata": {},
     "output_type": "display_data"
    }
   ],
   "source": [
    "import numpy as np\n",
    "\n",
    "x_train = np.linspace(0,1,10)\n",
    "y_train = np.sin(2*np.pi*x_train) + np.random.normal(scale=0.15, size=x_train.shape)\n",
    "x_test = np.linspace(0, 1, 100)\n",
    "y_test = np.sin(2*np.pi*x_test)\n",
    "plt.scatter(x_train,y_train, facecolor=\"none\", edgecolor=\"b\", s=50, label=\"training data\")\n",
    "plt.plot(x_test, y_test, c=\"g\", label=\"$\\sin(2\\pi x)$\")\n",
    "plt.legend()"
   ]
  },
  {
   "cell_type": "markdown",
   "metadata": {},
   "source": [
    "给定N个观测点\n",
    "$$(x_1, y_1), (x_2, y_2),\\cdots, (x_N, y_N)$$\n",
    "设多项式为：\n",
    "$$\n",
    "f_M(x, W)=w_0+w_1 x+w_2 x^2+\\ldots+w_M x^M=\\sum_{j=0}^M w_j x^j\n",
    "$$\n",
    "\n",
    "其中$M$是多项式的阶数，$w_0, \\cdots, w_M$是多项式的系数，记做$W$，可以看到虽然多项式函数$f_M(x, W)$是关于$x$非线性函数，但是却是关于多项式系数$W$的线性函数。有了多项式以后我们还需要一个误差函数来对我们拟合出的多项式进行评估，这里我们使用均方误差(最小二乘法），公式如下：\n",
    "$$\n",
    "L(W)=\\frac{1}{2} \\sum_{i=1}^N\\left(f_M\\left(x_i, W\\right)-y_i\\right)^2\n",
    "$$\n",
    "\n",
    "拟合数据的目的是最小化误差函数，因为误差函数是多项式系数的二次函数，因此它关于系数$W$的导数是线性函数，所以误差函数的最小值有一个唯一解$W^*$。\n",
    "\n",
    "对$w_k$求偏导并令其为0。\n",
    "$$\n",
    "\\frac{\\partial L(W)}{\\partial w_k}=0\n",
    "$$\n",
    "得到\n",
    "$$\n",
    "\\sum_{i=1}^N \\sum_{j=0}^M w_j x_i^{j+k}=\\sum_{i=1}^N x_i^k y_i(k=0,1,2, \\cdots, M)\n",
    "$$\n",
    "\n",
    "所以系数可以由下列方程求解得到\n",
    "\n",
    "$$\n",
    "\\left[\\begin{array}{ccccc}\n",
    "N & \\sum x_i & \\sum x_i^2 & \\cdots & \\sum x_i^M \\\\\n",
    "\\sum x_i & \\sum x_i^2 & \\sum x_i^3 & \\cdots & \\sum x_i^{M+1} \\\\\n",
    "\\sum x_i^2 & \\sum x_i^3 & \\sum x_i^4 & \\cdots & \\sum x_i^{M+2} \\\\\n",
    "\\vdots & \\vdots & \\vdots & \\ddots & \\cdots \\\\\n",
    "\\sum x_i^M & \\sum x_i^{M+1} & \\sum x_i^{M+2} & \\cdots & \\sum x_i^{2 M}\n",
    "\\end{array}\\right]\\left(\\begin{array}{c}\n",
    "w_0 \\\\\n",
    "w_1 \\\\\n",
    "w_2 \\\\\n",
    "\\vdots \\\\\n",
    "w_M\n",
    "\\end{array}\\right)=\\left[\\begin{array}{c}\n",
    "\\sum y_i \\\\\n",
    "\\sum x_i y_i \\\\\n",
    "\\sum x_i^2 y_i \\\\\n",
    "\\vdots \\\\\n",
    "\\sum x_i^M y_i\n",
    "\\end{array}\\right]\n",
    "$$"
   ]
  },
  {
   "cell_type": "markdown",
   "metadata": {},
   "source": [
    "可以调用NumPy库的polyfit方法实现多项式拟合。"
   ]
  },
  {
   "cell_type": "markdown",
   "metadata": {},
   "source": [
    "```python\n",
    "numpy.polyfit(x, y, deg, rcond=None, full=False, w=None, cov=False)\n",
    "```"
   ]
  },
  {
   "cell_type": "markdown",
   "metadata": {},
   "source": [
    "- x,y 表示观测点$(x_i,y_i)$的坐标\n",
    "- deg 表示多项式的最高次数\n",
    "- 返回多项式的系数，从高到低"
   ]
  },
  {
   "cell_type": "code",
   "execution_count": 56,
   "metadata": {},
   "outputs": [
    {
     "data": {
      "image/png": "[encoded data removed]",
      "text/plain": [
       "<Figure size 864x576 with 4 Axes>"
      ]
     },
     "metadata": {},
     "output_type": "display_data"
    }
   ],
   "source": [
    "import numpy as np\n",
    "\n",
    "x_train = np.linspace(0,1,10)\n",
    "y_train = np.sin(2*np.pi*x_train) + np.random.normal(scale=0.15, size=x_train.shape)\n",
    "x_test = np.linspace(0, 1, 100)\n",
    "y_test = np.sin(2*np.pi*x_test)\n",
    "\n",
    "fig = plt.figure(figsize=(12,8))\n",
    "for i,order in enumerate([0,1,3,9]):  \n",
    "    plt.subplot(2,2,i+1)\n",
    "\n",
    "    p = np.polyfit(x_train, y_train, order)\n",
    "    y_pred = np.polyval(p, x_test)\n",
    "    plt.scatter(x_train,y_train, facecolor=\"none\", edgecolor=\"b\", s=50, label=\"training data\")\n",
    "    plt.plot(x_test, y_pred, c=\"r\",label=\"fitting\")\n",
    "    plt.plot(x_test, y_test, c=\"g\", label=\"$\\sin(2\\pi x)$\")\n",
    "    plt.legend()\n"
   ]
  },
  {
   "cell_type": "markdown",
   "metadata": {},
   "source": [
    "可以使用 sklearn.preprocessing.PolynomialFeatures 这个类可以进行特征的构造，构造的方式就是特征与特征相乘，这种方式叫做使用多项式的方式。\n",
    "\n",
    "例如：有 a、b 两个特征，那么它的 2 次多项式的次数为 $[1,a,b,a^2,ab,b^2]$。"
   ]
  },
  {
   "cell_type": "markdown",
   "metadata": {},
   "source": [
    "```python\n",
    "sklearn.preprocessing.PolynomialFeatures(degree=2, *, interaction_only=False, include_bias=True, order='C')\n",
    "```"
   ]
  },
  {
   "cell_type": "markdown",
   "metadata": {},
   "source": [
    "这个类有 3 个参数：\n",
    "- degree：控制多项式的次数；\n",
    "- interaction_only：默认为 False，如果指定为 True，那么就不会有特征自己和自己结合的项，组合的特征中没有 $a^2$ 和 $b^2$；\n",
    "- include_bias：默认为 True 。如果为 True 的话，那么结果中就会有 0 次幂项，即全为 1 这一列。"
   ]
  },
  {
   "cell_type": "code",
   "execution_count": 57,
   "metadata": {},
   "outputs": [
    {
     "name": "stdout",
     "output_type": "stream",
     "text": [
      "[[0 1]\n",
      " [2 3]\n",
      " [4 5]]\n"
     ]
    }
   ],
   "source": [
    "import numpy as np\n",
    "from sklearn.preprocessing import PolynomialFeatures\n",
    "X = np.arange(6).reshape(3, 2)\n",
    "print(X)"
   ]
  },
  {
   "cell_type": "code",
   "execution_count": 58,
   "metadata": {},
   "outputs": [
    {
     "data": {
      "text/plain": [
       "array([[ 1.,  0.,  1.,  0.,  0.,  1.],\n",
       "       [ 1.,  2.,  3.,  4.,  6.,  9.],\n",
       "       [ 1.,  4.,  5., 16., 20., 25.]])"
      ]
     },
     "execution_count": 58,
     "metadata": {},
     "output_type": "execute_result"
    }
   ],
   "source": [
    "poly = PolynomialFeatures(2)\n",
    "poly.fit_transform(X)"
   ]
  },
  {
   "cell_type": "code",
   "execution_count": 59,
   "metadata": {},
   "outputs": [
    {
     "data": {
      "text/plain": [
       "array([[ 1.,  0.,  1.,  0.],\n",
       "       [ 1.,  2.,  3.,  6.],\n",
       "       [ 1.,  4.,  5., 20.]])"
      ]
     },
     "execution_count": 59,
     "metadata": {},
     "output_type": "execute_result"
    }
   ],
   "source": [
    "poly = PolynomialFeatures(interaction_only=True)\n",
    "poly.fit_transform(X)"
   ]
  },
  {
   "cell_type": "code",
   "execution_count": 60,
   "metadata": {},
   "outputs": [
    {
     "data": {
      "image/png": "[encoded data removed]",
      "text/plain": [
       "<Figure size 864x576 with 4 Axes>"
      ]
     },
     "metadata": {},
     "output_type": "display_data"
    }
   ],
   "source": [
    "from sklearn.preprocessing import PolynomialFeatures\n",
    "from sklearn.linear_model import LinearRegression\n",
    "import matplotlib.pyplot as plt\n",
    "x_train = x_train.reshape(-1, 1)\n",
    "y_train = y_train.reshape(-1, 1)\n",
    "x_test = x_test.reshape(-1, 1)\n",
    "y_test = y_test.reshape(-1, 1)\n",
    "fig = plt.figure(figsize=(12,8))\n",
    "for i,order in enumerate([0,1,3,9]):  \n",
    "    plt.subplot(2,2,i+1)\n",
    "\n",
    "    poly = PolynomialFeatures(order)\n",
    "    x_train_ploy = poly.fit_transform(x_train)\n",
    "    x_test_ploy = poly.fit_transform(x_test)\n",
    "    \n",
    "    lr = LinearRegression()\n",
    "    lr.fit(x_train_ploy,y_train)\n",
    "    y_pred = lr.predict(x_test_ploy)\n",
    "\n",
    "    plt.scatter(x_train, y_train,facecolor=\"none\", edgecolor=\"b\", s=50, label=\"training data\")\n",
    "    plt.plot(x_test, y_pred,c=\"r\",label=\"fitting\")\n",
    "    plt.plot(x_test, y_test,c=\"g\",label=\"$\\sin(2\\pi x)$\")\n",
    "    plt.title(\"M={}\".format(order))\n",
    "    plt.legend()"
   ]
  },
  {
   "cell_type": "markdown",
   "metadata": {},
   "source": [
    "4. 多项式插值"
   ]
  },
  {
   "cell_type": "code",
   "execution_count": 61,
   "metadata": {},
   "outputs": [
    {
     "data": {
      "text/plain": [
       "<matplotlib.legend.Legend at 0x287b806a280>"
      ]
     },
     "execution_count": 61,
     "metadata": {},
     "output_type": "execute_result"
    },
    {
     "data": {
      "image/png": "[encoded data removed]",
      "text/plain": [
       "<Figure size 432x288 with 1 Axes>"
      ]
     },
     "metadata": {},
     "output_type": "display_data"
    }
   ],
   "source": [
    "import numpy as np\n",
    "\n",
    "x_train = np.linspace(0,1,10)\n",
    "y_train = np.sin(2*np.pi*x_train) + np.random.normal(scale=0.15, size=x_train.shape)\n",
    "x_test = np.linspace(0, 1, 100)\n",
    "y_test = np.sin(2*np.pi*x_test)\n",
    "plt.scatter(x_train,y_train, facecolor=\"none\", edgecolor=\"b\", s=50, label=\"training data\")\n",
    "plt.plot(x_test, y_test, c=\"g\", label=\"$\\sin(2\\pi x)$\")\n",
    "plt.legend()"
   ]
  },
  {
   "cell_type": "markdown",
   "metadata": {},
   "source": [
    "问题描述：\n",
    "\n",
    "给定一组$n+1$个数据点$（x_i, y_i)$，其中任意两个点x_i都不相同，需要找到一个满足\n",
    "$$p(x_{i})= y_{i}, i=0,\\ldots ,n. $$\n",
    "的不大于 $n$ 阶的 $p$ 阶多项式。唯一性定理表明存在一个并且只存在一个这样的 $p$ 阶多项式。"
   ]
  },
  {
   "cell_type": "markdown",
   "metadata": {},
   "source": [
    "假设插值多项式的形式为\n",
    "$$p(x) = w_0 + w_1 x + w_2 x^2  + \\cdots + w_{n-1} x^{n-1}+ w_n x^n . $$\n",
    "由$p(x_i) = y_i, \\forall i \\in \\left\\{ 0, 1, \\dots, n\\right\\}$,\n",
    "如果代入上述多项式，就得到系数为$w_k$ 的线性方程系统，用矩阵向量形式表示为\n",
    "$$\n",
    "\\left[\\begin{array}{cccccc}\n",
    "1 & x_0 & x_0^{2}  & \\ldots & x_0^{n-1} & x_0^{n} \\\\\n",
    "1 & x_1 & x_1^{2}  & \\ldots & x_1^{n-1} & x_1^{n} \\\\\n",
    "\\vdots & \\vdots & \\vdots & & \\vdots & \\vdots \\\\\n",
    "1 & x_n & x_n^{2}  & \\ldots & x_n^{n-1} & x_n^{n}\n",
    "\\end{array}\\right]\\left[\\begin{array}{c}\n",
    "w_0 \\\\\n",
    "w_{1} \\\\\n",
    "\\vdots \\\\\n",
    "w_{n}\n",
    "\\end{array}\\right]=\\left[\\begin{array}{c}\n",
    "y_0 \\\\\n",
    "y_1 \\\\\n",
    "\\vdots \\\\\n",
    "y_n\n",
    "\\end{array}\\right]\n",
    "$$\n",
    "为了构建插值多项式$p(x)$，我们要解这个系统计算系数$a_k$。\n",
    "\n",
    "左侧的矩阵通常叫作范德蒙矩阵，它的行列式不为零，这也就证明了唯一性定理：存在唯一的一个插值多项式。"
   ]
  },
  {
   "cell_type": "markdown",
   "metadata": {},
   "source": [
    "拉格朗日插值多项式为：\n",
    "\n",
    "$$\n",
    "L(x):=\\sum_{j=0}^k y_j l_{j}(x)\n",
    "$$\n",
    "其中每个$l_{j}(x)$为拉格朗日基本多项式（或称插值基函数），其表达式为：\n",
    "$$\n",
    "l_j(x):=\\prod_{i=0, i \\neq j}^k \\frac{x-x_i}{x_j-x_i}=\\frac{\\left(x-x_0\\right)}{\\left(x_j-x_0\\right)} \\cdots \\frac{\\left(x-x_{j-1}\\right)}{\\left(x_j-x_{j-1}\\right)} \\frac{\\left(x-x_{j+1}\\right)}{\\left(x_j-x_{j+1}\\right)} \\cdots \\frac{\\left(x-x_k\\right)}{\\left(x_j-x_k\\right)}\n",
    "$$\n",
    "拉格朗日基本多项式$l_{j}(x)$的特点是在$x_{j}$上取值为1，在其它的点$x_{i},\\,i\\neq j$上取值为0。\n"
   ]
  },
  {
   "cell_type": "code",
   "execution_count": 62,
   "metadata": {},
   "outputs": [
    {
     "data": {
      "text/plain": [
       "<matplotlib.legend.Legend at 0x287b516a340>"
      ]
     },
     "execution_count": 62,
     "metadata": {},
     "output_type": "execute_result"
    },
    {
     "data": {
      "image/png": "[encoded data removed]",
      "text/plain": [
       "<Figure size 720x576 with 1 Axes>"
      ]
     },
     "metadata": {},
     "output_type": "display_data"
    }
   ],
   "source": [
    "from scipy.interpolate import lagrange\n",
    "import numpy as np\n",
    "\n",
    "x_train = np.linspace(0,1,10)\n",
    "y_train = np.sin(2*np.pi*x_train) + np.random.normal(scale=0.15, size=x_train.shape)\n",
    "x_test = np.linspace(0, 1, 100)\n",
    "y_test = np.sin(2*np.pi*x_test)\n",
    "\n",
    "f = lagrange(x_train, y_train)\n",
    "y_pred = f(x_test)\n",
    "\n",
    "fig = plt.figure(figsize = (10,8))\n",
    "plt.scatter(x_train, y_train, facecolor=\"none\", edgecolor=\"b\", s=50, label=\"training data\")\n",
    "plt.plot(x_test, y_pred,c=\"r\",label=\"lagrange interpolation\")\n",
    "plt.plot(x_test, y_test,c=\"g\",label=\"$\\sin(2\\pi x)$\")\n",
    "plt.legend()"
   ]
  },
  {
   "cell_type": "code",
   "execution_count": 63,
   "metadata": {},
   "outputs": [
    {
     "data": {
      "text/plain": [
       "<matplotlib.legend.Legend at 0x287b3cb9a60>"
      ]
     },
     "execution_count": 63,
     "metadata": {},
     "output_type": "execute_result"
    },
    {
     "data": {
      "image/png": "[encoded data removed]",
      "text/plain": [
       "<Figure size 720x576 with 1 Axes>"
      ]
     },
     "metadata": {},
     "output_type": "display_data"
    }
   ],
   "source": [
    "x_train = np.linspace(-4, 4, 15)\n",
    "y_train = 1/(1 + x_train**2)\n",
    "x_test = np.linspace(-4, 4, 500)\n",
    "y_test = 1/(1 + x_test**2)\n",
    "f = lagrange(x_train, y_train)\n",
    "y_pred = f(x_test)\n",
    "\n",
    "fig = plt.figure(figsize = (10,8))\n",
    "plt.scatter(x_train, y_train, facecolor=\"none\", edgecolor=\"b\", s=50, label=\"training data\")\n",
    "plt.plot(x_test, y_pred,c=\"r\",label=\"lagrange interpolation\")\n",
    "plt.plot(x_test, y_test,c=\"g\",label=\"$1/(1 + x^2)$\")\n",
    "plt.legend()"
   ]
  },
  {
   "cell_type": "markdown",
   "metadata": {},
   "source": [
    "Pandas中的 interpolate()方法"
   ]
  },
  {
   "cell_type": "markdown",
   "metadata": {},
   "source": [
    "```python\n",
    "DataFrame.interpolate(method=‘linear’, axis=0, limit=None, inplace=False, limit_direction=‘forward’, limit_area=None, downcast=None, **kwargs)\n",
    "```\n",
    "\n",
    "参数：\n",
    "\n",
    "- method 插值方法\n",
    "\n",
    "    - ' linear '：线性方法会忽略索引，并将值等距地对待。这是MultiIndexes支持的唯一方法。\n",
    "\n",
    "    - 'time':用于每日和更高分辨率的数据，以插值给定的间隔长度。\n",
    "    \n",
    "    - 'index '， 'values'：使用索引的实际数值。\n",
    "\n",
    "    - 'pad '：使用现有值填写nan。\n",
    "\n",
    "    - ‘nearest’, ‘zero’, ‘slinear’, ‘quadratic’, ‘cubic’, ‘spline’, ‘barycentric’, ‘polynomial’：传递给`scipy.interpolite.interp1d`。这些方法使用索引的数值。'polynomial'和'spline'都要求指定一个阶数，例如 `df.interpolate(method='polynomial'，order=5)`。\n",
    "\n",
    "    - ‘krogh’, ‘piecewise_polynomial’, ‘spline’, ‘pchip’, ‘akima’, ‘cubicspline’：与SciPy插值方法类似。\n",
    "\n",
    "    - 'from_derivatives '：指`scipy.interpolate.bpoly.from_derivatives`，取代了scipy 0.18中的'piecewise_polynomial'插值方法。\n",
    "\n",
    "- axis：0填充column-by-column和1填充row-by-row。\n",
    "\n",
    "- limit：要填充的连续NaN的最大数量。必须大于0。\n",
    "\n",
    "- limit_direction：{‘forward’, ‘backward’, ‘both’}，默认为 'forward'。\n",
    "\n",
    "- limit_area:无(默认)无填充限制。inside仅填充有效值包围的NaN(内插)。outside 仅将NaN填充到有效值之外(外推)。如果指定了限制，则将沿该方向填充连续的NaN。\n",
    "\n",
    "- inplace:如果可能，更新NDFrame。\n",
    "\n",
    "- downcast:如果可能，请向下转换dtypes。\n",
    "\n",
    "返回值：\n",
    "\n",
    "- 在NaN处插补的相同形状的Series或DataFrame。"
   ]
  },
  {
   "cell_type": "code",
   "execution_count": 64,
   "metadata": {},
   "outputs": [
    {
     "data": {
      "text/html": [
       "<div>\n",
       "<style scoped>\n",
       "    .dataframe tbody tr th:only-of-type {\n",
       "        vertical-align: middle;\n",
       "    }\n",
       "\n",
       "    .dataframe tbody tr th {\n",
       "        vertical-align: top;\n",
       "    }\n",
       "\n",
       "    .dataframe thead th {\n",
       "        text-align: right;\n",
       "    }\n",
       "</style>\n",
       "<table border=\"1\" class=\"dataframe\">\n",
       "  <thead>\n",
       "    <tr style=\"text-align: right;\">\n",
       "      <th></th>\n",
       "      <th>A</th>\n",
       "      <th>B</th>\n",
       "      <th>C</th>\n",
       "      <th>D</th>\n",
       "    </tr>\n",
       "  </thead>\n",
       "  <tbody>\n",
       "    <tr>\n",
       "      <th>0</th>\n",
       "      <td>12.0</td>\n",
       "      <td>NaN</td>\n",
       "      <td>20.0</td>\n",
       "      <td>14.0</td>\n",
       "    </tr>\n",
       "    <tr>\n",
       "      <th>1</th>\n",
       "      <td>4.0</td>\n",
       "      <td>2.0</td>\n",
       "      <td>16.0</td>\n",
       "      <td>3.0</td>\n",
       "    </tr>\n",
       "    <tr>\n",
       "      <th>2</th>\n",
       "      <td>5.0</td>\n",
       "      <td>54.0</td>\n",
       "      <td>NaN</td>\n",
       "      <td>NaN</td>\n",
       "    </tr>\n",
       "    <tr>\n",
       "      <th>3</th>\n",
       "      <td>NaN</td>\n",
       "      <td>3.0</td>\n",
       "      <td>3.0</td>\n",
       "      <td>NaN</td>\n",
       "    </tr>\n",
       "    <tr>\n",
       "      <th>4</th>\n",
       "      <td>1.0</td>\n",
       "      <td>NaN</td>\n",
       "      <td>8.0</td>\n",
       "      <td>6.0</td>\n",
       "    </tr>\n",
       "  </tbody>\n",
       "</table>\n",
       "</div>"
      ],
      "text/plain": [
       "      A     B     C     D\n",
       "0  12.0   NaN  20.0  14.0\n",
       "1   4.0   2.0  16.0   3.0\n",
       "2   5.0  54.0   NaN   NaN\n",
       "3   NaN   3.0   3.0   NaN\n",
       "4   1.0   NaN   8.0   6.0"
      ]
     },
     "execution_count": 64,
     "metadata": {},
     "output_type": "execute_result"
    }
   ],
   "source": [
    "import pandas as pd\n",
    "import numpy as np\n",
    "df = pd.DataFrame({\"A\":[12, 4, 5, None, 1], \n",
    "                   \"B\":[None, 2, 54, 3, None], \n",
    "                   \"C\":[20, 16, None, 3, 8], \n",
    "                   \"D\":[14, 3, None, None, 6]}) \n",
    "df"
   ]
  },
  {
   "cell_type": "code",
   "execution_count": 65,
   "metadata": {},
   "outputs": [
    {
     "data": {
      "text/html": [
       "<div>\n",
       "<style scoped>\n",
       "    .dataframe tbody tr th:only-of-type {\n",
       "        vertical-align: middle;\n",
       "    }\n",
       "\n",
       "    .dataframe tbody tr th {\n",
       "        vertical-align: top;\n",
       "    }\n",
       "\n",
       "    .dataframe thead th {\n",
       "        text-align: right;\n",
       "    }\n",
       "</style>\n",
       "<table border=\"1\" class=\"dataframe\">\n",
       "  <thead>\n",
       "    <tr style=\"text-align: right;\">\n",
       "      <th></th>\n",
       "      <th>A</th>\n",
       "      <th>B</th>\n",
       "      <th>C</th>\n",
       "      <th>D</th>\n",
       "    </tr>\n",
       "  </thead>\n",
       "  <tbody>\n",
       "    <tr>\n",
       "      <th>0</th>\n",
       "      <td>12.0</td>\n",
       "      <td>NaN</td>\n",
       "      <td>20.0</td>\n",
       "      <td>14.0</td>\n",
       "    </tr>\n",
       "    <tr>\n",
       "      <th>1</th>\n",
       "      <td>4.0</td>\n",
       "      <td>2.0</td>\n",
       "      <td>16.0</td>\n",
       "      <td>3.0</td>\n",
       "    </tr>\n",
       "    <tr>\n",
       "      <th>2</th>\n",
       "      <td>5.0</td>\n",
       "      <td>54.0</td>\n",
       "      <td>9.5</td>\n",
       "      <td>4.0</td>\n",
       "    </tr>\n",
       "    <tr>\n",
       "      <th>3</th>\n",
       "      <td>3.0</td>\n",
       "      <td>3.0</td>\n",
       "      <td>3.0</td>\n",
       "      <td>5.0</td>\n",
       "    </tr>\n",
       "    <tr>\n",
       "      <th>4</th>\n",
       "      <td>1.0</td>\n",
       "      <td>3.0</td>\n",
       "      <td>8.0</td>\n",
       "      <td>6.0</td>\n",
       "    </tr>\n",
       "  </tbody>\n",
       "</table>\n",
       "</div>"
      ],
      "text/plain": [
       "      A     B     C     D\n",
       "0  12.0   NaN  20.0  14.0\n",
       "1   4.0   2.0  16.0   3.0\n",
       "2   5.0  54.0   9.5   4.0\n",
       "3   3.0   3.0   3.0   5.0\n",
       "4   1.0   3.0   8.0   6.0"
      ]
     },
     "execution_count": 65,
     "metadata": {},
     "output_type": "execute_result"
    }
   ],
   "source": [
    "df.interpolate(method ='linear', limit_direction ='forward')"
   ]
  },
  {
   "cell_type": "markdown",
   "metadata": {},
   "source": [
    "第一行中的值无法填充，因为值的填充方向为forward并且没有可用于插值的先前值。"
   ]
  },
  {
   "cell_type": "code",
   "execution_count": 66,
   "metadata": {},
   "outputs": [
    {
     "data": {
      "text/html": [
       "<div>\n",
       "<style scoped>\n",
       "    .dataframe tbody tr th:only-of-type {\n",
       "        vertical-align: middle;\n",
       "    }\n",
       "\n",
       "    .dataframe tbody tr th {\n",
       "        vertical-align: top;\n",
       "    }\n",
       "\n",
       "    .dataframe thead th {\n",
       "        text-align: right;\n",
       "    }\n",
       "</style>\n",
       "<table border=\"1\" class=\"dataframe\">\n",
       "  <thead>\n",
       "    <tr style=\"text-align: right;\">\n",
       "      <th></th>\n",
       "      <th>A</th>\n",
       "      <th>B</th>\n",
       "      <th>C</th>\n",
       "      <th>D</th>\n",
       "    </tr>\n",
       "  </thead>\n",
       "  <tbody>\n",
       "    <tr>\n",
       "      <th>0</th>\n",
       "      <td>12.0</td>\n",
       "      <td>2.0</td>\n",
       "      <td>20.0</td>\n",
       "      <td>14.0</td>\n",
       "    </tr>\n",
       "    <tr>\n",
       "      <th>1</th>\n",
       "      <td>4.0</td>\n",
       "      <td>2.0</td>\n",
       "      <td>16.0</td>\n",
       "      <td>3.0</td>\n",
       "    </tr>\n",
       "    <tr>\n",
       "      <th>2</th>\n",
       "      <td>5.0</td>\n",
       "      <td>54.0</td>\n",
       "      <td>9.5</td>\n",
       "      <td>NaN</td>\n",
       "    </tr>\n",
       "    <tr>\n",
       "      <th>3</th>\n",
       "      <td>3.0</td>\n",
       "      <td>3.0</td>\n",
       "      <td>3.0</td>\n",
       "      <td>5.0</td>\n",
       "    </tr>\n",
       "    <tr>\n",
       "      <th>4</th>\n",
       "      <td>1.0</td>\n",
       "      <td>NaN</td>\n",
       "      <td>8.0</td>\n",
       "      <td>6.0</td>\n",
       "    </tr>\n",
       "  </tbody>\n",
       "</table>\n",
       "</div>"
      ],
      "text/plain": [
       "      A     B     C     D\n",
       "0  12.0   2.0  20.0  14.0\n",
       "1   4.0   2.0  16.0   3.0\n",
       "2   5.0  54.0   9.5   NaN\n",
       "3   3.0   3.0   3.0   5.0\n",
       "4   1.0   NaN   8.0   6.0"
      ]
     },
     "execution_count": 66,
     "metadata": {},
     "output_type": "execute_result"
    }
   ],
   "source": [
    "df.interpolate(method ='linear', limit_direction ='backward', limit = 1)"
   ]
  },
  {
   "cell_type": "markdown",
   "metadata": {},
   "source": [
    "请注意第四列，因为将limit设置为1，所以仅填充了一个缺失值。最后一行的缺失值无法填充，因为在该值之后可以插值的行不存在。"
   ]
  },
  {
   "cell_type": "markdown",
   "metadata": {},
   "source": [
    "### 重复值处理"
   ]
  },
  {
   "cell_type": "markdown",
   "metadata": {},
   "source": [
    "对于pandas.DataFrame数据对象，可以使用pandas.DataFrame.duplicated()方法对重复的情况进行检查，进而，可以使用pandas.DataFrame.drop_duplicates()来删除数据对象中的重复样本。"
   ]
  },
  {
   "cell_type": "markdown",
   "metadata": {},
   "source": [
    "```python\n",
    "pandas.DataFrame.duplicated(self, subset=None, keep='first')\n",
    "pandas.DataFrame.drop_duplicates(self, subset=None, keep='first', inplace=False)\n",
    "```\n",
    "\n",
    "- subset ： 列标签或标签序列，可选仅考虑某些列来标识重复项，默认情况下使用所有列\n",
    "\n",
    "- keep ： {'first'，'last'，False}，默认为'first'。first：将重复项标记True为第一次出现的除外。last：将重复项标记True为最后一次除外。False：将所有重复项标记为True。"
   ]
  },
  {
   "cell_type": "code",
   "execution_count": 67,
   "metadata": {},
   "outputs": [
    {
     "data": {
      "text/html": [
       "<div>\n",
       "<style scoped>\n",
       "    .dataframe tbody tr th:only-of-type {\n",
       "        vertical-align: middle;\n",
       "    }\n",
       "\n",
       "    .dataframe tbody tr th {\n",
       "        vertical-align: top;\n",
       "    }\n",
       "\n",
       "    .dataframe thead th {\n",
       "        text-align: right;\n",
       "    }\n",
       "</style>\n",
       "<table border=\"1\" class=\"dataframe\">\n",
       "  <thead>\n",
       "    <tr style=\"text-align: right;\">\n",
       "      <th></th>\n",
       "      <th>col1</th>\n",
       "      <th>col2</th>\n",
       "      <th>col3</th>\n",
       "    </tr>\n",
       "  </thead>\n",
       "  <tbody>\n",
       "    <tr>\n",
       "      <th>a</th>\n",
       "      <td>one</td>\n",
       "      <td>1</td>\n",
       "      <td>AA</td>\n",
       "    </tr>\n",
       "    <tr>\n",
       "      <th>a</th>\n",
       "      <td>one</td>\n",
       "      <td>2</td>\n",
       "      <td>BB</td>\n",
       "    </tr>\n",
       "    <tr>\n",
       "      <th>b</th>\n",
       "      <td>two</td>\n",
       "      <td>1</td>\n",
       "      <td>CC</td>\n",
       "    </tr>\n",
       "    <tr>\n",
       "      <th>c</th>\n",
       "      <td>two</td>\n",
       "      <td>2</td>\n",
       "      <td>DD</td>\n",
       "    </tr>\n",
       "    <tr>\n",
       "      <th>b</th>\n",
       "      <td>two</td>\n",
       "      <td>1</td>\n",
       "      <td>EE</td>\n",
       "    </tr>\n",
       "    <tr>\n",
       "      <th>a</th>\n",
       "      <td>three</td>\n",
       "      <td>1</td>\n",
       "      <td>FF</td>\n",
       "    </tr>\n",
       "    <tr>\n",
       "      <th>c</th>\n",
       "      <td>four</td>\n",
       "      <td>1</td>\n",
       "      <td>GG</td>\n",
       "    </tr>\n",
       "  </tbody>\n",
       "</table>\n",
       "</div>"
      ],
      "text/plain": [
       "    col1  col2 col3\n",
       "a    one     1   AA\n",
       "a    one     2   BB\n",
       "b    two     1   CC\n",
       "c    two     2   DD\n",
       "b    two     1   EE\n",
       "a  three     1   FF\n",
       "c   four     1   GG"
      ]
     },
     "execution_count": 67,
     "metadata": {},
     "output_type": "execute_result"
    }
   ],
   "source": [
    "df = pd.DataFrame({'col1': ['one', 'one', 'two', 'two', 'two', 'three', 'four'], 'col2': [1, 2, 1, 2, 1, 1, 1],  \n",
    "                   'col3':['AA','BB','CC','DD','EE','FF','GG']}, index=['a', 'a', 'b', 'c', 'b', 'a', 'c'])  \n",
    "df"
   ]
  },
  {
   "cell_type": "code",
   "execution_count": 68,
   "metadata": {},
   "outputs": [
    {
     "data": {
      "text/plain": [
       "a    False\n",
       "a    False\n",
       "b    False\n",
       "c    False\n",
       "b    False\n",
       "a    False\n",
       "c    False\n",
       "dtype: bool"
      ]
     },
     "execution_count": 68,
     "metadata": {},
     "output_type": "execute_result"
    }
   ],
   "source": [
    "df.duplicated()#默认所有列，无重复记录 "
   ]
  },
  {
   "cell_type": "code",
   "execution_count": 69,
   "metadata": {},
   "outputs": [
    {
     "data": {
      "text/plain": [
       "a    False\n",
       "a     True\n",
       "b    False\n",
       "c     True\n",
       "b     True\n",
       "a    False\n",
       "c    False\n",
       "dtype: bool"
      ]
     },
     "execution_count": 69,
     "metadata": {},
     "output_type": "execute_result"
    }
   ],
   "source": [
    "df.duplicated('col1')#第二、四、五行被标记为重复 "
   ]
  },
  {
   "cell_type": "code",
   "execution_count": 70,
   "metadata": {},
   "outputs": [
    {
     "data": {
      "text/html": [
       "<div>\n",
       "<style scoped>\n",
       "    .dataframe tbody tr th:only-of-type {\n",
       "        vertical-align: middle;\n",
       "    }\n",
       "\n",
       "    .dataframe tbody tr th {\n",
       "        vertical-align: top;\n",
       "    }\n",
       "\n",
       "    .dataframe thead th {\n",
       "        text-align: right;\n",
       "    }\n",
       "</style>\n",
       "<table border=\"1\" class=\"dataframe\">\n",
       "  <thead>\n",
       "    <tr style=\"text-align: right;\">\n",
       "      <th></th>\n",
       "      <th>col1</th>\n",
       "      <th>col2</th>\n",
       "      <th>col3</th>\n",
       "    </tr>\n",
       "  </thead>\n",
       "  <tbody>\n",
       "    <tr>\n",
       "      <th>a</th>\n",
       "      <td>one</td>\n",
       "      <td>1</td>\n",
       "      <td>AA</td>\n",
       "    </tr>\n",
       "    <tr>\n",
       "      <th>a</th>\n",
       "      <td>one</td>\n",
       "      <td>2</td>\n",
       "      <td>BB</td>\n",
       "    </tr>\n",
       "    <tr>\n",
       "      <th>b</th>\n",
       "      <td>two</td>\n",
       "      <td>1</td>\n",
       "      <td>CC</td>\n",
       "    </tr>\n",
       "    <tr>\n",
       "      <th>c</th>\n",
       "      <td>two</td>\n",
       "      <td>2</td>\n",
       "      <td>DD</td>\n",
       "    </tr>\n",
       "    <tr>\n",
       "      <th>b</th>\n",
       "      <td>two</td>\n",
       "      <td>1</td>\n",
       "      <td>EE</td>\n",
       "    </tr>\n",
       "    <tr>\n",
       "      <th>a</th>\n",
       "      <td>three</td>\n",
       "      <td>1</td>\n",
       "      <td>FF</td>\n",
       "    </tr>\n",
       "    <tr>\n",
       "      <th>c</th>\n",
       "      <td>four</td>\n",
       "      <td>1</td>\n",
       "      <td>GG</td>\n",
       "    </tr>\n",
       "  </tbody>\n",
       "</table>\n",
       "</div>"
      ],
      "text/plain": [
       "    col1  col2 col3\n",
       "a    one     1   AA\n",
       "a    one     2   BB\n",
       "b    two     1   CC\n",
       "c    two     2   DD\n",
       "b    two     1   EE\n",
       "a  three     1   FF\n",
       "c   four     1   GG"
      ]
     },
     "execution_count": 70,
     "metadata": {},
     "output_type": "execute_result"
    }
   ],
   "source": [
    "df.drop_duplicates()"
   ]
  },
  {
   "cell_type": "markdown",
   "metadata": {},
   "source": [
    "## 数据规范化"
   ]
  },
  {
   "cell_type": "markdown",
   "metadata": {},
   "source": [
    "数据标准化（归一化）处理是数据挖掘的一项基础工作，不同评价指标往往具有不同的量纲和量纲单位，数值间的差别可能很大，不进行处理可能会影响到数据分析的结果，为了消除指标之间的量纲和大小不一的影响，需要进行数据标准化处理，将数据按照比例进行缩放，使之落入一个特定的区域，从而进行综合分析。如将工资收入属性值映射到[-1，1]或者[0，1]之间。\n",
    "\n",
    "下面介绍三种规范化方法：最小-最大规范化、零-均值规范化、小数定标规范化"
   ]
  },
  {
   "cell_type": "markdown",
   "metadata": {},
   "source": [
    "- 最小-最大规范化, 也称为离差标准化，是对原始数据的线性变换，使结果值映射到[0,1]之间。\n",
    "    $$x^* = \\frac{x-min}{max-min}$$\n",
    "  其中max为样本数据的最大值，min为样本数据的最小值。max - min为极差。\n",
    "\n",
    "- 零-均值规范化：也叫标准差标准化，经过处理的数据的平均数为0，标准差为1。转化函数为：\n",
    "    $$x^* = \\frac{x-\\bar{x}}{\\sigma}$$\n",
    "    其中$\\bar{x}$为原始数据的均值，$\\sigma$为原始数据的标准差。\n",
    "\n",
    "- 小数定标规范化：通过移动属性值的小数位数，将属性值映射到[-1，1]之间，移动的小数位数取决于属性值绝对值的最大值。转化函数为：\n",
    "    $$x^* = \\frac{x}{10^k}$$\n"
   ]
  },
  {
   "cell_type": "code",
   "execution_count": 71,
   "metadata": {},
   "outputs": [
    {
     "name": "stdout",
     "output_type": "stream",
     "text": [
      "[[ 1. -1.  2.]\n",
      " [ 2.  0.  0.]\n",
      " [ 0.  1. -1.]]\n"
     ]
    }
   ],
   "source": [
    "from sklearn import preprocessing\n",
    "import numpy as np\n",
    "X_train = np.array([[ 1., -1.,  2.],\n",
    "                    [ 2.,  0.,  0.],\n",
    "                    [ 0.,  1., -1.]])\n",
    "print(X_train)\n"
   ]
  },
  {
   "cell_type": "code",
   "execution_count": 72,
   "metadata": {},
   "outputs": [
    {
     "name": "stdout",
     "output_type": "stream",
     "text": [
      "[[ 0.         -5.          5.        ]\n",
      " [ 5.          0.         -1.66666667]\n",
      " [-5.          5.         -5.        ]]\n"
     ]
    }
   ],
   "source": [
    "min_max_scaler = preprocessing.MinMaxScaler((-5, 5))\n",
    "X_train_minmax = min_max_scaler.fit_transform(X_train)\n",
    "print(X_train_minmax)"
   ]
  },
  {
   "cell_type": "code",
   "execution_count": 73,
   "metadata": {},
   "outputs": [
    {
     "name": "stdout",
     "output_type": "stream",
     "text": [
      "[[ 0.         -1.22474487  1.33630621]\n",
      " [ 1.22474487  0.         -0.26726124]\n",
      " [-1.22474487  1.22474487 -1.06904497]]\n"
     ]
    },
    {
     "data": {
      "text/plain": [
       "(array([0., 0., 0.]), array([1., 1., 1.]))"
      ]
     },
     "execution_count": 73,
     "metadata": {},
     "output_type": "execute_result"
    }
   ],
   "source": [
    "X_train.mean(axis=0),X_train.std(axis=0)\n",
    "scaler = preprocessing.StandardScaler().fit(X_train)\n",
    "X_scaled = scaler.transform(X_train)\n",
    "print(X_scaled)\n",
    "X_scaled.mean(axis=0),X_scaled.std(axis=0)\n"
   ]
  },
  {
   "cell_type": "markdown",
   "metadata": {},
   "source": [
    "## 离散化"
   ]
  },
  {
   "cell_type": "markdown",
   "metadata": {},
   "source": [
    "一些数据挖掘算法，特别是某些分类算法，要求数据是分类属性形式，如ID3算法、Apriori算法等。这样，常常需要将连续属性变换成分类属性，即连续属性离散化。\n",
    "\n",
    "- 离散化的过程\n",
    "        \n",
    "    连续属性变换成分类属性涉及两个子任务：决定需要多少个分类变量，以及确定如何将连续属性值映射到这些分类值。\n",
    "\n",
    "\n",
    "- 常用的离散化方法\n",
    "        \n",
    "    常用的无监督离散化方法有：等宽法、等频法、基于聚类分析的方法"
   ]
  },
  {
   "cell_type": "code",
   "execution_count": 74,
   "metadata": {},
   "outputs": [
    {
     "data": {
      "text/plain": [
       "array([[92],\n",
       "       [79],\n",
       "       [87],\n",
       "       [89],\n",
       "       [33],\n",
       "       [55],\n",
       "       [34],\n",
       "       [ 1],\n",
       "       [47],\n",
       "       [98]])"
      ]
     },
     "execution_count": 74,
     "metadata": {},
     "output_type": "execute_result"
    }
   ],
   "source": [
    "import numpy as np\n",
    "data = np.array([[92], [79], [87], [89], [33], [55], [34], [ 1], [47], [98]])\n",
    "data"
   ]
  },
  {
   "cell_type": "code",
   "execution_count": 75,
   "metadata": {},
   "outputs": [
    {
     "data": {
      "text/plain": [
       "array([[1],\n",
       "       [1],\n",
       "       [1],\n",
       "       [1],\n",
       "       [0],\n",
       "       [1],\n",
       "       [0],\n",
       "       [0],\n",
       "       [0],\n",
       "       [1]])"
      ]
     },
     "execution_count": 75,
     "metadata": {},
     "output_type": "execute_result"
    }
   ],
   "source": [
    "from sklearn import preprocessing\n",
    "preprocessing.binarize(data,threshold=50)     "
   ]
  },
  {
   "cell_type": "code",
   "execution_count": null,
   "metadata": {},
   "outputs": [],
   "source": []
  }
 ],
 "metadata": {
  "kernelspec": {
   "display_name": "Python 3 (ipykernel)",
   "language": "python",
   "name": "python3"
  },
  "language_info": {
   "codemirror_mode": {
    "name": "ipython",
    "version": 3
   },
   "file_extension": ".py",
   "mimetype": "text/x-python",
   "name": "python",
   "nbconvert_exporter": "python",
   "pygments_lexer": "ipython3",
   "version": "3.9.12"
  },
  "toc": {
   "base_numbering": 1,
   "nav_menu": {},
   "number_sections": true,
   "sideBar": true,
   "skip_h1_title": false,
   "title_cell": "Table of Contents",
   "title_sidebar": "Contents",
   "toc_cell": false,
   "toc_position": {},
   "toc_section_display": true,
   "toc_window_display": false
  },
  "vscode": {
   "interpreter": {
    "hash": "249b8578a041a4fc48dae2ecb25af571936f57c72007ba9cc0c7a83abc2a1f0c"
   }
  }
 },
 "nbformat": 4,
 "nbformat_minor": 2
}
