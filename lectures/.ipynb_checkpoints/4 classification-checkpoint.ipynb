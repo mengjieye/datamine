{
 "cells": [
  {
   "cell_type": "markdown",
   "metadata": {},
   "source": [
    "# 线性回归"
   ]
  },
  {
   "cell_type": "markdown",
   "metadata": {},
   "source": [
    "线性回归是一种十分基础的机器学习算法。但是基础并不意味着不重要，相反，基础往往才是最重要的。\n",
    "\n",
    "对于一个线性回归问题，一般来讲有 2 种解决方法，分别是：最小二乘法和梯度下降法。其中最小二乘法又分为两种求解思路：代数求解和矩阵求解。"
   ]
  },
  {
   "cell_type": "markdown",
   "metadata": {},
   "source": [
    "## 最小二乘代数求解"
   ]
  },
  {
   "cell_type": "markdown",
   "metadata": {},
   "source": [
    "最小二乘法是线性回归问题最常用的解决方法。我们这里使用到的是普通最小二乘法，英文为：Ordinary Least Squares，简称 OLS。最小二乘法中的「二乘」代表平方，最小二乘也就是最小平方。而这里的平方就是指代平方损失函数。\n",
    "\n",
    "假设我们需要求解的是一元线性回归问题，及其对应的线性方程如下："
   ]
  },
  {
   "cell_type": "markdown",
   "metadata": {},
   "source": [
    "$$y(x, \\omega) = \\omega_0 + \\omega_1 x$$"
   ]
  },
  {
   "cell_type": "markdown",
   "metadata": {},
   "source": [
    "首先要定义平方损失函数："
   ]
  },
  {
   "cell_type": "markdown",
   "metadata": {},
   "source": [
    "$$J(\\omega) = \\sum_{i=1}^n\\big(y_i - (\\omega_0 + \\omega_1 x_i)\\big)^2$$"
   ]
  },
  {
   "cell_type": "markdown",
   "metadata": {},
   "source": [
    "最小二乘的目标是就是求平方误差最小时候的$\\omega$。求最小值就是求偏导数："
   ]
  },
  {
   "cell_type": "markdown",
   "metadata": {},
   "source": [
    "$$\n",
    "\\begin{array}{c}\n",
    "\\frac{\\partial J(\\omega)}{\\partial w_{0}}=-2\\left(\\sum_{i=1}^{n} y_{i}-n w_{0}-w_{1} \\sum_{i=1}^{n} x_{i}\\right) \\\\\n",
    "\\frac{\\partial J(\\omega)}{\\partial w_{1}}=-2\\left(\\sum_{i=1}^{n} x_{i} y_{i}-w_{0} \\sum_{i=1}^{n} x_{i}-w_{1} \\sum_{i=1}^{n} x_{i}^{2}\\right)\n",
    "\\end{array}\n",
    "$$"
   ]
  },
  {
   "cell_type": "markdown",
   "metadata": {},
   "source": [
    "然后，我们令 $\\frac{\\partial J(\\omega)}{\\partial w_{0}}=0$ 以及 $\\frac{\\partial J(\\omega)}{\\partial w_{1}}=0$ 解得：\n",
    "$$\\left\\{\\begin{array}{lcl}\n",
    "n\\ \\omega _0 + \\sum\\limits_{i = 1}^n x_i\\  \\omega _1 = \\sum\\limits_{i = 1}^n y_i \\\\\n",
    "\\sum\\limits_{i = 1}^n x_i\\  \\omega_0 + \\sum\\limits_{i = 1}^n x_i^2\\  \\omega_1 = \\sum\\limits_{i = 1}^n x_i y_i\n",
    "\\end{array}\\right.$$\n"
   ]
  },
  {
   "cell_type": "markdown",
   "metadata": {},
   "source": [
    "二元一次方程组，根据克莱姆法则解得$\\omega_0$和$\\omega_1$为：\n",
    "\n",
    "$$\n",
    "\\hat\\omega_1 = \\frac {n \\sum\\limits_{i = 1}^n x_i y_i - \\sum\\limits_{i = 1}^n x_i \\sum\\limits_{i = 1}^n y_i} {n \\sum\\limits_{i = 1}^n x_i^2 - \\left(\\sum\\limits_{i = 1}^n x_i\\right)^2}\n",
    "=\\frac{\\sum\\limits_{i = 1}^n(x_i-\\bar{x})(y_i-\\bar{y})}{\\sum\\limits_{i = 1}^n(x_i-\\bar{x})^2}\n",
    "$$\n",
    "\n",
    "$$\n",
    "\\hat\\omega_0 = \\frac {\\sum\\limits_{i = 1}^n x_i^2 \\sum\\limits_{i = 1}^n y_i - \\sum\\limits_{i = 1}^n x_i \\sum\\limits_{i = 1}^n x_iy_i} {n \\sum\\limits_{i = 1}^n x_i^2 - \\left(\\sum\\limits_{i = 1}^n x_i\\right)^2}= \\bar y-\\bar x \\hat\\omega_1\n",
    "$$"
   ]
  },
  {
   "cell_type": "code",
   "execution_count": 1,
   "metadata": {},
   "outputs": [],
   "source": [
    "import numpy as np\n",
    "import matplotlib.pyplot as plt"
   ]
  },
  {
   "cell_type": "code",
   "execution_count": 96,
   "metadata": {
    "ExecuteTime": {
     "end_time": "2020-12-14T15:53:49.646681Z",
     "start_time": "2020-12-14T15:53:49.640697Z"
    }
   },
   "outputs": [],
   "source": [
    "def olsm_algebra(x, y):\n",
    "    x = x.reshape(-1,1)\n",
    "    y = y.reshape(-1,1)\n",
    "    w = np.dot((x - x.mean()).T, y - y.mean()) / np.dot((x - x.mean()).T, x - x.mean())\n",
    "    b = y.mean() - x.mean() * w\n",
    "    \n",
    "    return b, w"
   ]
  },
  {
   "cell_type": "code",
   "execution_count": 94,
   "metadata": {},
   "outputs": [],
   "source": [
    "x = np.array([55, 71, 68, 87, 101, 87, 75, 78, 93, 73])\n",
    "y = np.array([91, 101, 87, 109, 129, 98, 95, 101, 104, 93])\n",
    "from sklearn.preprocessing import StandardScaler\n"
   ]
  },
  {
   "cell_type": "code",
   "execution_count": 102,
   "metadata": {},
   "outputs": [
    {
     "name": "stdout",
     "output_type": "stream",
     "text": [
      "[[44.25604341]] [[0.7175629]]\n"
     ]
    }
   ],
   "source": [
    "b, w = olsm_algebra(x, y)\n",
    "print(b, w)"
   ]
  },
  {
   "cell_type": "markdown",
   "metadata": {},
   "source": [
    "那么，所对应的线性方程为：$y =  44.256 + 0.718x$。"
   ]
  },
  {
   "cell_type": "code",
   "execution_count": 116,
   "metadata": {},
   "outputs": [],
   "source": [
    "def predict(x, b, w):\n",
    "    x = x.reshape(-1,1)\n",
    "    return b + x.dot(w)"
   ]
  },
  {
   "cell_type": "code",
   "execution_count": 117,
   "metadata": {},
   "outputs": [],
   "source": [
    "def plot(x, y, b, w, color = 'r'):\n",
    "    pred_Xs = np.array([[np.min(x)*0.9], [np.max(x)*1.1]])\n",
    "    pred_Ys = predict(pred_Xs, b, w)\n",
    "    plt.plot(pred_Xs[:,0], pred_Ys, color=color)\n",
    "    plt.scatter(x,y)"
   ]
  },
  {
   "cell_type": "code",
   "execution_count": 118,
   "metadata": {},
   "outputs": [
    {
     "data": {
      "image/png": "[encoded data removed]",
      "text/plain": [
       "<Figure size 432x288 with 1 Axes>"
      ]
     },
     "metadata": {
      "needs_background": "light"
     },
     "output_type": "display_data"
    }
   ],
   "source": [
    "plot(x, y, b, w)"
   ]
  },
  {
   "cell_type": "markdown",
   "metadata": {},
   "source": [
    "## 最小二乘法矩阵求解"
   ]
  },
  {
   "cell_type": "markdown",
   "metadata": {},
   "source": [
    "根据一元线性函数的表达式 $f(x, \\omega) = \\omega_0 + \\omega_1x$。那么，转换成矩阵形式为："
   ]
  },
  {
   "cell_type": "markdown",
   "metadata": {},
   "source": [
    "$$\n",
    "\\left[\\begin{array}{c}\n",
    "1, x_{1} \\\\\n",
    "1, x_{2} \\\\\n",
    "\\cdots \\\\\n",
    "1, x_{n-1} \\\\\n",
    "1, x_{n}\n",
    "\\end{array}\\right] *\\left[\\begin{array}{c}\n",
    "w_{0} \\\\\n",
    "w_{1}\n",
    "\\end{array}\\right]=\\left[\\begin{array}{c}\n",
    "y_{1} \\\\\n",
    "y_{2} \\\\\n",
    "\\cdots \\\\\n",
    "y_{n-1} \\\\\n",
    "y_{n}\n",
    "\\end{array}\\right]\n",
    "$$"
   ]
  },
  {
   "cell_type": "markdown",
   "metadata": {},
   "source": [
    "一般形式：$$f(x,\\omega) = XW$$"
   ]
  },
  {
   "cell_type": "markdown",
   "metadata": {},
   "source": [
    "然后，平方损失函数转换为矩阵形式："
   ]
  },
  {
   "cell_type": "markdown",
   "metadata": {},
   "source": [
    "$$\n",
    "J(\\omega)=\\sum_{i=1}^{n}\\left(y_{i}-\\left(w_{0}+w_{1} x_{i}\\right)\\right)^{2}=(y-X W)^{T}(y-X W)\n",
    "$$"
   ]
  },
  {
   "cell_type": "markdown",
   "metadata": {},
   "source": [
    "$$\n",
    "\\frac{\\partial J(\\omega)}{\\partial W}=2 * X^{T} X W-2 * X^{T} y=0\n",
    "$$"
   ]
  },
  {
   "cell_type": "markdown",
   "metadata": {},
   "source": [
    "$$\n",
    "W=\\left(X^{T} X\\right)^{-1} X^{T} y\n",
    "$$"
   ]
  },
  {
   "cell_type": "markdown",
   "metadata": {},
   "source": [
    "对于多元线性回归，矩阵$X$将变成："
   ]
  },
  {
   "cell_type": "markdown",
   "metadata": {},
   "source": [
    "$$\n",
    "X = \\left[\\begin{array}{ccccc}\n",
    "1 &  x_1^{(1)} &  x_1^{(2)} & \\cdots & x_1^{(n)}\\\\\n",
    "1 &  x_2^{(1)} &  x_2^{(2)} & \\cdots & x_2^{(n)} \\\\\n",
    "1 &  x_3^{(1)} &  x_3^{(2)} & \\cdots & x_3^{(n)} \\\\\n",
    "\\vdots & \\vdots & \\vdots & \\ddots & \\cdots \\\\\n",
    "1 &  x_n^{(1)} &  x_n^{(2)} & \\cdots &  x_n^{(n)}\n",
    "\\end{array}\\right]\n",
    "$$"
   ]
  },
  {
   "cell_type": "markdown",
   "metadata": {},
   "source": [
    "***\n",
    "注意：上式中，下标表示样本编号，上标表示特征编号！\n",
    "***"
   ]
  },
  {
   "cell_type": "code",
   "execution_count": 135,
   "metadata": {},
   "outputs": [],
   "source": [
    "def olsm_matrix(x, y):\n",
    "    x , y = np.array(x), np.array(y)\n",
    "    X = np.c_[np.ones((len(x),1)),x]\n",
    "    A = np.matmul(X.T, X)\n",
    "    Xb = np.matmul(X.T, y)\n",
    "    W = np.matmul(np.linalg.inv(A), Xb)\n",
    "    b = W[0].reshape(-1,1)\n",
    "    w = W[1:].reshape(-1, 1)\n",
    "    return b, w"
   ]
  },
  {
   "cell_type": "code",
   "execution_count": 132,
   "metadata": {},
   "outputs": [],
   "source": [
    "def get_loss(x, y, b, w):\n",
    "    x = x.reshape(-1, 1)\n",
    "    y = y.reshape(-1, 1)\n",
    "    y_hat = predict(x, b, w)\n",
    "    loss = np.sum((y - y_hat)**2)\n",
    "    return loss"
   ]
  },
  {
   "cell_type": "code",
   "execution_count": 136,
   "metadata": {},
   "outputs": [
    {
     "name": "stdout",
     "output_type": "stream",
     "text": [
      "[[44.25604341]] [[0.7175629]]\n"
     ]
    }
   ],
   "source": [
    "b, w = olsm_matrix(x,y)\n",
    "print(b,w)"
   ]
  },
  {
   "cell_type": "code",
   "execution_count": 137,
   "metadata": {},
   "outputs": [
    {
     "name": "stdout",
     "output_type": "stream",
     "text": [
      "426.6438085841144\n"
     ]
    }
   ],
   "source": [
    "loss = get_loss(x, y, b, w)\n",
    "print(loss)"
   ]
  },
  {
   "cell_type": "code",
   "execution_count": 138,
   "metadata": {},
   "outputs": [
    {
     "data": {
      "image/png": "[encoded data removed]",
      "text/plain": [
       "<Figure size 432x288 with 1 Axes>"
      ]
     },
     "metadata": {
      "needs_background": "light"
     },
     "output_type": "display_data"
    }
   ],
   "source": [
    "plot(x, y, b, w)"
   ]
  },
  {
   "cell_type": "markdown",
   "metadata": {},
   "source": [
    "## 梯度下降法"
   ]
  },
  {
   "cell_type": "markdown",
   "metadata": {},
   "source": [
    "梯度下降法作为迭代优化方法，需要提前定义好损失函数。这里选择均方误差 MSE 作为损失函数。"
   ]
  },
  {
   "cell_type": "markdown",
   "metadata": {},
   "source": [
    "$$\n",
    "J=\\frac{1}{2} \\sum_{i=1}^{n}\\left(y_{i}-\\hat{y}_{i}\\right)^{2}\n",
    "$$\n"
   ]
  },
  {
   "cell_type": "markdown",
   "metadata": {},
   "source": [
    "其中，$y_{i}$  表示真实值，$\\hat y_{i}$ 表示近似值，$n$ 则表示值的个数。近似值则通过当前已知计算，那么："
   ]
  },
  {
   "cell_type": "markdown",
   "metadata": {},
   "source": [
    "$$\n",
    "J(\\omega) = \\frac{1}{2} \\sum_{i=1}^{m} \\big(y_i-f(x_i,\\omega)\\big)^2\n",
    "$$"
   ]
  },
  {
   "cell_type": "markdown",
   "metadata": {},
   "source": [
    "求解参数和截距项对应的梯度："
   ]
  },
  {
   "cell_type": "markdown",
   "metadata": {},
   "source": [
    "$$\n",
    "\\begin{aligned}\n",
    "\\frac{\\partial J(\\omega)}{\\partial w_{0}} &= \\sum_{i=1}^{n}\\left(f(x_i,\\omega) - y_{i}\\right)\\\\\n",
    "\\frac{\\partial J(\\omega)}{\\partial w_{j}} &= \\sum_{i=1}^{n}\\left(f(x_i,\\omega) - y_{i}\\right)*x_i^{(j)}\n",
    "\\end{aligned}\n",
    "$$"
   ]
  },
  {
   "cell_type": "markdown",
   "metadata": {},
   "source": [
    "那么，根据梯度就可以执行迭代更新，从而找到最优参数："
   ]
  },
  {
   "cell_type": "markdown",
   "metadata": {
    "ExecuteTime": {
     "end_time": "2020-12-14T15:52:22.348572Z",
     "start_time": "2020-12-14T15:52:22.342580Z"
    }
   },
   "source": [
    "$$\n",
    "\\begin{array}{l}\n",
    "w_{0}=w_{0} - \\alpha * \\frac{\\partial J}{\\partial w_{0}} \\\\\n",
    "w_{j}=w_{j} - \\alpha * \\frac{\\partial J}{\\partial w_{j}}\n",
    "\\end{array}\n",
    "$$"
   ]
  },
  {
   "cell_type": "code",
   "execution_count": 144,
   "metadata": {},
   "outputs": [],
   "source": [
    "def gradient_descent(x, y, learning_rate = 0.0001, iterations = 200, W=None):\n",
    "    Xs = np.c_[np.ones((len(x),1)), x]\n",
    "    Ys = y.reshape((Xs.shape[0], 1))\n",
    "    \n",
    "    if W is None:\n",
    "        W = np.zeros((Xs.shape[1], 1))\n",
    "    #w = np.array([[44], [0.8]])\n",
    "    loss = []\n",
    "\n",
    "    for i in range(iterations):\n",
    "        errors = Ys - Xs.dot(W)\n",
    "        loss.append(np.sum(errors**2))\n",
    "        grad = -(Xs.T).dot(errors)\n",
    "        W = W - learning_rate * grad\n",
    "        print(\"\\nEpoch: {:d} loss: {:.4f} \".format(i+1, loss[-1]), end='')\n",
    "    print()\n",
    "    plt.plot(loss)\n",
    "    b = W[0].reshape(-1,1)\n",
    "    w = W[1:].reshape(-1, 1)\n",
    "    return b, w"
   ]
  },
  {
   "cell_type": "code",
   "execution_count": 148,
   "metadata": {
    "scrolled": true
   },
   "outputs": [
    {
     "name": "stdout",
     "output_type": "stream",
     "text": [
      "\n",
      "Epoch: 1 loss: 102868.0000 \n",
      "Epoch: 2 loss: 14338.6712 \n",
      "Epoch: 3 loss: 2689.7893 \n",
      "Epoch: 4 loss: 1157.0021 \n",
      "Epoch: 5 loss: 955.3125 \n",
      "Epoch: 6 loss: 928.7715 \n",
      "Epoch: 7 loss: 925.2770 \n",
      "Epoch: 8 loss: 924.8150 \n",
      "Epoch: 9 loss: 924.7520 \n",
      "Epoch: 10 loss: 924.7415 \n",
      "Epoch: 11 loss: 924.7379 \n",
      "Epoch: 12 loss: 924.7352 \n",
      "Epoch: 13 loss: 924.7327 \n",
      "Epoch: 14 loss: 924.7302 \n",
      "Epoch: 15 loss: 924.7276 \n",
      "Epoch: 16 loss: 924.7251 \n",
      "Epoch: 17 loss: 924.7225 \n",
      "Epoch: 18 loss: 924.7200 \n",
      "Epoch: 19 loss: 924.7175 \n",
      "Epoch: 20 loss: 924.7149 \n",
      "\n",
      "w = (array([[0.0178926]]), array([[1.26467512]]))\n"
     ]
    },
    {
     "data": {
      "image/png": "[encoded data removed]",
      "text/plain": [
       "<Figure size 432x288 with 1 Axes>"
      ]
     },
     "metadata": {
      "needs_background": "light"
     },
     "output_type": "display_data"
    }
   ],
   "source": [
    "b1, w1 = gradient_descent(x, y, learning_rate = 0.00001, iterations = 20)\n",
    "print(f\"\\nw = {b1, w1}\")"
   ]
  },
  {
   "cell_type": "code",
   "execution_count": 149,
   "metadata": {
    "scrolled": false
   },
   "outputs": [
    {
     "name": "stdout",
     "output_type": "stream",
     "text": [
      "\n",
      "Epoch: 1 loss: 3796.0000 \n",
      "Epoch: 2 loss: 873.9997 \n",
      "Epoch: 3 loss: 489.5166 \n",
      "Epoch: 4 loss: 438.9255 \n",
      "Epoch: 5 loss: 432.2686 \n",
      "Epoch: 6 loss: 431.3926 \n",
      "Epoch: 7 loss: 431.2774 \n",
      "Epoch: 8 loss: 431.2622 \n",
      "Epoch: 9 loss: 431.2601 \n",
      "Epoch: 10 loss: 431.2599 \n",
      "Epoch: 11 loss: 431.2598 \n",
      "Epoch: 12 loss: 431.2598 \n",
      "Epoch: 13 loss: 431.2598 \n",
      "Epoch: 14 loss: 431.2597 \n",
      "Epoch: 15 loss: 431.2597 \n",
      "Epoch: 16 loss: 431.2597 \n",
      "Epoch: 17 loss: 431.2597 \n",
      "Epoch: 18 loss: 431.2596 \n",
      "Epoch: 19 loss: 431.2596 \n",
      "Epoch: 20 loss: 431.2596 \n",
      "\n",
      "w = (array([[39.99737513]]), array([[0.77023168]]))\n"
     ]
    },
    {
     "data": {
      "image/png": "[encoded data removed]",
      "text/plain": [
       "<Figure size 432x288 with 1 Axes>"
      ]
     },
     "metadata": {
      "needs_background": "light"
     },
     "output_type": "display_data"
    }
   ],
   "source": [
    "b2, w2 = gradient_descent(x, y, learning_rate = 0.00001, iterations = 20, W=np.array([[40],[1]]))\n",
    "print(f\"\\nw = {b2, w2}\")"
   ]
  },
  {
   "cell_type": "code",
   "execution_count": 166,
   "metadata": {
    "scrolled": true
   },
   "outputs": [
    {
     "data": {
      "image/png": "[encoded data removed]",
      "text/plain": [
       "<Figure size 432x288 with 1 Axes>"
      ]
     },
     "metadata": {
      "needs_background": "light"
     },
     "output_type": "display_data"
    }
   ],
   "source": [
    "plot(x,y,b1, w1, 'r')\n",
    "plot(x,y,b2, w2, 'g')"
   ]
  },
  {
   "cell_type": "markdown",
   "metadata": {},
   "source": [
    "## 数据规范化"
   ]
  },
  {
   "cell_type": "markdown",
   "metadata": {},
   "source": [
    "在回归问题和一些机器学习算法中，以及训练神经网络的过程中，通常需要对原始数据进行中心化（Zero-centered或者Mean-subtraction）处理和标准化（Standardization或Normalization）处理。\n",
    "\n",
    "通过中心化和标准化处理，得到均值为0，标准差为1的服从标准正态分布的数据。计算过程由下式表示：\n",
    "$$x^{'}=\\frac{x-\\mu }{\\sigma }$$\n",
    "\n",
    "在一些实际问题中，我们得到的样本数据都是多个维度的，即一个样本是用多个特征来表征的。比如在预测房价的问题中，影响房价$y$的因素有房子面积$x_{1}$、卧室数量$x_{2}$等，我们得到的样本数据就是$(x_{1},x_{2})$这样一些样本点，这里的$x_{1}、x_{2}$又被称为特征。很显然，这些特征的量纲和数值得量级都是不一样的，在预测房价时，如果直接使用原始的数据值，那么他们对房价的影响程度将是不一样的，而通过标准化处理，可以使得不同的特征具有相同的尺度（Scale）。这样，在使用梯度下降法学习参数的时候，不同特征对参数的影响程度就一样了。\n",
    "\n",
    "其实，在不同的问题中，中心化和标准化有着不同的意义，比如在训练神经网络的过程中，通过将数据标准化，能够加速权重参数的收敛。\n",
    "另外，对于主成分分析（PCA）问题，也需要对数据进行中心化和标准化等预处理步骤。"
   ]
  },
  {
   "cell_type": "code",
   "execution_count": 167,
   "metadata": {},
   "outputs": [],
   "source": [
    "ux = x.mean()\n",
    "sx = x.std()\n",
    "uy = y.mean()\n",
    "sy = y.std()\n",
    "x1 = (x - ux) / sx\n",
    "y1 = (y - uy) / sy\n"
   ]
  },
  {
   "cell_type": "code",
   "execution_count": 158,
   "metadata": {},
   "outputs": [
    {
     "name": "stdout",
     "output_type": "stream",
     "text": [
      "\n",
      "Epoch: 1 loss: 10.0000 \n",
      "Epoch: 2 loss: 8.7425 \n",
      "Epoch: 3 loss: 7.7240 \n",
      "Epoch: 4 loss: 6.8990 \n",
      "Epoch: 5 loss: 6.2307 \n",
      "Epoch: 6 loss: 5.6894 \n",
      "Epoch: 7 loss: 5.2510 \n",
      "Epoch: 8 loss: 4.8958 \n",
      "Epoch: 9 loss: 4.6081 \n",
      "Epoch: 10 loss: 4.3751 \n",
      "Epoch: 11 loss: 4.1864 \n",
      "Epoch: 12 loss: 4.0335 \n",
      "Epoch: 13 loss: 3.9097 \n",
      "Epoch: 14 loss: 3.8094 \n",
      "Epoch: 15 loss: 3.7281 \n",
      "Epoch: 16 loss: 3.6623 \n",
      "Epoch: 17 loss: 3.6090 \n",
      "Epoch: 18 loss: 3.5658 \n",
      "Epoch: 19 loss: 3.5309 \n",
      "Epoch: 20 loss: 3.5025 \n",
      "Epoch: 21 loss: 3.4796 \n",
      "Epoch: 22 loss: 3.4610 \n",
      "Epoch: 23 loss: 3.4459 \n",
      "Epoch: 24 loss: 3.4338 \n",
      "Epoch: 25 loss: 3.4239 \n",
      "Epoch: 26 loss: 3.4159 \n",
      "Epoch: 27 loss: 3.4094 \n",
      "Epoch: 28 loss: 3.4041 \n",
      "Epoch: 29 loss: 3.3999 \n",
      "Epoch: 30 loss: 3.3965 \n",
      "\n",
      "w = (array([[1.11022302e-16]]), array([[0.77903891]]))\n"
     ]
    },
    {
     "data": {
      "image/png": "[encoded data removed]",
      "text/plain": [
       "<Figure size 432x288 with 1 Axes>"
      ]
     },
     "metadata": {
      "needs_background": "light"
     },
     "output_type": "display_data"
    }
   ],
   "source": [
    "b3, w3 = gradient_descent(x1, y1, learning_rate = 0.01, iterations = 30)\n",
    "print(f\"\\nw = {b3, w3}\")"
   ]
  },
  {
   "cell_type": "code",
   "execution_count": 160,
   "metadata": {},
   "outputs": [
    {
     "data": {
      "image/png": "[encoded data removed]",
      "text/plain": [
       "<Figure size 432x288 with 1 Axes>"
      ]
     },
     "metadata": {
      "needs_background": "light"
     },
     "output_type": "display_data"
    }
   ],
   "source": [
    "plot(x1, y1, b3, w3)"
   ]
  },
  {
   "cell_type": "code",
   "execution_count": 162,
   "metadata": {},
   "outputs": [],
   "source": [
    "w4 = w3 * sx / sy\n",
    "b4 = b3 - ux / sx * sy + uy"
   ]
  },
  {
   "cell_type": "code",
   "execution_count": 164,
   "metadata": {},
   "outputs": [
    {
     "data": {
      "text/plain": [
       "(array([[0.88322261]]), array([[31.29513729]]))"
      ]
     },
     "execution_count": 164,
     "metadata": {},
     "output_type": "execute_result"
    }
   ],
   "source": [
    "w4, b4"
   ]
  },
  {
   "cell_type": "code",
   "execution_count": 165,
   "metadata": {},
   "outputs": [
    {
     "data": {
      "image/png": "[encoded data removed]",
      "text/plain": [
       "<Figure size 432x288 with 1 Axes>"
      ]
     },
     "metadata": {
      "needs_background": "light"
     },
     "output_type": "display_data"
    }
   ],
   "source": [
    "plot(x, y, b4, w4)"
   ]
  },
  {
   "cell_type": "markdown",
   "metadata": {},
   "source": [
    "## 实例"
   ]
  },
  {
   "cell_type": "code",
   "execution_count": 168,
   "metadata": {},
   "outputs": [
    {
     "data": {
      "text/html": [
       "<div>\n",
       "<style scoped>\n",
       "    .dataframe tbody tr th:only-of-type {\n",
       "        vertical-align: middle;\n",
       "    }\n",
       "\n",
       "    .dataframe tbody tr th {\n",
       "        vertical-align: top;\n",
       "    }\n",
       "\n",
       "    .dataframe thead th {\n",
       "        text-align: right;\n",
       "    }\n",
       "</style>\n",
       "<table border=\"1\" class=\"dataframe\">\n",
       "  <thead>\n",
       "    <tr style=\"text-align: right;\">\n",
       "      <th></th>\n",
       "      <th>Unnamed: 0</th>\n",
       "      <th>TV</th>\n",
       "      <th>radio</th>\n",
       "      <th>newspaper</th>\n",
       "      <th>sales</th>\n",
       "    </tr>\n",
       "  </thead>\n",
       "  <tbody>\n",
       "    <tr>\n",
       "      <th>0</th>\n",
       "      <td>1</td>\n",
       "      <td>230.1</td>\n",
       "      <td>37.8</td>\n",
       "      <td>69.2</td>\n",
       "      <td>22.1</td>\n",
       "    </tr>\n",
       "    <tr>\n",
       "      <th>1</th>\n",
       "      <td>2</td>\n",
       "      <td>44.5</td>\n",
       "      <td>39.3</td>\n",
       "      <td>45.1</td>\n",
       "      <td>10.4</td>\n",
       "    </tr>\n",
       "    <tr>\n",
       "      <th>2</th>\n",
       "      <td>3</td>\n",
       "      <td>17.2</td>\n",
       "      <td>45.9</td>\n",
       "      <td>69.3</td>\n",
       "      <td>9.3</td>\n",
       "    </tr>\n",
       "    <tr>\n",
       "      <th>3</th>\n",
       "      <td>4</td>\n",
       "      <td>151.5</td>\n",
       "      <td>41.3</td>\n",
       "      <td>58.5</td>\n",
       "      <td>18.5</td>\n",
       "    </tr>\n",
       "    <tr>\n",
       "      <th>4</th>\n",
       "      <td>5</td>\n",
       "      <td>180.8</td>\n",
       "      <td>10.8</td>\n",
       "      <td>58.4</td>\n",
       "      <td>12.9</td>\n",
       "    </tr>\n",
       "  </tbody>\n",
       "</table>\n",
       "</div>"
      ],
      "text/plain": [
       "   Unnamed: 0     TV  radio  newspaper  sales\n",
       "0           1  230.1   37.8       69.2   22.1\n",
       "1           2   44.5   39.3       45.1   10.4\n",
       "2           3   17.2   45.9       69.3    9.3\n",
       "3           4  151.5   41.3       58.5   18.5\n",
       "4           5  180.8   10.8       58.4   12.9"
      ]
     },
     "execution_count": 168,
     "metadata": {},
     "output_type": "execute_result"
    }
   ],
   "source": [
    "import pandas as pd\n",
    "import numpy as np\n",
    "import matplotlib.pyplot as plt\n",
    "import seaborn as sn\n",
    "df=pd.read_csv('./datas/Advertising.csv')\n",
    "df.head()"
   ]
  },
  {
   "cell_type": "code",
   "execution_count": 169,
   "metadata": {},
   "outputs": [
    {
     "data": {
      "text/plain": [
       "Index(['TV', 'radio', 'newspaper', 'sales'], dtype='object')"
      ]
     },
     "execution_count": 169,
     "metadata": {},
     "output_type": "execute_result"
    }
   ],
   "source": [
    "df = df.drop([\"Unnamed: 0\"], axis=1)\n",
    "\n",
    "df.columns"
   ]
  },
  {
   "cell_type": "code",
   "execution_count": 170,
   "metadata": {},
   "outputs": [
    {
     "data": {
      "text/html": [
       "<div>\n",
       "<style scoped>\n",
       "    .dataframe tbody tr th:only-of-type {\n",
       "        vertical-align: middle;\n",
       "    }\n",
       "\n",
       "    .dataframe tbody tr th {\n",
       "        vertical-align: top;\n",
       "    }\n",
       "\n",
       "    .dataframe thead th {\n",
       "        text-align: right;\n",
       "    }\n",
       "</style>\n",
       "<table border=\"1\" class=\"dataframe\">\n",
       "  <thead>\n",
       "    <tr style=\"text-align: right;\">\n",
       "      <th></th>\n",
       "      <th>TV</th>\n",
       "      <th>Radio</th>\n",
       "      <th>Newspaper</th>\n",
       "      <th>Sales</th>\n",
       "    </tr>\n",
       "  </thead>\n",
       "  <tbody>\n",
       "    <tr>\n",
       "      <th>0</th>\n",
       "      <td>230.1</td>\n",
       "      <td>37.8</td>\n",
       "      <td>69.2</td>\n",
       "      <td>22.1</td>\n",
       "    </tr>\n",
       "    <tr>\n",
       "      <th>1</th>\n",
       "      <td>44.5</td>\n",
       "      <td>39.3</td>\n",
       "      <td>45.1</td>\n",
       "      <td>10.4</td>\n",
       "    </tr>\n",
       "    <tr>\n",
       "      <th>2</th>\n",
       "      <td>17.2</td>\n",
       "      <td>45.9</td>\n",
       "      <td>69.3</td>\n",
       "      <td>9.3</td>\n",
       "    </tr>\n",
       "    <tr>\n",
       "      <th>3</th>\n",
       "      <td>151.5</td>\n",
       "      <td>41.3</td>\n",
       "      <td>58.5</td>\n",
       "      <td>18.5</td>\n",
       "    </tr>\n",
       "    <tr>\n",
       "      <th>4</th>\n",
       "      <td>180.8</td>\n",
       "      <td>10.8</td>\n",
       "      <td>58.4</td>\n",
       "      <td>12.9</td>\n",
       "    </tr>\n",
       "  </tbody>\n",
       "</table>\n",
       "</div>"
      ],
      "text/plain": [
       "      TV  Radio  Newspaper  Sales\n",
       "0  230.1   37.8       69.2   22.1\n",
       "1   44.5   39.3       45.1   10.4\n",
       "2   17.2   45.9       69.3    9.3\n",
       "3  151.5   41.3       58.5   18.5\n",
       "4  180.8   10.8       58.4   12.9"
      ]
     },
     "execution_count": 170,
     "metadata": {},
     "output_type": "execute_result"
    }
   ],
   "source": [
    "df.columns=[\"TV\", \"Radio\", \"Newspaper\", \"Sales\"]\n",
    "df.head()\n"
   ]
  },
  {
   "cell_type": "code",
   "execution_count": 171,
   "metadata": {},
   "outputs": [
    {
     "data": {
      "text/plain": [
       "<seaborn.axisgrid.PairGrid at 0x215e226baf0>"
      ]
     },
     "execution_count": 171,
     "metadata": {},
     "output_type": "execute_result"
    },
    {
     "data": {
      "image/png": "[encoded data removed]",
      "text/plain": [
       "<Figure size 540x180 with 3 Axes>"
      ]
     },
     "metadata": {
      "needs_background": "light"
     },
     "output_type": "display_data"
    }
   ],
   "source": [
    "import seaborn as sns\n",
    "sns.pairplot(df,x_vars=[\"TV\",\"Radio\",\"Newspaper\"],y_vars= \"Sales\",kind=\"reg\")"
   ]
  },
  {
   "cell_type": "code",
   "execution_count": 172,
   "metadata": {},
   "outputs": [],
   "source": [
    "X=df[[\"TV\",\"Radio\",\"Newspaper\"]]\n",
    "Y=df[\"Sales\"]\n",
    "X = np.array(X)\n",
    "Y = np.array(Y)"
   ]
  },
  {
   "cell_type": "code",
   "execution_count": 173,
   "metadata": {},
   "outputs": [
    {
     "name": "stdout",
     "output_type": "stream",
     "text": [
      "[[9.3116381]] [[0.20249578]]\n"
     ]
    }
   ],
   "source": [
    "b, w = olsm_matrix(X[:,1], Y)\n",
    "print(b, w)"
   ]
  },
  {
   "cell_type": "code",
   "execution_count": 174,
   "metadata": {},
   "outputs": [
    {
     "data": {
      "image/png": "[encoded data removed]",
      "text/plain": [
       "<Figure size 432x288 with 1 Axes>"
      ]
     },
     "metadata": {
      "needs_background": "light"
     },
     "output_type": "display_data"
    }
   ],
   "source": [
    "plot(X[:,1], Y, b, w)"
   ]
  },
  {
   "cell_type": "code",
   "execution_count": 183,
   "metadata": {},
   "outputs": [
    {
     "name": "stdout",
     "output_type": "stream",
     "text": [
      "\n",
      "Epoch: 1 loss: 44743.2500 \n",
      "Epoch: 2 loss: 34575.8026 \n",
      "Epoch: 3 loss: 27268.5035 \n",
      "Epoch: 4 loss: 22016.7346 \n",
      "Epoch: 5 loss: 18242.2337 \n",
      "Epoch: 6 loss: 15529.4152 \n",
      "Epoch: 7 loss: 13579.6062 \n",
      "Epoch: 8 loss: 12178.1567 \n",
      "Epoch: 9 loss: 11170.8021 \n",
      "Epoch: 10 loss: 10446.6753 \n",
      "Epoch: 11 loss: 9926.0988 \n",
      "Epoch: 12 loss: 9551.8096 \n",
      "Epoch: 13 loss: 9282.6543 \n",
      "Epoch: 14 loss: 9089.0565 \n",
      "Epoch: 15 loss: 8949.7603 \n",
      "Epoch: 16 loss: 8849.4897 \n",
      "Epoch: 17 loss: 8777.2660 \n",
      "Epoch: 18 loss: 8725.1990 \n",
      "Epoch: 19 loss: 8687.6183 \n",
      "Epoch: 20 loss: 8660.4485 \n",
      "Epoch: 21 loss: 8640.7610 \n",
      "Epoch: 22 loss: 8626.4508 \n",
      "Epoch: 23 loss: 8616.0051 \n",
      "Epoch: 24 loss: 8608.3369 \n",
      "Epoch: 25 loss: 8602.6648 \n",
      "Epoch: 26 loss: 8598.4272 \n",
      "Epoch: 27 loss: 8595.2206 \n",
      "Epoch: 28 loss: 8592.7551 \n",
      "Epoch: 29 loss: 8590.8221 \n",
      "Epoch: 30 loss: 8589.2718 \n",
      "Epoch: 31 loss: 8587.9967 \n",
      "Epoch: 32 loss: 8586.9192 \n",
      "Epoch: 33 loss: 8585.9839 \n",
      "Epoch: 34 loss: 8585.1507 \n",
      "Epoch: 35 loss: 8584.3910 \n",
      "Epoch: 36 loss: 8583.6841 \n",
      "Epoch: 37 loss: 8583.0151 \n",
      "Epoch: 38 loss: 8582.3735 \n",
      "Epoch: 39 loss: 8581.7514 \n",
      "Epoch: 40 loss: 8581.1435 \n",
      "Epoch: 41 loss: 8580.5458 \n",
      "Epoch: 42 loss: 8579.9554 \n",
      "Epoch: 43 loss: 8579.3703 \n",
      "Epoch: 44 loss: 8578.7890 \n",
      "Epoch: 45 loss: 8578.2105 \n",
      "Epoch: 46 loss: 8577.6340 \n",
      "Epoch: 47 loss: 8577.0589 \n",
      "Epoch: 48 loss: 8576.4849 \n",
      "Epoch: 49 loss: 8575.9117 \n",
      "Epoch: 50 loss: 8575.3391 \n",
      "Epoch: 51 loss: 8574.7669 \n",
      "Epoch: 52 loss: 8574.1951 \n",
      "Epoch: 53 loss: 8573.6235 \n",
      "Epoch: 54 loss: 8573.0521 \n",
      "Epoch: 55 loss: 8572.4809 \n",
      "Epoch: 56 loss: 8571.9098 \n",
      "Epoch: 57 loss: 8571.3388 \n",
      "Epoch: 58 loss: 8570.7679 \n",
      "Epoch: 59 loss: 8570.1972 \n",
      "Epoch: 60 loss: 8569.6265 \n",
      "Epoch: 61 loss: 8569.0559 \n",
      "Epoch: 62 loss: 8568.4853 \n",
      "Epoch: 63 loss: 8567.9149 \n",
      "Epoch: 64 loss: 8567.3445 \n",
      "Epoch: 65 loss: 8566.7741 \n",
      "Epoch: 66 loss: 8566.2039 \n",
      "Epoch: 67 loss: 8565.6337 \n",
      "Epoch: 68 loss: 8565.0636 \n",
      "Epoch: 69 loss: 8564.4935 \n",
      "Epoch: 70 loss: 8563.9235 \n",
      "Epoch: 71 loss: 8563.3536 \n",
      "Epoch: 72 loss: 8562.7838 \n",
      "Epoch: 73 loss: 8562.2140 \n",
      "Epoch: 74 loss: 8561.6442 \n",
      "Epoch: 75 loss: 8561.0746 \n",
      "Epoch: 76 loss: 8560.5050 \n",
      "Epoch: 77 loss: 8559.9355 \n",
      "Epoch: 78 loss: 8559.3660 \n",
      "Epoch: 79 loss: 8558.7966 \n",
      "Epoch: 80 loss: 8558.2273 \n",
      "Epoch: 81 loss: 8557.6580 \n",
      "Epoch: 82 loss: 8557.0888 \n",
      "Epoch: 83 loss: 8556.5197 \n",
      "Epoch: 84 loss: 8555.9506 \n",
      "Epoch: 85 loss: 8555.3816 \n",
      "Epoch: 86 loss: 8554.8127 \n",
      "Epoch: 87 loss: 8554.2438 \n",
      "Epoch: 88 loss: 8553.6750 \n",
      "Epoch: 89 loss: 8553.1063 \n",
      "Epoch: 90 loss: 8552.5376 \n",
      "Epoch: 91 loss: 8551.9690 \n",
      "Epoch: 92 loss: 8551.4004 \n",
      "Epoch: 93 loss: 8550.8320 \n",
      "Epoch: 94 loss: 8550.2636 \n",
      "Epoch: 95 loss: 8549.6952 \n",
      "Epoch: 96 loss: 8549.1269 \n",
      "Epoch: 97 loss: 8548.5587 \n",
      "Epoch: 98 loss: 8547.9906 \n",
      "Epoch: 99 loss: 8547.4225 \n",
      "Epoch: 100 loss: 8546.8545 \n",
      "Epoch: 101 loss: 8546.2865 \n",
      "Epoch: 102 loss: 8545.7186 \n",
      "Epoch: 103 loss: 8545.1508 \n",
      "Epoch: 104 loss: 8544.5830 \n",
      "Epoch: 105 loss: 8544.0154 \n",
      "Epoch: 106 loss: 8543.4477 \n",
      "Epoch: 107 loss: 8542.8802 \n",
      "Epoch: 108 loss: 8542.3127 \n",
      "Epoch: 109 loss: 8541.7452 \n",
      "Epoch: 110 loss: 8541.1779 \n",
      "Epoch: 111 loss: 8540.6106 \n",
      "Epoch: 112 loss: 8540.0433 \n",
      "Epoch: 113 loss: 8539.4762 \n",
      "Epoch: 114 loss: 8538.9091 \n",
      "Epoch: 115 loss: 8538.3420 \n",
      "Epoch: 116 loss: 8537.7751 \n",
      "Epoch: 117 loss: 8537.2082 \n",
      "Epoch: 118 loss: 8536.6413 \n",
      "Epoch: 119 loss: 8536.0745 \n",
      "Epoch: 120 loss: 8535.5078 \n",
      "Epoch: 121 loss: 8534.9412 \n",
      "Epoch: 122 loss: 8534.3746 \n",
      "Epoch: 123 loss: 8533.8081 \n",
      "Epoch: 124 loss: 8533.2416 \n",
      "Epoch: 125 loss: 8532.6753 \n",
      "Epoch: 126 loss: 8532.1089 \n",
      "Epoch: 127 loss: 8531.5427 \n",
      "Epoch: 128 loss: 8530.9765 \n",
      "Epoch: 129 loss: 8530.4104 \n",
      "Epoch: 130 loss: 8529.8443 \n",
      "Epoch: 131 loss: 8529.2783 \n",
      "Epoch: 132 loss: 8528.7124 \n",
      "Epoch: 133 loss: 8528.1465 \n",
      "Epoch: 134 loss: 8527.5807 \n",
      "Epoch: 135 loss: 8527.0150 \n",
      "Epoch: 136 loss: 8526.4493 \n",
      "Epoch: 137 loss: 8525.8837 \n",
      "Epoch: 138 loss: 8525.3182 \n",
      "Epoch: 139 loss: 8524.7527 \n",
      "Epoch: 140 loss: 8524.1873 \n",
      "Epoch: 141 loss: 8523.6220 \n",
      "Epoch: 142 loss: 8523.0567 \n",
      "Epoch: 143 loss: 8522.4915 \n",
      "Epoch: 144 loss: 8521.9263 \n",
      "Epoch: 145 loss: 8521.3613 \n",
      "Epoch: 146 loss: 8520.7962 \n",
      "Epoch: 147 loss: 8520.2313 \n",
      "Epoch: 148 loss: 8519.6664 \n",
      "Epoch: 149 loss: 8519.1016 \n",
      "Epoch: 150 loss: 8518.5368 \n",
      "Epoch: 151 loss: 8517.9721 \n",
      "Epoch: 152 loss: 8517.4075 \n",
      "Epoch: 153 loss: 8516.8430 \n",
      "Epoch: 154 loss: 8516.2785 \n",
      "Epoch: 155 loss: 8515.7140 \n",
      "Epoch: 156 loss: 8515.1497 \n",
      "Epoch: 157 loss: 8514.5854 \n",
      "Epoch: 158 loss: 8514.0211 \n",
      "Epoch: 159 loss: 8513.4570 \n",
      "Epoch: 160 loss: 8512.8929 \n",
      "Epoch: 161 loss: 8512.3288 \n",
      "Epoch: 162 loss: 8511.7649 \n",
      "Epoch: 163 loss: 8511.2009 \n",
      "Epoch: 164 loss: 8510.6371 \n",
      "Epoch: 165 loss: 8510.0733 \n",
      "Epoch: 166 loss: 8509.5096 \n",
      "Epoch: 167 loss: 8508.9460 \n",
      "Epoch: 168 loss: 8508.3824 \n",
      "Epoch: 169 loss: 8507.8188 \n",
      "Epoch: 170 loss: 8507.2554 \n",
      "Epoch: 171 loss: 8506.6920 \n",
      "Epoch: 172 loss: 8506.1287 \n",
      "Epoch: 173 loss: 8505.5654 \n",
      "Epoch: 174 loss: 8505.0022 \n",
      "Epoch: 175 loss: 8504.4391 \n",
      "Epoch: 176 loss: 8503.8760 \n",
      "Epoch: 177 loss: 8503.3130 \n",
      "Epoch: 178 loss: 8502.7501 \n",
      "Epoch: 179 loss: 8502.1872 \n",
      "Epoch: 180 loss: 8501.6244 \n",
      "Epoch: 181 loss: 8501.0617 \n",
      "Epoch: 182 loss: 8500.4990 \n",
      "Epoch: 183 loss: 8499.9364 \n",
      "Epoch: 184 loss: 8499.3738 \n",
      "Epoch: 185 loss: 8498.8114 \n",
      "Epoch: 186 loss: 8498.2489 \n",
      "Epoch: 187 loss: 8497.6866 \n",
      "Epoch: 188 loss: 8497.1243 \n",
      "Epoch: 189 loss: 8496.5621 \n",
      "Epoch: 190 loss: 8495.9999 \n",
      "Epoch: 191 loss: 8495.4378 \n",
      "Epoch: 192 loss: 8494.8758 \n",
      "Epoch: 193 loss: 8494.3138 \n",
      "Epoch: 194 loss: 8493.7519 \n",
      "Epoch: 195 loss: 8493.1901 \n",
      "Epoch: 196 loss: 8492.6283 \n",
      "Epoch: 197 loss: 8492.0666 \n",
      "Epoch: 198 loss: 8491.5050 \n",
      "Epoch: 199 loss: 8490.9434 \n",
      "Epoch: 200 loss: 8490.3819 \n",
      "Epoch: 201 loss: 8489.8205 \n",
      "Epoch: 202 loss: 8489.2591 \n",
      "Epoch: 203 loss: 8488.6978 \n",
      "Epoch: 204 loss: 8488.1365 \n",
      "Epoch: 205 loss: 8487.5753 \n",
      "Epoch: 206 loss: 8487.0142 \n",
      "Epoch: 207 loss: 8486.4532 \n",
      "Epoch: 208 loss: 8485.8922 \n",
      "Epoch: 209 loss: 8485.3312 \n",
      "Epoch: 210 loss: 8484.7704 \n",
      "Epoch: 211 loss: 8484.2096 \n",
      "Epoch: 212 loss: 8483.6488 \n",
      "Epoch: 213 loss: 8483.0882 \n",
      "Epoch: 214 loss: 8482.5276 \n",
      "Epoch: 215 loss: 8481.9670 \n",
      "Epoch: 216 loss: 8481.4065 \n",
      "Epoch: 217 loss: 8480.8461 \n",
      "Epoch: 218 loss: 8480.2858 \n",
      "Epoch: 219 loss: 8479.7255 \n",
      "Epoch: 220 loss: 8479.1653 \n",
      "Epoch: 221 loss: 8478.6051 \n",
      "Epoch: 222 loss: 8478.0451 \n",
      "Epoch: 223 loss: 8477.4850 \n",
      "Epoch: 224 loss: 8476.9251 \n",
      "Epoch: 225 loss: 8476.3652 \n",
      "Epoch: 226 loss: 8475.8053 \n",
      "Epoch: 227 loss: 8475.2456 \n",
      "Epoch: 228 loss: 8474.6859 \n",
      "Epoch: 229 loss: 8474.1262 \n",
      "Epoch: 230 loss: 8473.5667 \n",
      "Epoch: 231 loss: 8473.0072 \n",
      "Epoch: 232 loss: 8472.4477 \n",
      "Epoch: 233 loss: 8471.8883 \n",
      "Epoch: 234 loss: 8471.3290 \n",
      "Epoch: 235 loss: 8470.7698 \n",
      "Epoch: 236 loss: 8470.2106 \n",
      "Epoch: 237 loss: 8469.6515 \n",
      "Epoch: 238 loss: 8469.0924 \n",
      "Epoch: 239 loss: 8468.5334 \n",
      "Epoch: 240 loss: 8467.9745 \n",
      "Epoch: 241 loss: 8467.4156 \n",
      "Epoch: 242 loss: 8466.8568 \n",
      "Epoch: 243 loss: 8466.2981 \n",
      "Epoch: 244 loss: 8465.7394 \n",
      "Epoch: 245 loss: 8465.1808 \n",
      "Epoch: 246 loss: 8464.6223 \n",
      "Epoch: 247 loss: 8464.0638 \n",
      "Epoch: 248 loss: 8463.5054 \n",
      "Epoch: 249 loss: 8462.9470 \n",
      "Epoch: 250 loss: 8462.3888 \n",
      "Epoch: 251 loss: 8461.8305 \n",
      "Epoch: 252 loss: 8461.2724 \n",
      "Epoch: 253 loss: 8460.7143 \n",
      "Epoch: 254 loss: 8460.1563 \n",
      "Epoch: 255 loss: 8459.5983 \n",
      "Epoch: 256 loss: 8459.0404 \n",
      "Epoch: 257 loss: 8458.4826 \n",
      "Epoch: 258 loss: 8457.9248 \n",
      "Epoch: 259 loss: 8457.3671 \n",
      "Epoch: 260 loss: 8456.8095 \n",
      "Epoch: 261 loss: 8456.2519 \n",
      "Epoch: 262 loss: 8455.6944 \n",
      "Epoch: 263 loss: 8455.1369 \n",
      "Epoch: 264 loss: 8454.5795 \n",
      "Epoch: 265 loss: 8454.0222 \n",
      "Epoch: 266 loss: 8453.4650 \n",
      "Epoch: 267 loss: 8452.9078 \n",
      "Epoch: 268 loss: 8452.3507 \n",
      "Epoch: 269 loss: 8451.7936 \n",
      "Epoch: 270 loss: 8451.2366 \n",
      "Epoch: 271 loss: 8450.6797 \n",
      "Epoch: 272 loss: 8450.1228 \n",
      "Epoch: 273 loss: 8449.5660 \n",
      "Epoch: 274 loss: 8449.0092 \n",
      "Epoch: 275 loss: 8448.4526 \n",
      "Epoch: 276 loss: 8447.8960 \n",
      "Epoch: 277 loss: 8447.3394 \n",
      "Epoch: 278 loss: 8446.7829 \n",
      "Epoch: 279 loss: 8446.2265 \n",
      "Epoch: 280 loss: 8445.6701 \n",
      "Epoch: 281 loss: 8445.1138 \n",
      "Epoch: 282 loss: 8444.5576 \n",
      "Epoch: 283 loss: 8444.0015 \n",
      "Epoch: 284 loss: 8443.4454 \n",
      "Epoch: 285 loss: 8442.8893 \n",
      "Epoch: 286 loss: 8442.3333 \n",
      "Epoch: 287 loss: 8441.7774 \n",
      "Epoch: 288 loss: 8441.2216 \n",
      "Epoch: 289 loss: 8440.6658 \n",
      "Epoch: 290 loss: 8440.1101 \n",
      "Epoch: 291 loss: 8439.5544 \n",
      "Epoch: 292 loss: 8438.9989 \n",
      "Epoch: 293 loss: 8438.4433 \n",
      "Epoch: 294 loss: 8437.8879 \n",
      "Epoch: 295 loss: 8437.3325 \n",
      "Epoch: 296 loss: 8436.7771 \n",
      "Epoch: 297 loss: 8436.2219 \n",
      "Epoch: 298 loss: 8435.6667 \n",
      "Epoch: 299 loss: 8435.1115 \n",
      "Epoch: 300 loss: 8434.5565 \n"
     ]
    },
    {
     "data": {
      "image/png": "[encoded data removed]",
      "text/plain": [
       "<Figure size 432x288 with 1 Axes>"
      ]
     },
     "metadata": {
      "needs_background": "light"
     },
     "output_type": "display_data"
    }
   ],
   "source": [
    "b, w = gradient_descent(X[:,1] ,Y, learning_rate = 0.000001, iterations = 300)"
   ]
  },
  {
   "cell_type": "code",
   "execution_count": 184,
   "metadata": {},
   "outputs": [
    {
     "data": {
      "image/png": "[encoded data removed]",
      "text/plain": [
       "<Figure size 432x288 with 1 Axes>"
      ]
     },
     "metadata": {
      "needs_background": "light"
     },
     "output_type": "display_data"
    }
   ],
   "source": [
    "plot(X[:,1], Y, b, w)"
   ]
  },
  {
   "cell_type": "code",
   "execution_count": 185,
   "metadata": {},
   "outputs": [
    {
     "name": "stdout",
     "output_type": "stream",
     "text": [
      "[[2.93888937]] [[ 0.04576465]\n",
      " [ 0.18853002]\n",
      " [-0.00103749]]\n"
     ]
    }
   ],
   "source": [
    "b, w = olsm_matrix(X, Y)\n",
    "print(b, w)"
   ]
  },
  {
   "cell_type": "markdown",
   "metadata": {},
   "source": [
    "## 通过鸢尾花认识机器学习的世界"
   ]
  },
  {
   "cell_type": "markdown",
   "metadata": {},
   "source": [
    "### 什么是鸢尾花？"
   ]
  },
  {
   "cell_type": "markdown",
   "metadata": {},
   "source": [
    "鸢尾属（拉丁学名：Iris L.），单子叶植物纲，百合目，鸢尾科多年生草本植物，有块茎或匍匐状根茎；叶剑形，嵌叠状；花美丽，状花序或圆锥花序；花被花瓣状，有一长或短的管，外弯，花柱分枝扩大，花瓣状而有颜色，外展而覆盖着雄蕊；子房下位，胚珠多数，果为蒴果。本属模式种：德国鸢尾（Iris germanica L. ）原产欧洲，中国各地常见栽培。\n",
    "\n",
    "鸢尾属约300种，鸢尾原产于中国中部及日本，少数入药，鸢尾根茎为诱吐剂或缓下剂，具消炎作用。\n",
    "\n",
    "鸢尾花大而美丽，叶片青翠碧绿，观赏价值很高。很多种类供庭园观赏用，在园林中可用作布置花坛，栽植于水湿畦地、池边湖畔，或布置成鸢尾专类花园，亦可作切花及地被植物，是一种重要的庭园植物。"
   ]
  },
  {
   "cell_type": "markdown",
   "metadata": {},
   "source": [
    "<img src='./image/iris.jpg' />"
   ]
  },
  {
   "cell_type": "markdown",
   "metadata": {},
   "source": [
    "鸢尾花主要色彩为蓝紫色，有“蓝色妖姬”的美誉\n",
    "\n",
    "在法国，鸢尾是光明和自由的象征 \n",
    "\n",
    "希腊人常在墓地种植此花，就是希望人死后的灵魂能托付爱丽丝带回天国，这也是花语一“爱的使者”的由来。鸢尾在古埃及代表了“力量”与“雄辩”。 \n",
    "\n",
    "以色列人则普遍认为黄色鸢尾是“黄金”的象征 "
   ]
  },
  {
   "cell_type": "markdown",
   "metadata": {},
   "source": [
    "### 鸢尾花数据的特征？"
   ]
  },
  {
   "cell_type": "markdown",
   "metadata": {},
   "source": [
    "[鸢尾花数据集](https://en.wikipedia.org/wiki/Iris_flower_data_set)非常著名，由Fisher在1936年整理，包含4个特征（Sepal.Length（花萼长度）、Sepal.Width（花萼宽度）、Petal.Length（花瓣长度）、Petal.Width（花瓣宽度）），特征值都为正浮点数，单位为厘米。目标值为鸢尾花的分类（Iris Setosa（山鸢尾）、Iris Versicolour（杂色鸢尾），Iris Virginica（维吉尼亚鸢尾））。"
   ]
  },
  {
   "cell_type": "markdown",
   "metadata": {},
   "source": [
    "最简单获取鸢尾花数据的方式，从Scikit-Learn的datasets模块获取即可："
   ]
  },
  {
   "cell_type": "code",
   "execution_count": null,
   "metadata": {},
   "outputs": [],
   "source": [
    "from sklearn import datasets\n",
    "import pandas as pd\n",
    "iris_datas = datasets.load_iris()"
   ]
  },
  {
   "cell_type": "code",
   "execution_count": null,
   "metadata": {
    "scrolled": false
   },
   "outputs": [],
   "source": [
    "iris = pd.DataFrame(iris_datas.data, columns=['Speal_Length', 'Speal_Width', 'Petal_Length', 'Petal_Width'])\n",
    "iris['Species'] = iris_datas.target\n",
    "iris['Species'].apply(str)\n",
    "for index, row in iris.iterrows():\n",
    "    speciesindex = iris.loc[index, 'Species']\n",
    "    iris.loc[index, 'Species'] = iris_datas.target_names[int(speciesindex)]\n",
    "print(iris.shape)\n",
    "display(iris.head())\n",
    "display(iris.tail())"
   ]
  },
  {
   "cell_type": "code",
   "execution_count": null,
   "metadata": {},
   "outputs": [],
   "source": [
    "import seaborn as sns"
   ]
  },
  {
   "cell_type": "code",
   "execution_count": null,
   "metadata": {
    "scrolled": false
   },
   "outputs": [],
   "source": [
    "sns.pairplot(iris, hue='Species')"
   ]
  },
  {
   "cell_type": "markdown",
   "metadata": {},
   "source": [
    "我们甚至可以直接从SeanBorn这个画图工具，获取鸢尾花数据集"
   ]
  },
  {
   "cell_type": "code",
   "execution_count": null,
   "metadata": {},
   "outputs": [],
   "source": [
    "# 加入ssl，全局取消验证\n",
    "import ssl\n",
    "ssl._create_default_https_context = ssl._create_unverified_context\n",
    "iris = sns.load_dataset(\"iris\")\n",
    "print(iris.shape)\n",
    "display(iris.head())\n",
    "# 绘制特征两两对比的可视化图集\n",
    "sns.pairplot(iris, hue='species');"
   ]
  },
  {
   "cell_type": "markdown",
   "metadata": {},
   "source": [
    "### 根据花瓣长度与花瓣宽度做K-Means聚类"
   ]
  },
  {
   "cell_type": "code",
   "execution_count": null,
   "metadata": {},
   "outputs": [],
   "source": [
    "from sklearn.cluster import KMeans"
   ]
  },
  {
   "cell_type": "code",
   "execution_count": null,
   "metadata": {},
   "outputs": [],
   "source": [
    "sns.lmplot('Petal_Length','Petal_Width',iris,hue='Species', fit_reg=False)"
   ]
  },
  {
   "cell_type": "code",
   "execution_count": null,
   "metadata": {},
   "outputs": [],
   "source": [
    "import matplotlib.pyplot as plt\n",
    "import numpy as np\n",
    "%matplotlib inline\n",
    "X = iris.values[:, :4]\n",
    "X = np.array(X, dtype=float)\n",
    "estimator = KMeans(n_clusters=3)#构造聚类器\n",
    "estimator.fit(X)#聚类\n",
    "label_pred = estimator.labels_ #获取聚类标签\n",
    "\n",
    "# 花瓣长度与宽度是聚类关键\n",
    "drawdata = iris.values[:, 2:4]\n",
    "x0 = drawdata[label_pred == 0]\n",
    "x1 = drawdata[label_pred == 1]\n",
    "x2 = drawdata[label_pred == 2]\n",
    "plt.scatter(x0[:, 0], x0[:, 1], c = \"red\", marker='o', label='label0')\n",
    "plt.scatter(x1[:, 0], x1[:, 1], c = \"green\", marker='*', label='label1')\n",
    "plt.scatter(x2[:, 0], x2[:, 1], c = \"blue\", marker='+', label='label2')\n",
    "plt.xlabel('Petal Length')\n",
    "plt.ylabel('Petal Width')\n",
    "plt.legend(loc=2)\n",
    "plt.show()"
   ]
  },
  {
   "cell_type": "markdown",
   "metadata": {},
   "source": [
    "### 将数据切分为训练集与测试集"
   ]
  },
  {
   "cell_type": "code",
   "execution_count": null,
   "metadata": {},
   "outputs": [],
   "source": [
    "X = iris.values[:, :4]\n",
    "X = np.array(X, dtype=float)\n",
    "print(X[0:10])"
   ]
  },
  {
   "cell_type": "code",
   "execution_count": null,
   "metadata": {},
   "outputs": [],
   "source": [
    "y = iris.values[:, 4]\n",
    "print(y)"
   ]
  },
  {
   "cell_type": "markdown",
   "metadata": {},
   "source": [
    "将分类枚举化"
   ]
  },
  {
   "cell_type": "code",
   "execution_count": null,
   "metadata": {},
   "outputs": [],
   "source": [
    "y = pd.Categorical(y).codes\n",
    "y = np.array(y, dtype=int)\n",
    "print(y)"
   ]
  },
  {
   "cell_type": "markdown",
   "metadata": {},
   "source": [
    "作为监督机器学习的标准，我们将使用一些数据进行培训，并使用其余数据度量模型的性能。\n",
    "\n",
    "这很容易手工完成，但是我们用scikit-learn内置的train_test_split()函数更容易实现。"
   ]
  },
  {
   "cell_type": "code",
   "execution_count": null,
   "metadata": {},
   "outputs": [],
   "source": [
    "from sklearn.model_selection import train_test_split"
   ]
  },
  {
   "cell_type": "code",
   "execution_count": null,
   "metadata": {},
   "outputs": [],
   "source": [
    "train_X, test_X, train_y, test_y = train_test_split(X, \n",
    "                                                    y, \n",
    "                                                    test_size=0.2, \n",
    "                                                    random_state=0)"
   ]
  },
  {
   "cell_type": "markdown",
   "metadata": {},
   "source": [
    "### 多种分类模式"
   ]
  },
  {
   "cell_type": "markdown",
   "metadata": {},
   "source": [
    "#### Logistic回归分类"
   ]
  },
  {
   "cell_type": "markdown",
   "metadata": {},
   "source": [
    "下面的例子，我们将用scikit-learn的Logistic回归进行分类。"
   ]
  },
  {
   "cell_type": "markdown",
   "metadata": {},
   "source": [
    "##### 训练模型"
   ]
  },
  {
   "cell_type": "markdown",
   "metadata": {},
   "source": [
    "其超参数，都将使用内置参数，如同所有的scikit-learn 评估对象，LogisticRegressionCV分类器，有一个.fit()函数，这个函数将尝试训练我们的训练集数据。\n",
    "\n",
    "我们只需要写如下代码："
   ]
  },
  {
   "cell_type": "code",
   "execution_count": null,
   "metadata": {},
   "outputs": [],
   "source": [
    "from sklearn.linear_model import LogisticRegressionCV\n",
    "lr = LogisticRegressionCV()\n",
    "lr.fit(train_X, train_y)"
   ]
  },
  {
   "cell_type": "code",
   "execution_count": null,
   "metadata": {},
   "outputs": [],
   "source": [
    "y_hat = lr.predict([test_X[0]])\n",
    "print('预测分类：{0}'.format(iris_datas.target_names[y_hat[0]]))\n",
    "print('真实分类: {0}'.format(iris_datas.target_names[test_y[0]]))"
   ]
  },
  {
   "cell_type": "markdown",
   "metadata": {},
   "source": [
    "##### 模型序列化"
   ]
  },
  {
   "cell_type": "markdown",
   "metadata": {},
   "source": [
    "训练模型的代码虽然简单，但是建议还是将模型进行储存，需要的时候再进行加载"
   ]
  },
  {
   "cell_type": "code",
   "execution_count": null,
   "metadata": {},
   "outputs": [],
   "source": [
    "from joblib import dump, load"
   ]
  },
  {
   "cell_type": "code",
   "execution_count": null,
   "metadata": {},
   "outputs": [],
   "source": [
    "dump(lr, './output/model/iris.lr.joblib')"
   ]
  },
  {
   "cell_type": "code",
   "execution_count": null,
   "metadata": {},
   "outputs": [],
   "source": [
    "newlr = load('./output/model/iris.lr.joblib')"
   ]
  },
  {
   "cell_type": "markdown",
   "metadata": {},
   "source": [
    "然后，我们再预测一下鸢尾花数据哈"
   ]
  },
  {
   "cell_type": "code",
   "execution_count": null,
   "metadata": {},
   "outputs": [],
   "source": [
    "y_hat = newlr.predict([test_X[2]])\n",
    "print('预测分类：{0}'.format(iris_datas.target_names[y_hat[0]]))\n",
    "print('真实分类: {0}'.format(iris_datas.target_names[test_y[2]]))"
   ]
  },
  {
   "cell_type": "markdown",
   "metadata": {},
   "source": [
    "##### 通过内置的score函数，获取模型准确率"
   ]
  },
  {
   "cell_type": "code",
   "execution_count": null,
   "metadata": {},
   "outputs": [],
   "source": [
    "print(\"Accuracy = {:.2f}\".format(newlr.score(test_X, test_y)))"
   ]
  },
  {
   "cell_type": "markdown",
   "metadata": {},
   "source": [
    "##### 解释模型输出中各特征的重要程度"
   ]
  },
  {
   "cell_type": "markdown",
   "metadata": {},
   "source": [
    ">[Shap](https://github.com/slundberg/shap)is a unified approach to explain the output of any machine learning model. SHAP connects game theory with local explanations, uniting several previous methods [1-7] and representing the only possible consistent and locally accurate additive feature attribution method based on expectations"
   ]
  },
  {
   "cell_type": "code",
   "execution_count": null,
   "metadata": {},
   "outputs": [],
   "source": [
    "import numpy as np\n",
    "import shap\n",
    "import time"
   ]
  },
  {
   "cell_type": "code",
   "execution_count": null,
   "metadata": {},
   "outputs": [],
   "source": [
    "shap.initjs()"
   ]
  },
  {
   "cell_type": "code",
   "execution_count": null,
   "metadata": {},
   "outputs": [],
   "source": [
    "test_X_df = pd.DataFrame(test_X)\n",
    "test_X_df.columns = ['sepal_length', 'sepal_width', 'petal_length', 'petal_width']"
   ]
  },
  {
   "cell_type": "code",
   "execution_count": null,
   "metadata": {},
   "outputs": [],
   "source": [
    "explainer = shap.KernelExplainer(newlr.predict_proba, train_X)\n",
    "shap_values = explainer.shap_values(test_X_df)\n",
    "shap.force_plot(explainer.expected_value[0], shap_values[0], test_X_df)"
   ]
  },
  {
   "cell_type": "markdown",
   "metadata": {},
   "source": [
    "判断某一条数据分类的依据："
   ]
  },
  {
   "cell_type": "code",
   "execution_count": null,
   "metadata": {},
   "outputs": [],
   "source": [
    "shap_values = explainer.shap_values(test_X_df.iloc[8,:])\n",
    "shap.force_plot(explainer.expected_value[0], shap_values[0], test_X_df.iloc[8,:])"
   ]
  },
  {
   "cell_type": "markdown",
   "metadata": {},
   "source": [
    "#### K-近邻分类"
   ]
  },
  {
   "cell_type": "code",
   "execution_count": null,
   "metadata": {},
   "outputs": [],
   "source": [
    "from sklearn.neighbors import KNeighborsClassifier\n",
    "knn = KNeighborsClassifier()\n",
    "knn.fit(train_X, train_y)\n",
    "print(\"Accuracy = {:.2f}\".format(knn.score(test_X, test_y)))\n",
    "print(knn.predict([test_X[0]]), test_y[0])"
   ]
  },
  {
   "cell_type": "markdown",
   "metadata": {},
   "source": [
    "##### 通过一个测试数据解释K近邻模型中的特征"
   ]
  },
  {
   "cell_type": "code",
   "execution_count": null,
   "metadata": {},
   "outputs": [],
   "source": [
    "explainer = shap.KernelExplainer(knn.predict_proba, train_X)\n",
    "shap_values = explainer.shap_values(test_X_df.iloc[0,:])\n",
    "shap.force_plot(explainer.expected_value[0], shap_values[0], test_X_df.iloc[0,:])"
   ]
  },
  {
   "cell_type": "markdown",
   "metadata": {},
   "source": [
    "##### 解释所有测试数据的特征"
   ]
  },
  {
   "cell_type": "code",
   "execution_count": null,
   "metadata": {},
   "outputs": [],
   "source": [
    "shap_values = explainer.shap_values(test_X_df)\n",
    "shap.force_plot(explainer.expected_value[0], shap_values[0], test_X_df)"
   ]
  },
  {
   "cell_type": "markdown",
   "metadata": {},
   "source": [
    "#### SVM (支持向量机)，使用线性核"
   ]
  },
  {
   "cell_type": "markdown",
   "metadata": {},
   "source": [
    "下面的代码使用线性核，对鸢尾花进行分类"
   ]
  },
  {
   "cell_type": "code",
   "execution_count": null,
   "metadata": {},
   "outputs": [],
   "source": [
    "from sklearn.svm import SVC\n",
    "svc_linear = SVC(kernel='linear', probability=True)\n",
    "svc_linear.fit(train_X, train_y)\n",
    "print(\"Accuracy = {:.2f}\".format(svc_linear.score(test_X, test_y)))\n",
    "print(svc_linear.predict([test_X[0]]), test_y[0])"
   ]
  },
  {
   "cell_type": "markdown",
   "metadata": {},
   "source": [
    "##### 解释所有测试数据的特征"
   ]
  },
  {
   "cell_type": "code",
   "execution_count": null,
   "metadata": {},
   "outputs": [],
   "source": [
    "explainer = shap.KernelExplainer(svc_linear.predict_proba, train_X)\n",
    "shap_values = explainer.shap_values(test_X_df)\n",
    "shap.force_plot(explainer.expected_value[0], shap_values[0], test_X_df)"
   ]
  },
  {
   "cell_type": "markdown",
   "metadata": {},
   "source": [
    "#### SVM (支持向量机)，使用径向基函数核(radial basis function kernel)"
   ]
  },
  {
   "cell_type": "code",
   "execution_count": null,
   "metadata": {},
   "outputs": [],
   "source": [
    "svc_rbf = SVC(kernel='rbf', probability=True)\n",
    "svc_rbf.fit(train_X, train_y)\n",
    "print(\"Accuracy = {:.2f}\".format(svc_rbf.score(test_X, test_y)))\n",
    "print(svc_rbf.predict([test_X[0]]), test_y[0])"
   ]
  },
  {
   "cell_type": "markdown",
   "metadata": {},
   "source": [
    "##### 解释所有测试数据的特征"
   ]
  },
  {
   "cell_type": "code",
   "execution_count": null,
   "metadata": {},
   "outputs": [],
   "source": [
    "explainer = shap.KernelExplainer(svc_rbf.predict_proba, train_X)\n",
    "shap_values = explainer.shap_values(test_X_df)\n",
    "shap.force_plot(explainer.expected_value[0], shap_values[0], test_X_df)"
   ]
  },
  {
   "cell_type": "markdown",
   "metadata": {},
   "source": [
    "#### 决策树"
   ]
  },
  {
   "cell_type": "code",
   "execution_count": null,
   "metadata": {},
   "outputs": [],
   "source": [
    "import sklearn.tree\n",
    "dtree = sklearn.tree.DecisionTreeClassifier(min_samples_split=2)\n",
    "dtree.fit(train_X, train_y)\n",
    "print(\"Accuracy = {:.2f}\".format(dtree.score(test_X, test_y)))\n",
    "print(dtree.predict([test_X[0]]), test_y[0])"
   ]
  },
  {
   "cell_type": "markdown",
   "metadata": {},
   "source": [
    "##### 解释所有测试数据的特征"
   ]
  },
  {
   "cell_type": "code",
   "execution_count": null,
   "metadata": {},
   "outputs": [],
   "source": [
    "explainer = shap.KernelExplainer(dtree.predict_proba, train_X)\n",
    "shap_values = explainer.shap_values(test_X_df)\n",
    "shap.force_plot(explainer.expected_value[0], shap_values[0], test_X_df)"
   ]
  },
  {
   "cell_type": "markdown",
   "metadata": {},
   "source": [
    "#### 随机森林"
   ]
  },
  {
   "cell_type": "code",
   "execution_count": null,
   "metadata": {},
   "outputs": [],
   "source": [
    "from sklearn.ensemble import RandomForestClassifier\n",
    "rforest = RandomForestClassifier(n_estimators=100, max_depth=None, min_samples_split=2, random_state=0)\n",
    "rforest.fit(train_X, train_y)\n",
    "print(\"Accuracy = {:.2f}\".format(rforest.score(test_X, test_y)))\n",
    "print(rforest.predict([test_X[0]]), test_y[0])"
   ]
  },
  {
   "cell_type": "markdown",
   "metadata": {},
   "source": [
    "##### 解释所有测试数据的特征"
   ]
  },
  {
   "cell_type": "code",
   "execution_count": null,
   "metadata": {},
   "outputs": [],
   "source": [
    "explainer = shap.KernelExplainer(rforest.predict_proba, train_X)\n",
    "shap_values = explainer.shap_values(test_X_df)\n",
    "shap.force_plot(explainer.expected_value[0], shap_values[0], test_X_df)"
   ]
  },
  {
   "cell_type": "markdown",
   "metadata": {},
   "source": [
    "#### 神经网络-多层感知机(multi-layer perceptron, MLP)"
   ]
  },
  {
   "cell_type": "code",
   "execution_count": null,
   "metadata": {},
   "outputs": [],
   "source": [
    "from sklearn.neural_network import MLPClassifier\n",
    "nn = MLPClassifier(solver='lbfgs', alpha=1e-1, hidden_layer_sizes=(5, 2), random_state=0)\n",
    "nn.fit(train_X, train_y)\n",
    "print(\"Accuracy = {:.2f}\".format(nn.score(test_X, test_y)))\n",
    "print(nn.predict([test_X[0]]), test_y[0])"
   ]
  },
  {
   "cell_type": "markdown",
   "metadata": {},
   "source": [
    "##### 解释所有测试数据的特征"
   ]
  },
  {
   "cell_type": "code",
   "execution_count": null,
   "metadata": {},
   "outputs": [],
   "source": [
    "explainer = shap.KernelExplainer(nn.predict_proba, train_X)\n",
    "shap_values = explainer.shap_values(test_X_df)\n",
    "shap.force_plot(explainer.expected_value[0], shap_values[0], test_X_df)"
   ]
  },
  {
   "cell_type": "markdown",
   "metadata": {},
   "source": [
    "#### XGBoost"
   ]
  },
  {
   "cell_type": "markdown",
   "metadata": {},
   "source": [
    "对于二维特征表数据进行分类，一般尝试随机森林或者XGBoost，效果一般不会太差。"
   ]
  },
  {
   "cell_type": "code",
   "execution_count": null,
   "metadata": {},
   "outputs": [],
   "source": [
    "import xgboost\n",
    "import numpy as np"
   ]
  },
  {
   "cell_type": "code",
   "execution_count": null,
   "metadata": {},
   "outputs": [],
   "source": [
    "X_train,X_test,Y_train,Y_test = train_test_split(*shap.datasets.iris(), \n",
    "                                                 test_size=0.2, \n",
    "                                                 random_state=0)\n",
    "xgmodel = xgboost.XGBClassifier(objective=\"binary:logistic\", max_depth=4, n_estimators=10)\n",
    "xgmodel.fit(X_train, Y_train)"
   ]
  },
  {
   "cell_type": "code",
   "execution_count": null,
   "metadata": {},
   "outputs": [],
   "source": [
    "X_train[0:5]"
   ]
  },
  {
   "cell_type": "code",
   "execution_count": null,
   "metadata": {},
   "outputs": [],
   "source": [
    "print(\"Accuracy = {:.2f}\".format(xgmodel.score(X_test, Y_test)))\n",
    "print()\n",
    "print(X_test[0:1])\n",
    "print(xgmodel.predict(X_test), Y_test)\n",
    "print(xgmodel.predict(X_test[0:2]), Y_test[:2])"
   ]
  },
  {
   "cell_type": "markdown",
   "metadata": {},
   "source": [
    "##### 通过Shap解释XGBoost中的特征权重"
   ]
  },
  {
   "cell_type": "code",
   "execution_count": null,
   "metadata": {},
   "outputs": [],
   "source": [
    "shap_values = shap.TreeExplainer(xgmodel).shap_values(X_test)\n",
    "shap.summary_plot(shap_values, X_test)"
   ]
  },
  {
   "cell_type": "code",
   "execution_count": null,
   "metadata": {},
   "outputs": [],
   "source": [
    "import pandas as pd\n",
    "iris = pd.read_csv(\"./iris.csv\") # 加载数据集合\n",
    "\n",
    "%matplotlib inline\n",
    "import seaborn as sns\n",
    "sns.pairplot(iris,hue='species') # 输出 pairplot\n",
    "\n",
    "# 可以看到在尺寸上，三种花具有顺序关系：\n",
    "# Iris-setosa(蓝色) < Iris-versicolor < Iris-virginica\n",
    "def species_to_id(species_name: str):\n",
    "    dic = {\"Iris-setosa\": 0, \"Iris-versicolor\": 1, \"Iris-virginica\": 2}\n",
    "    return dic[species_name]\n",
    "\n",
    "iris[\"species\"] = iris[\"species\"].map(species_to_id)\n",
    "print(iris.head(1)) # 输出第一行进行检查\n",
    "\n",
    "from sklearn.linear_model import LinearRegression\n",
    "from sklearn.model_selection import train_test_split\n",
    "X = iris[[\"sepal_length\", \"sepal_width\", \"petal_length\", \"petal_width\"]]\n",
    "y = iris[\"species\"]\n",
    "X_train, X_test, y_train, y_test = train_test_split(X, y, test_size=0.3, random_state=42,stratify=y) # 划分测试集\n",
    "\n",
    "lm = LinearRegression()\n",
    "lm.fit(X_train, y_train) # 进行线性回归\n",
    "print(\"截距为：\", lm.intercept_) # 常数项\n",
    "pd.DataFrame([X.columns, lm.coef_]) # 各项系数\n",
    "\n",
    "def to_regular(vals : float):\n",
    "    if vals <= 0:\n",
    "        return 0\n",
    "    elif vals >= 2:\n",
    "        return 2\n",
    "    else:\n",
    "        return int(round(vals)) # 四舍五入\n",
    "predict_y = lm.predict(X_test) # 生成预测向量\n",
    "predict_y = [to_regular(x) for x in predict_y]\n",
    "\n",
    "from sklearn import metrics\n",
    "print (metrics.classification_report(y_test,predict_y)) # 输出分析\n",
    "\n",
    "import matplotlib.pyplot as plt\n",
    "plt.scatter(lm.predict(X_test), lm.predict(X_test) - y_test, c=\"g\", alpha=0.5)\n",
    "plt.hlines(y=0, xmin=0, xmax=2)\n",
    "plt.ylabel(\"Residuals\")\n"
   ]
  }
 ],
 "metadata": {
  "kernelspec": {
   "display_name": "Python 3 (ipykernel)",
   "language": "python",
   "name": "python3"
  },
  "language_info": {
   "codemirror_mode": {
    "name": "ipython",
    "version": 3
   },
   "file_extension": ".py",
   "mimetype": "text/x-python",
   "name": "python",
   "nbconvert_exporter": "python",
   "pygments_lexer": "ipython3",
   "version": "3.9.12"
  },
  "latex_envs": {
   "LaTeX_envs_menu_present": true,
   "autoclose": false,
   "autocomplete": true,
   "bibliofile": "biblio.bib",
   "cite_by": "apalike",
   "current_citInitial": 1,
   "eqLabelWithNumbers": true,
   "eqNumInitial": 1,
   "hotkeys": {
    "equation": "Ctrl-E",
    "itemize": "Ctrl-I"
   },
   "labels_anchors": false,
   "latex_user_defs": false,
   "report_style_numbering": false,
   "user_envs_cfg": false
  },
  "toc": {
   "base_numbering": 1,
   "nav_menu": {},
   "number_sections": true,
   "sideBar": true,
   "skip_h1_title": false,
   "title_cell": "Table of Contents",
   "title_sidebar": "Contents",
   "toc_cell": false,
   "toc_position": {
    "height": "calc(100% - 180px)",
    "left": "10px",
    "top": "150px",
    "width": "457.045px"
   },
   "toc_section_display": true,
   "toc_window_display": false
  }
 },
 "nbformat": 4,
 "nbformat_minor": 2
}
